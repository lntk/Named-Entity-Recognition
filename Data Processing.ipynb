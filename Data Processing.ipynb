{
 "cells": [
  {
   "cell_type": "code",
   "execution_count": 2,
   "metadata": {},
   "outputs": [],
   "source": [
    "# ignore warning\n",
    "def warn(*args, **kwargs):\n",
    "    pass\n",
    "import warnings\n",
    "warnings.warn = warn\n",
    "\n",
    "import pandas as pd\n",
    "from underthesea import pos_tag"
   ]
  },
  {
   "cell_type": "code",
   "execution_count": 3,
   "metadata": {},
   "outputs": [],
   "source": [
    "def read_lines(data_file):\n",
    "    with open(data_file, encoding='utf8') as f:\n",
    "        content = f.readlines()\n",
    "    content = [x.strip() for x in content]\n",
    "    return content"
   ]
  },
  {
   "cell_type": "code",
   "execution_count": 16,
   "metadata": {},
   "outputs": [],
   "source": [
    "# CSV Processing\n",
    "# Raw text to CSV file\n",
    "import csv\n",
    "\n",
    "content = read_lines(\"data/data_ner_stanford_train-vlsp.txt\")\n",
    "sentence_id = 1\n",
    "with open('data/ner_dataset.csv', encoding='utf8', mode='w') as data_file:\n",
    "    fieldnames = ['Sentence #', 'Word', 'Tag']\n",
    "    writer = csv.DictWriter(data_file, fieldnames=fieldnames)\n",
    "    writer.writeheader()\n",
    "    for line in content:\n",
    "        if line is None:\n",
    "            sentence_id += 1\n",
    "            continue\n",
    "        tokens = line.split('\\t')\n",
    "        if len(tokens) < 2: \n",
    "            sentence_id += 1\n",
    "            continue\n",
    "        word, tag = tokens \n",
    "        writer.writerow({'Sentence #': \"Sentence: \" + str(sentence_id), 'Word': word, 'Tag': tag})"
   ]
  },
  {
   "cell_type": "code",
   "execution_count": null,
   "metadata": {},
   "outputs": [],
   "source": [
    "def add_column_to_csv(file_name, new_column, column_name='DEFAULT'):\n",
    "    df = pd.read_csv(file_name, encoding='utf-8')\n",
    "    df[column_name] = df[df.keys()[0]]\n",
    "    df[column_name] = new_column\n",
    "    df.to_csv(file_name)"
   ]
  },
  {
   "cell_type": "code",
   "execution_count": 5,
   "metadata": {},
   "outputs": [
    {
     "data": {
      "text/plain": [
       "[('Ông', 'Nc'),\n",
       " ('Trương', 'Np'),\n",
       " ('Thạc', 'Np'),\n",
       " ('Thống', 'Np'),\n",
       " ('cho rằng', 'V'),\n",
       " (',', 'CH'),\n",
       " ('nếu', 'C'),\n",
       " ('một', 'M'),\n",
       " ('ngày', 'N'),\n",
       " ('không', 'R'),\n",
       " ('được', 'V'),\n",
       " (',', 'CH'),\n",
       " ('thì', 'C'),\n",
       " ('làm', 'V'),\n",
       " ('hai', 'M'),\n",
       " ('ngày', 'N'),\n",
       " ('.', 'CH')]"
      ]
     },
     "execution_count": 5,
     "metadata": {},
     "output_type": "execute_result"
    }
   ],
   "source": [
    "pos_tag(\"Ông Trương Thạc Thống cho rằng \")"
   ]
  },
  {
   "cell_type": "code",
   "execution_count": null,
   "metadata": {},
   "outputs": [],
   "source": []
  }
 ],
 "metadata": {
  "kernelspec": {
   "display_name": "Python 3",
   "language": "python",
   "name": "python3"
  },
  "language_info": {
   "codemirror_mode": {
    "name": "ipython",
    "version": 3
   },
   "file_extension": ".py",
   "mimetype": "text/x-python",
   "name": "python",
   "nbconvert_exporter": "python",
   "pygments_lexer": "ipython3",
   "version": "3.5.4"
  }
 },
 "nbformat": 4,
 "nbformat_minor": 2
}
