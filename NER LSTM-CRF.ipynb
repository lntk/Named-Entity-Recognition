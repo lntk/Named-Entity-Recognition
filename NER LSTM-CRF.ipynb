{
 "cells": [
  {
   "cell_type": "code",
   "execution_count": 1,
   "metadata": {
    "collapsed": true
   },
   "outputs": [],
   "source": [
    "# ignore warning\n",
    "def warn(*args, **kwargs):\n",
    "    pass\n",
    "import warnings\n",
    "warnings.warn = warn"
   ]
  },
  {
   "cell_type": "code",
   "execution_count": 2,
   "metadata": {
    "collapsed": true
   },
   "outputs": [],
   "source": [
    "import pandas as pd\n",
    "import numpy as np\n",
    "from sklearn.ensemble import RandomForestClassifier\n",
    "from sklearn.preprocessing import LabelEncoder\n",
    "from sklearn.base import BaseEstimator, TransformerMixin\n",
    "from sklearn.cross_validation import cross_val_predict\n",
    "from sklearn.metrics import classification_report\n",
    "from sklearn.pipeline import Pipeline\n",
    "from sklearn_crfsuite import CRF\n",
    "from sklearn_crfsuite.metrics import flat_classification_report\n",
    "import eli5"
   ]
  },
  {
   "cell_type": "code",
   "execution_count": 3,
   "metadata": {},
   "outputs": [
    {
     "data": {
      "text/html": [
       "<div>\n",
       "<style>\n",
       "    .dataframe thead tr:only-child th {\n",
       "        text-align: right;\n",
       "    }\n",
       "\n",
       "    .dataframe thead th {\n",
       "        text-align: left;\n",
       "    }\n",
       "\n",
       "    .dataframe tbody tr th {\n",
       "        vertical-align: top;\n",
       "    }\n",
       "</style>\n",
       "<table border=\"1\" class=\"dataframe\">\n",
       "  <thead>\n",
       "    <tr style=\"text-align: right;\">\n",
       "      <th></th>\n",
       "      <th>Sentence #</th>\n",
       "      <th>Word</th>\n",
       "      <th>Tag</th>\n",
       "    </tr>\n",
       "  </thead>\n",
       "  <tbody>\n",
       "    <tr>\n",
       "      <th>369382</th>\n",
       "      <td>Sentence: 16858</td>\n",
       "      <td>vùng</td>\n",
       "      <td>O</td>\n",
       "    </tr>\n",
       "    <tr>\n",
       "      <th>369383</th>\n",
       "      <td>Sentence: 16858</td>\n",
       "      <td>chôn_cất</td>\n",
       "      <td>O</td>\n",
       "    </tr>\n",
       "    <tr>\n",
       "      <th>369384</th>\n",
       "      <td>Sentence: 16858</td>\n",
       "      <td>người_thân</td>\n",
       "      <td>O</td>\n",
       "    </tr>\n",
       "    <tr>\n",
       "      <th>369385</th>\n",
       "      <td>Sentence: 16858</td>\n",
       "      <td>khi</td>\n",
       "      <td>O</td>\n",
       "    </tr>\n",
       "    <tr>\n",
       "      <th>369386</th>\n",
       "      <td>Sentence: 16858</td>\n",
       "      <td>qua_đời</td>\n",
       "      <td>O</td>\n",
       "    </tr>\n",
       "    <tr>\n",
       "      <th>369387</th>\n",
       "      <td>Sentence: 16858</td>\n",
       "      <td>,</td>\n",
       "      <td>O</td>\n",
       "    </tr>\n",
       "    <tr>\n",
       "      <th>369388</th>\n",
       "      <td>Sentence: 16858</td>\n",
       "      <td>gọi</td>\n",
       "      <td>O</td>\n",
       "    </tr>\n",
       "    <tr>\n",
       "      <th>369389</th>\n",
       "      <td>Sentence: 16858</td>\n",
       "      <td>là</td>\n",
       "      <td>O</td>\n",
       "    </tr>\n",
       "    <tr>\n",
       "      <th>369390</th>\n",
       "      <td>Sentence: 16858</td>\n",
       "      <td>nhị_tì</td>\n",
       "      <td>O</td>\n",
       "    </tr>\n",
       "    <tr>\n",
       "      <th>369391</th>\n",
       "      <td>Sentence: 16858</td>\n",
       "      <td>...</td>\n",
       "      <td>O</td>\n",
       "    </tr>\n",
       "  </tbody>\n",
       "</table>\n",
       "</div>"
      ],
      "text/plain": [
       "             Sentence #        Word Tag\n",
       "369382  Sentence: 16858        vùng   O\n",
       "369383  Sentence: 16858    chôn_cất   O\n",
       "369384  Sentence: 16858  người_thân   O\n",
       "369385  Sentence: 16858         khi   O\n",
       "369386  Sentence: 16858     qua_đời   O\n",
       "369387  Sentence: 16858           ,   O\n",
       "369388  Sentence: 16858         gọi   O\n",
       "369389  Sentence: 16858          là   O\n",
       "369390  Sentence: 16858      nhị_tì   O\n",
       "369391  Sentence: 16858         ...   O"
      ]
     },
     "execution_count": 3,
     "metadata": {},
     "output_type": "execute_result"
    }
   ],
   "source": [
    "data = pd.read_csv(\"data/ner_dataset.csv\", encoding=\"utf-8\")\n",
    "data = data.fillna(method=\"ffill\")\n",
    "data.tail(10)"
   ]
  },
  {
   "cell_type": "code",
   "execution_count": 4,
   "metadata": {},
   "outputs": [
    {
     "data": {
      "text/plain": [
       "19152"
      ]
     },
     "execution_count": 4,
     "metadata": {},
     "output_type": "execute_result"
    }
   ],
   "source": [
    "words = list(set(data[\"Word\"].values))\n",
    "words.append(\"ENDPAD\")\n",
    "n_words = len(words); n_words"
   ]
  },
  {
   "cell_type": "code",
   "execution_count": 5,
   "metadata": {},
   "outputs": [
    {
     "data": {
      "text/plain": [
       "5"
      ]
     },
     "execution_count": 5,
     "metadata": {},
     "output_type": "execute_result"
    }
   ],
   "source": [
    "tags = list(set(data[\"Tag\"].values))\n",
    "n_tags = len(tags); n_tags"
   ]
  },
  {
   "cell_type": "code",
   "execution_count": 6,
   "metadata": {
    "collapsed": true
   },
   "outputs": [],
   "source": [
    "class SentenceGetter(object):\n",
    "    \n",
    "    def __init__(self, data):\n",
    "        self.n_sent = 1\n",
    "        self.data = data\n",
    "        self.empty = False\n",
    "        agg_func = lambda s: [(w, t) for w, t in zip(s[\"Word\"].values.tolist(), s[\"Tag\"].values.tolist())]\n",
    "        self.grouped = self.data.groupby(\"Sentence #\").apply(agg_func)\n",
    "        self.sentences = [s for s in self.grouped]\n",
    "    \n",
    "    def get_next(self):\n",
    "        try:\n",
    "            s = self.grouped[\"Sentence: {}\".format(self.n_sent)]\n",
    "            self.n_sent += 1\n",
    "            return s\n",
    "        except:\n",
    "            return None"
   ]
  },
  {
   "cell_type": "code",
   "execution_count": 7,
   "metadata": {},
   "outputs": [
    {
     "name": "stdout",
     "output_type": "stream",
     "text": [
      "[('Đó', 'O'), ('là', 'O'), ('con', 'O'), ('đường', 'O'), ('biển', 'O'), ('ngắn', 'O'), ('nhất', 'O'), ('để', 'O'), ('đi', 'O'), ('từ', 'O'), ('Ấn_Độ_Dương', 'LOCATION'), ('sang', 'O'), ('Thái_Bình_Dương', 'LOCATION'), (',', 'O'), ('chiếm', 'O'), ('đến', 'O'), ('lượng', 'O'), ('hàng_hoá', 'O'), ('lưu_thông', 'O'), ('đường_biển', 'O'), ('của', 'O'), ('thế_giới', 'O'), (',', 'O'), ('đó', 'O'), ('là', 'O'), ('hải_trình', 'O'), ('lớn', 'O'), ('nhất', 'O'), ('từ', 'O'), ('tây', 'O'), ('sang', 'O'), ('đông', 'O'), ('với', 'O'), ('50.000', 'O'), ('lượt', 'O'), ('tàu_bè', 'O'), ('qua_lại', 'O'), ('mỗi', 'O'), ('năm', 'O'), ('...', 'O')]\n"
     ]
    }
   ],
   "source": [
    "getter = SentenceGetter(data)\n",
    "sent = getter.get_next()\n",
    "print(sent)"
   ]
  },
  {
   "cell_type": "code",
   "execution_count": 8,
   "metadata": {
    "collapsed": true
   },
   "outputs": [],
   "source": [
    "sentences = getter.sentences"
   ]
  },
  {
   "cell_type": "code",
   "execution_count": 12,
   "metadata": {
    "collapsed": true
   },
   "outputs": [],
   "source": [
    "max_len = 75\n",
    "word2idx = {w: i + 1 for i, w in enumerate(words)}\n",
    "tag2idx = {t: i for i, t in enumerate(tags)}"
   ]
  },
  {
   "cell_type": "code",
   "execution_count": 13,
   "metadata": {},
   "outputs": [
    {
     "data": {
      "text/plain": [
       "14184"
      ]
     },
     "execution_count": 13,
     "metadata": {},
     "output_type": "execute_result"
    }
   ],
   "source": [
    "word2idx[\"cửa_hàng\"]"
   ]
  },
  {
   "cell_type": "code",
   "execution_count": 15,
   "metadata": {},
   "outputs": [
    {
     "data": {
      "text/plain": [
       "4"
      ]
     },
     "execution_count": 15,
     "metadata": {},
     "output_type": "execute_result"
    }
   ],
   "source": [
    "tag2idx[\"LOCATION\"]"
   ]
  },
  {
   "cell_type": "code",
   "execution_count": 16,
   "metadata": {},
   "outputs": [
    {
     "name": "stderr",
     "output_type": "stream",
     "text": [
      "Using TensorFlow backend.\n"
     ]
    }
   ],
   "source": [
    "from keras.preprocessing.sequence import pad_sequences\n",
    "X = [[word2idx[w[0]] for w in s] for s in sentences]"
   ]
  },
  {
   "cell_type": "code",
   "execution_count": 18,
   "metadata": {},
   "outputs": [],
   "source": [
    "X = pad_sequences(maxlen=max_len, sequences=X, padding=\"post\", value=n_words-1)\n",
    "y = [[tag2idx[w[1]] for w in s] for s in sentences]\n",
    "y = pad_sequences(maxlen=max_len, sequences=y, padding=\"post\", value=tag2idx[\"O\"])"
   ]
  },
  {
   "cell_type": "code",
   "execution_count": 19,
   "metadata": {
    "collapsed": true
   },
   "outputs": [],
   "source": [
    "from keras.utils import to_categorical\n",
    "\n",
    "y = [to_categorical(i, num_classes=n_tags) for i in y]"
   ]
  },
  {
   "cell_type": "code",
   "execution_count": 20,
   "metadata": {
    "collapsed": true
   },
   "outputs": [],
   "source": [
    "from sklearn.model_selection import train_test_split\n",
    "\n",
    "X_tr, X_te, y_tr, y_te = train_test_split(X, y, test_size=0.1)"
   ]
  },
  {
   "cell_type": "code",
   "execution_count": 24,
   "metadata": {},
   "outputs": [
    {
     "name": "stdout",
     "output_type": "stream",
     "text": [
      "_________________________________________________________________\n",
      "Layer (type)                 Output Shape              Param #   \n",
      "=================================================================\n",
      "input_1 (InputLayer)         (None, 75)                0         \n",
      "_________________________________________________________________\n",
      "embedding_1 (Embedding)      (None, 75, 20)            383060    \n",
      "_________________________________________________________________\n",
      "bidirectional_1 (Bidirection (None, 75, 100)           28400     \n",
      "_________________________________________________________________\n",
      "time_distributed_1 (TimeDist (None, 75, 50)            5050      \n",
      "_________________________________________________________________\n",
      "crf_1 (CRF)                  (None, 75, 5)             290       \n",
      "=================================================================\n",
      "Total params: 416,800\n",
      "Trainable params: 416,800\n",
      "Non-trainable params: 0\n",
      "_________________________________________________________________\n"
     ]
    }
   ],
   "source": [
    "from keras.models import Model, Input\n",
    "from keras.layers import LSTM, Embedding, Dense, TimeDistributed, Dropout, Bidirectional\n",
    "from keras_contrib.layers import CRF\n",
    "# fix issue here: https://github.com/ekholabs/keras-contrib/commit/0dac2da8a19f34946448121c6b9c8535bfb22ce2#diff-0970ecd5f755557421e7ba7716bdfd6a\n",
    "\n",
    "input = Input(shape=(max_len,))\n",
    "model = Embedding(input_dim=n_words + 1, output_dim=20,\n",
    "                  input_length=max_len, mask_zero=True)(input)  # 20-dim embedding\n",
    "model = Bidirectional(LSTM(units=50, return_sequences=True,\n",
    "                           recurrent_dropout=0.1))(model)  # variational biLSTM\n",
    "model = TimeDistributed(Dense(50, activation=\"relu\"))(model)  # a dense layer as suggested by neuralNer\n",
    "crf = CRF(n_tags)  # CRF layer\n",
    "out = crf(model)  # output\n",
    "\n",
    "model = Model(input, out)\n",
    "model.compile(optimizer=\"rmsprop\", loss=crf.loss_function, metrics=[crf.accuracy])\n",
    "model.summary()"
   ]
  },
  {
   "cell_type": "code",
   "execution_count": 25,
   "metadata": {},
   "outputs": [
    {
     "name": "stdout",
     "output_type": "stream",
     "text": [
      "Train on 13654 samples, validate on 1518 samples\n",
      "Epoch 1/5\n"
     ]
    },
    {
     "name": "stdout",
     "output_type": "stream",
     "text": [
      " 6592/13654 [=============>................] - ETA: 37:54 - loss: 1.1302 - acc: 0.00 - ETA: 19:34 - loss: 1.1025 - acc: 0.00 - ETA: 13:25 - loss: 1.0754 - acc: 0.00 - ETA: 10:22 - loss: 1.0437 - acc: 0.22 - ETA: 8:31 - loss: 1.0067 - acc: 0.3748 - ETA: 7:18 - loss: 0.9590 - acc: 0.474 - ETA: 6:24 - loss: 0.8788 - acc: 0.548 - ETA: 5:45 - loss: 0.7853 - acc: 0.603 - ETA: 5:14 - loss: 0.7097 - acc: 0.645 - ETA: 4:49 - loss: 0.6478 - acc: 0.679 - ETA: 4:29 - loss: 0.5986 - acc: 0.707 - ETA: 4:12 - loss: 0.5584 - acc: 0.730 - ETA: 3:58 - loss: 0.5213 - acc: 0.750 - ETA: 3:45 - loss: 0.4916 - acc: 0.766 - ETA: 3:34 - loss: 0.4656 - acc: 0.780 - ETA: 3:25 - loss: 0.4442 - acc: 0.793 - ETA: 3:16 - loss: 0.4248 - acc: 0.804 - ETA: 3:09 - loss: 0.4048 - acc: 0.814 - ETA: 3:02 - loss: 0.3878 - acc: 0.823 - ETA: 2:56 - loss: 0.3709 - acc: 0.831 - ETA: 2:51 - loss: 0.3571 - acc: 0.838 - ETA: 2:46 - loss: 0.3448 - acc: 0.845 - ETA: 2:41 - loss: 0.3328 - acc: 0.851 - ETA: 2:37 - loss: 0.3224 - acc: 0.857 - ETA: 2:33 - loss: 0.3129 - acc: 0.862 - ETA: 2:30 - loss: 0.3046 - acc: 0.866 - ETA: 2:27 - loss: 0.2973 - acc: 0.870 - ETA: 2:24 - loss: 0.2897 - acc: 0.874 - ETA: 2:21 - loss: 0.2820 - acc: 0.878 - ETA: 2:18 - loss: 0.2759 - acc: 0.882 - ETA: 2:16 - loss: 0.2698 - acc: 0.885 - ETA: 2:13 - loss: 0.2635 - acc: 0.888 - ETA: 2:11 - loss: 0.2587 - acc: 0.891 - ETA: 2:09 - loss: 0.2543 - acc: 0.893 - ETA: 2:07 - loss: 0.2496 - acc: 0.896 - ETA: 2:05 - loss: 0.2449 - acc: 0.898 - ETA: 2:04 - loss: 0.2406 - acc: 0.901 - ETA: 2:02 - loss: 0.2362 - acc: 0.903 - ETA: 2:00 - loss: 0.2326 - acc: 0.905 - ETA: 1:58 - loss: 0.2284 - acc: 0.907 - ETA: 1:57 - loss: 0.2255 - acc: 0.909 - ETA: 1:55 - loss: 0.2230 - acc: 0.910 - ETA: 1:54 - loss: 0.2209 - acc: 0.912 - ETA: 1:52 - loss: 0.2174 - acc: 0.913 - ETA: 1:51 - loss: 0.2150 - acc: 0.915 - ETA: 1:49 - loss: 0.2121 - acc: 0.916 - ETA: 1:48 - loss: 0.2095 - acc: 0.918 - ETA: 1:47 - loss: 0.2067 - acc: 0.919 - ETA: 1:46 - loss: 0.2047 - acc: 0.920 - ETA: 1:45 - loss: 0.2020 - acc: 0.922 - ETA: 1:44 - loss: 0.1999 - acc: 0.923 - ETA: 1:42 - loss: 0.1975 - acc: 0.924 - ETA: 1:42 - loss: 0.1959 - acc: 0.925 - ETA: 1:41 - loss: 0.1937 - acc: 0.926 - ETA: 1:40 - loss: 0.1915 - acc: 0.927 - ETA: 1:39 - loss: 0.1893 - acc: 0.928 - ETA: 1:38 - loss: 0.1881 - acc: 0.929 - ETA: 1:37 - loss: 0.1867 - acc: 0.930 - ETA: 1:36 - loss: 0.1846 - acc: 0.931 - ETA: 1:35 - loss: 0.1825 - acc: 0.932 - ETA: 1:34 - loss: 0.1807 - acc: 0.933 - ETA: 1:33 - loss: 0.1797 - acc: 0.933 - ETA: 1:33 - loss: 0.1778 - acc: 0.934 - ETA: 1:32 - loss: 0.1762 - acc: 0.935 - ETA: 1:31 - loss: 0.1743 - acc: 0.936 - ETA: 1:30 - loss: 0.1726 - acc: 0.936 - ETA: 1:30 - loss: 0.1711 - acc: 0.937 - ETA: 1:29 - loss: 0.1696 - acc: 0.938 - ETA: 1:28 - loss: 0.1684 - acc: 0.939 - ETA: 1:28 - loss: 0.1675 - acc: 0.939 - ETA: 1:27 - loss: 0.1661 - acc: 0.940 - ETA: 1:26 - loss: 0.1648 - acc: 0.940 - ETA: 1:26 - loss: 0.1636 - acc: 0.941 - ETA: 1:25 - loss: 0.1620 - acc: 0.942 - ETA: 1:25 - loss: 0.1610 - acc: 0.942 - ETA: 1:24 - loss: 0.1602 - acc: 0.943 - ETA: 1:23 - loss: 0.1596 - acc: 0.943 - ETA: 1:23 - loss: 0.1589 - acc: 0.943 - ETA: 1:22 - loss: 0.1577 - acc: 0.944 - ETA: 1:22 - loss: 0.1565 - acc: 0.944 - ETA: 1:21 - loss: 0.1560 - acc: 0.945 - ETA: 1:21 - loss: 0.1554 - acc: 0.945 - ETA: 1:20 - loss: 0.1541 - acc: 0.946 - ETA: 1:20 - loss: 0.1534 - acc: 0.946 - ETA: 1:19 - loss: 0.1524 - acc: 0.947 - ETA: 1:19 - loss: 0.1517 - acc: 0.947 - ETA: 1:18 - loss: 0.1512 - acc: 0.947 - ETA: 1:18 - loss: 0.1503 - acc: 0.948 - ETA: 1:17 - loss: 0.1495 - acc: 0.948 - ETA: 1:17 - loss: 0.1489 - acc: 0.948 - ETA: 1:16 - loss: 0.1485 - acc: 0.949 - ETA: 1:16 - loss: 0.1477 - acc: 0.949 - ETA: 1:15 - loss: 0.1468 - acc: 0.949 - ETA: 1:15 - loss: 0.1459 - acc: 0.950 - ETA: 1:14 - loss: 0.1455 - acc: 0.950 - ETA: 1:14 - loss: 0.1446 - acc: 0.950 - ETA: 1:13 - loss: 0.1439 - acc: 0.951 - ETA: 1:13 - loss: 0.1430 - acc: 0.951 - ETA: 1:13 - loss: 0.1430 - acc: 0.951 - ETA: 1:12 - loss: 0.1424 - acc: 0.952 - ETA: 1:12 - loss: 0.1418 - acc: 0.952 - ETA: 1:11 - loss: 0.1416 - acc: 0.952 - ETA: 1:11 - loss: 0.1409 - acc: 0.952 - ETA: 1:11 - loss: 0.1403 - acc: 0.953 - ETA: 1:10 - loss: 0.1397 - acc: 0.953 - ETA: 1:10 - loss: 0.1393 - acc: 0.953 - ETA: 1:09 - loss: 0.1385 - acc: 0.954 - ETA: 1:09 - loss: 0.1382 - acc: 0.954 - ETA: 1:09 - loss: 0.1379 - acc: 0.954 - ETA: 1:08 - loss: 0.1376 - acc: 0.954 - ETA: 1:08 - loss: 0.1368 - acc: 0.954 - ETA: 1:08 - loss: 0.1366 - acc: 0.955 - ETA: 1:07 - loss: 0.1360 - acc: 0.955 - ETA: 1:07 - loss: 0.1356 - acc: 0.955 - ETA: 1:06 - loss: 0.1353 - acc: 0.955 - ETA: 1:06 - loss: 0.1348 - acc: 0.955 - ETA: 1:06 - loss: 0.1343 - acc: 0.956 - ETA: 1:05 - loss: 0.1339 - acc: 0.956 - ETA: 1:05 - loss: 0.1335 - acc: 0.956 - ETA: 1:05 - loss: 0.1330 - acc: 0.956 - ETA: 1:04 - loss: 0.1325 - acc: 0.956 - ETA: 1:04 - loss: 0.1320 - acc: 0.957 - ETA: 1:04 - loss: 0.1315 - acc: 0.957 - ETA: 1:03 - loss: 0.1309 - acc: 0.957 - ETA: 1:03 - loss: 0.1309 - acc: 0.957 - ETA: 1:03 - loss: 0.1307 - acc: 0.957 - ETA: 1:03 - loss: 0.1306 - acc: 0.957 - ETA: 1:02 - loss: 0.1300 - acc: 0.958 - ETA: 1:02 - loss: 0.1293 - acc: 0.958 - ETA: 1:02 - loss: 0.1290 - acc: 0.958 - ETA: 1:01 - loss: 0.1285 - acc: 0.958 - ETA: 1:01 - loss: 0.1282 - acc: 0.958 - ETA: 1:01 - loss: 0.1278 - acc: 0.958 - ETA: 1:00 - loss: 0.1272 - acc: 0.959 - ETA: 1:00 - loss: 0.1265 - acc: 0.959 - ETA: 1:00 - loss: 0.1259 - acc: 0.959 - ETA: 59s - loss: 0.1257 - acc: 0.959 - ETA: 59s - loss: 0.1255 - acc: 0.95 - ETA: 59s - loss: 0.1251 - acc: 0.95 - ETA: 59s - loss: 0.1248 - acc: 0.96 - ETA: 58s - loss: 0.1243 - acc: 0.96 - ETA: 58s - loss: 0.1241 - acc: 0.96 - ETA: 58s - loss: 0.1236 - acc: 0.96 - ETA: 57s - loss: 0.1229 - acc: 0.96 - ETA: 57s - loss: 0.1225 - acc: 0.96 - ETA: 57s - loss: 0.1221 - acc: 0.96 - ETA: 57s - loss: 0.1218 - acc: 0.96 - ETA: 56s - loss: 0.1214 - acc: 0.96 - ETA: 56s - loss: 0.1209 - acc: 0.96 - ETA: 56s - loss: 0.1205 - acc: 0.96 - ETA: 55s - loss: 0.1202 - acc: 0.96 - ETA: 55s - loss: 0.1197 - acc: 0.96 - ETA: 55s - loss: 0.1196 - acc: 0.96 - ETA: 55s - loss: 0.1194 - acc: 0.96 - ETA: 54s - loss: 0.1189 - acc: 0.96 - ETA: 54s - loss: 0.1184 - acc: 0.96 - ETA: 54s - loss: 0.1181 - acc: 0.96 - ETA: 54s - loss: 0.1178 - acc: 0.96 - ETA: 53s - loss: 0.1174 - acc: 0.96 - ETA: 53s - loss: 0.1170 - acc: 0.96 - ETA: 53s - loss: 0.1166 - acc: 0.96 - ETA: 53s - loss: 0.1161 - acc: 0.96 - ETA: 52s - loss: 0.1157 - acc: 0.96 - ETA: 52s - loss: 0.1154 - acc: 0.96 - ETA: 52s - loss: 0.1152 - acc: 0.96 - ETA: 52s - loss: 0.1148 - acc: 0.96 - ETA: 51s - loss: 0.1143 - acc: 0.96 - ETA: 51s - loss: 0.1140 - acc: 0.96 - ETA: 51s - loss: 0.1137 - acc: 0.96 - ETA: 51s - loss: 0.1134 - acc: 0.96 - ETA: 50s - loss: 0.1130 - acc: 0.96 - ETA: 50s - loss: 0.1126 - acc: 0.96 - ETA: 50s - loss: 0.1124 - acc: 0.96 - ETA: 50s - loss: 0.1122 - acc: 0.96 - ETA: 49s - loss: 0.1120 - acc: 0.96 - ETA: 49s - loss: 0.1115 - acc: 0.96 - ETA: 49s - loss: 0.1113 - acc: 0.96 - ETA: 49s - loss: 0.1110 - acc: 0.96 - ETA: 48s - loss: 0.1106 - acc: 0.96 - ETA: 48s - loss: 0.1104 - acc: 0.96 - ETA: 48s - loss: 0.1101 - acc: 0.96 - ETA: 48s - loss: 0.1099 - acc: 0.96 - ETA: 47s - loss: 0.1096 - acc: 0.96 - ETA: 47s - loss: 0.1093 - acc: 0.96 - ETA: 47s - loss: 0.1090 - acc: 0.96 - ETA: 47s - loss: 0.1087 - acc: 0.96 - ETA: 46s - loss: 0.1084 - acc: 0.96 - ETA: 46s - loss: 0.1082 - acc: 0.96 - ETA: 46s - loss: 0.1079 - acc: 0.96 - ETA: 46s - loss: 0.1076 - acc: 0.96 - ETA: 45s - loss: 0.1074 - acc: 0.96 - ETA: 45s - loss: 0.1072 - acc: 0.96 - ETA: 45s - loss: 0.1069 - acc: 0.96 - ETA: 45s - loss: 0.1065 - acc: 0.96 - ETA: 44s - loss: 0.1063 - acc: 0.96 - ETA: 44s - loss: 0.1059 - acc: 0.96 - ETA: 44s - loss: 0.1056 - acc: 0.96 - ETA: 44s - loss: 0.1055 - acc: 0.96 - ETA: 44s - loss: 0.1053 - acc: 0.96 - ETA: 43s - loss: 0.1051 - acc: 0.96 - ETA: 43s - loss: 0.1048 - acc: 0.96 - ETA: 43s - loss: 0.1045 - acc: 0.96 - ETA: 43s - loss: 0.1043 - acc: 0.96 - ETA: 42s - loss: 0.1042 - acc: 0.96 - ETA: 42s - loss: 0.1039 - acc: 0.96 - ETA: 42s - loss: 0.1036 - acc: 0.9672\b\b\b\b\b\b\b\b\b\b\b\b\b\b\b\b\b\b\b\b\b\b\b\b\b\b\b\b\b\b\b\b\b\b\b\b\b\b\b\b\b\b\b\b\b\b\b\b\b\b\b\b\b\b\b\b\b\b\b\b\b\b\b\b\b\b\b\b\b\b\b\b\b\b\b\b\b\b\b\b\b\b\b\b"
     ]
    },
    {
     "name": "stdout",
     "output_type": "stream",
     "text": [
      "13472/13654 [============================>.] - ETA: 42s - loss: 0.1034 - acc: 0.96 - ETA: 42s - loss: 0.1031 - acc: 0.96 - ETA: 41s - loss: 0.1029 - acc: 0.96 - ETA: 41s - loss: 0.1028 - acc: 0.96 - ETA: 41s - loss: 0.1025 - acc: 0.96 - ETA: 41s - loss: 0.1023 - acc: 0.96 - ETA: 40s - loss: 0.1019 - acc: 0.96 - ETA: 40s - loss: 0.1017 - acc: 0.96 - ETA: 40s - loss: 0.1014 - acc: 0.96 - ETA: 40s - loss: 0.1013 - acc: 0.96 - ETA: 40s - loss: 0.1010 - acc: 0.96 - ETA: 39s - loss: 0.1008 - acc: 0.96 - ETA: 39s - loss: 0.1006 - acc: 0.96 - ETA: 39s - loss: 0.1003 - acc: 0.96 - ETA: 39s - loss: 0.1000 - acc: 0.96 - ETA: 38s - loss: 0.0998 - acc: 0.96 - ETA: 38s - loss: 0.0995 - acc: 0.96 - ETA: 38s - loss: 0.0993 - acc: 0.96 - ETA: 38s - loss: 0.0990 - acc: 0.96 - ETA: 38s - loss: 0.0988 - acc: 0.96 - ETA: 37s - loss: 0.0986 - acc: 0.96 - ETA: 37s - loss: 0.0984 - acc: 0.96 - ETA: 37s - loss: 0.0982 - acc: 0.96 - ETA: 37s - loss: 0.0979 - acc: 0.96 - ETA: 37s - loss: 0.0976 - acc: 0.96 - ETA: 36s - loss: 0.0974 - acc: 0.96 - ETA: 36s - loss: 0.0971 - acc: 0.96 - ETA: 36s - loss: 0.0969 - acc: 0.96 - ETA: 36s - loss: 0.0968 - acc: 0.96 - ETA: 36s - loss: 0.0965 - acc: 0.96 - ETA: 35s - loss: 0.0962 - acc: 0.96 - ETA: 35s - loss: 0.0961 - acc: 0.96 - ETA: 35s - loss: 0.0958 - acc: 0.96 - ETA: 35s - loss: 0.0957 - acc: 0.96 - ETA: 34s - loss: 0.0955 - acc: 0.96 - ETA: 34s - loss: 0.0953 - acc: 0.96 - ETA: 34s - loss: 0.0951 - acc: 0.96 - ETA: 34s - loss: 0.0949 - acc: 0.96 - ETA: 34s - loss: 0.0947 - acc: 0.96 - ETA: 33s - loss: 0.0945 - acc: 0.96 - ETA: 33s - loss: 0.0943 - acc: 0.97 - ETA: 33s - loss: 0.0941 - acc: 0.97 - ETA: 33s - loss: 0.0938 - acc: 0.97 - ETA: 33s - loss: 0.0937 - acc: 0.97 - ETA: 32s - loss: 0.0935 - acc: 0.97 - ETA: 32s - loss: 0.0933 - acc: 0.97 - ETA: 32s - loss: 0.0930 - acc: 0.97 - ETA: 32s - loss: 0.0928 - acc: 0.97 - ETA: 32s - loss: 0.0926 - acc: 0.97 - ETA: 31s - loss: 0.0924 - acc: 0.97 - ETA: 31s - loss: 0.0922 - acc: 0.97 - ETA: 31s - loss: 0.0920 - acc: 0.97 - ETA: 31s - loss: 0.0918 - acc: 0.97 - ETA: 31s - loss: 0.0916 - acc: 0.97 - ETA: 30s - loss: 0.0915 - acc: 0.97 - ETA: 30s - loss: 0.0913 - acc: 0.97 - ETA: 30s - loss: 0.0911 - acc: 0.97 - ETA: 30s - loss: 0.0908 - acc: 0.97 - ETA: 30s - loss: 0.0907 - acc: 0.97 - ETA: 29s - loss: 0.0905 - acc: 0.97 - ETA: 29s - loss: 0.0903 - acc: 0.97 - ETA: 29s - loss: 0.0902 - acc: 0.97 - ETA: 29s - loss: 0.0899 - acc: 0.97 - ETA: 29s - loss: 0.0898 - acc: 0.97 - ETA: 28s - loss: 0.0896 - acc: 0.97 - ETA: 28s - loss: 0.0895 - acc: 0.97 - ETA: 28s - loss: 0.0893 - acc: 0.97 - ETA: 28s - loss: 0.0891 - acc: 0.97 - ETA: 28s - loss: 0.0889 - acc: 0.97 - ETA: 27s - loss: 0.0887 - acc: 0.97 - ETA: 27s - loss: 0.0885 - acc: 0.97 - ETA: 27s - loss: 0.0885 - acc: 0.97 - ETA: 27s - loss: 0.0883 - acc: 0.97 - ETA: 27s - loss: 0.0881 - acc: 0.97 - ETA: 26s - loss: 0.0879 - acc: 0.97 - ETA: 26s - loss: 0.0878 - acc: 0.97 - ETA: 26s - loss: 0.0876 - acc: 0.97 - ETA: 26s - loss: 0.0874 - acc: 0.97 - ETA: 26s - loss: 0.0874 - acc: 0.97 - ETA: 26s - loss: 0.0871 - acc: 0.97 - ETA: 25s - loss: 0.0870 - acc: 0.97 - ETA: 25s - loss: 0.0868 - acc: 0.97 - ETA: 25s - loss: 0.0866 - acc: 0.97 - ETA: 25s - loss: 0.0865 - acc: 0.97 - ETA: 25s - loss: 0.0863 - acc: 0.97 - ETA: 24s - loss: 0.0861 - acc: 0.97 - ETA: 24s - loss: 0.0859 - acc: 0.97 - ETA: 24s - loss: 0.0857 - acc: 0.97 - ETA: 24s - loss: 0.0856 - acc: 0.97 - ETA: 24s - loss: 0.0854 - acc: 0.97 - ETA: 24s - loss: 0.0852 - acc: 0.97 - ETA: 23s - loss: 0.0851 - acc: 0.97 - ETA: 23s - loss: 0.0850 - acc: 0.97 - ETA: 23s - loss: 0.0848 - acc: 0.97 - ETA: 23s - loss: 0.0847 - acc: 0.97 - ETA: 23s - loss: 0.0846 - acc: 0.97 - ETA: 22s - loss: 0.0845 - acc: 0.97 - ETA: 22s - loss: 0.0843 - acc: 0.97 - ETA: 22s - loss: 0.0842 - acc: 0.97 - ETA: 22s - loss: 0.0841 - acc: 0.97 - ETA: 22s - loss: 0.0839 - acc: 0.97 - ETA: 21s - loss: 0.0838 - acc: 0.97 - ETA: 21s - loss: 0.0836 - acc: 0.97 - ETA: 21s - loss: 0.0834 - acc: 0.97 - ETA: 21s - loss: 0.0833 - acc: 0.97 - ETA: 21s - loss: 0.0831 - acc: 0.97 - ETA: 20s - loss: 0.0830 - acc: 0.97 - ETA: 20s - loss: 0.0828 - acc: 0.97 - ETA: 20s - loss: 0.0827 - acc: 0.97 - ETA: 20s - loss: 0.0826 - acc: 0.97 - ETA: 20s - loss: 0.0825 - acc: 0.97 - ETA: 19s - loss: 0.0824 - acc: 0.97 - ETA: 19s - loss: 0.0823 - acc: 0.97 - ETA: 19s - loss: 0.0821 - acc: 0.97 - ETA: 19s - loss: 0.0820 - acc: 0.97 - ETA: 19s - loss: 0.0819 - acc: 0.97 - ETA: 19s - loss: 0.0817 - acc: 0.97 - ETA: 18s - loss: 0.0816 - acc: 0.97 - ETA: 18s - loss: 0.0814 - acc: 0.97 - ETA: 18s - loss: 0.0812 - acc: 0.97 - ETA: 18s - loss: 0.0811 - acc: 0.97 - ETA: 18s - loss: 0.0809 - acc: 0.97 - ETA: 17s - loss: 0.0808 - acc: 0.97 - ETA: 17s - loss: 0.0806 - acc: 0.97 - ETA: 17s - loss: 0.0805 - acc: 0.97 - ETA: 17s - loss: 0.0804 - acc: 0.97 - ETA: 17s - loss: 0.0802 - acc: 0.97 - ETA: 16s - loss: 0.0800 - acc: 0.97 - ETA: 16s - loss: 0.0799 - acc: 0.97 - ETA: 16s - loss: 0.0798 - acc: 0.97 - ETA: 16s - loss: 0.0798 - acc: 0.97 - ETA: 16s - loss: 0.0797 - acc: 0.97 - ETA: 16s - loss: 0.0795 - acc: 0.97 - ETA: 15s - loss: 0.0795 - acc: 0.97 - ETA: 15s - loss: 0.0794 - acc: 0.97 - ETA: 15s - loss: 0.0793 - acc: 0.97 - ETA: 15s - loss: 0.0792 - acc: 0.97 - ETA: 15s - loss: 0.0791 - acc: 0.97 - ETA: 14s - loss: 0.0789 - acc: 0.97 - ETA: 14s - loss: 0.0787 - acc: 0.97 - ETA: 14s - loss: 0.0786 - acc: 0.97 - ETA: 14s - loss: 0.0784 - acc: 0.97 - ETA: 14s - loss: 0.0783 - acc: 0.97 - ETA: 13s - loss: 0.0781 - acc: 0.97 - ETA: 13s - loss: 0.0780 - acc: 0.97 - ETA: 13s - loss: 0.0779 - acc: 0.97 - ETA: 13s - loss: 0.0778 - acc: 0.97 - ETA: 13s - loss: 0.0777 - acc: 0.97 - ETA: 13s - loss: 0.0775 - acc: 0.97 - ETA: 12s - loss: 0.0774 - acc: 0.97 - ETA: 12s - loss: 0.0773 - acc: 0.97 - ETA: 12s - loss: 0.0772 - acc: 0.97 - ETA: 12s - loss: 0.0771 - acc: 0.97 - ETA: 12s - loss: 0.0769 - acc: 0.97 - ETA: 11s - loss: 0.0768 - acc: 0.97 - ETA: 11s - loss: 0.0767 - acc: 0.97 - ETA: 11s - loss: 0.0766 - acc: 0.97 - ETA: 11s - loss: 0.0764 - acc: 0.97 - ETA: 11s - loss: 0.0763 - acc: 0.97 - ETA: 10s - loss: 0.0762 - acc: 0.97 - ETA: 10s - loss: 0.0761 - acc: 0.97 - ETA: 10s - loss: 0.0760 - acc: 0.97 - ETA: 10s - loss: 0.0759 - acc: 0.97 - ETA: 10s - loss: 0.0758 - acc: 0.97 - ETA: 10s - loss: 0.0757 - acc: 0.97 - ETA: 9s - loss: 0.0757 - acc: 0.9754 - ETA: 9s - loss: 0.0756 - acc: 0.975 - ETA: 9s - loss: 0.0756 - acc: 0.975 - ETA: 9s - loss: 0.0754 - acc: 0.975 - ETA: 9s - loss: 0.0753 - acc: 0.975 - ETA: 8s - loss: 0.0752 - acc: 0.975 - ETA: 8s - loss: 0.0751 - acc: 0.975 - ETA: 8s - loss: 0.0750 - acc: 0.975 - ETA: 8s - loss: 0.0748 - acc: 0.975 - ETA: 8s - loss: 0.0747 - acc: 0.975 - ETA: 8s - loss: 0.0746 - acc: 0.975 - ETA: 7s - loss: 0.0745 - acc: 0.975 - ETA: 7s - loss: 0.0744 - acc: 0.975 - ETA: 7s - loss: 0.0743 - acc: 0.975 - ETA: 7s - loss: 0.0741 - acc: 0.975 - ETA: 7s - loss: 0.0740 - acc: 0.975 - ETA: 6s - loss: 0.0739 - acc: 0.976 - ETA: 6s - loss: 0.0739 - acc: 0.976 - ETA: 6s - loss: 0.0738 - acc: 0.976 - ETA: 6s - loss: 0.0737 - acc: 0.976 - ETA: 6s - loss: 0.0735 - acc: 0.976 - ETA: 6s - loss: 0.0734 - acc: 0.976 - ETA: 5s - loss: 0.0733 - acc: 0.976 - ETA: 5s - loss: 0.0731 - acc: 0.976 - ETA: 5s - loss: 0.0730 - acc: 0.976 - ETA: 5s - loss: 0.0729 - acc: 0.976 - ETA: 5s - loss: 0.0728 - acc: 0.976 - ETA: 4s - loss: 0.0727 - acc: 0.976 - ETA: 4s - loss: 0.0726 - acc: 0.976 - ETA: 4s - loss: 0.0725 - acc: 0.976 - ETA: 4s - loss: 0.0724 - acc: 0.976 - ETA: 4s - loss: 0.0723 - acc: 0.976 - ETA: 4s - loss: 0.0721 - acc: 0.976 - ETA: 3s - loss: 0.0720 - acc: 0.976 - ETA: 3s - loss: 0.0720 - acc: 0.976 - ETA: 3s - loss: 0.0719 - acc: 0.976 - ETA: 3s - loss: 0.0717 - acc: 0.976 - ETA: 3s - loss: 0.0716 - acc: 0.976 - ETA: 2s - loss: 0.0715 - acc: 0.976 - ETA: 2s - loss: 0.0715 - acc: 0.976 - ETA: 2s - loss: 0.0714 - acc: 0.976 - ETA: 2s - loss: 0.0713 - acc: 0.976 - ETA: 2s - loss: 0.0712 - acc: 0.976 - ETA: 2s - loss: 0.0712 - acc: 0.976 - ETA: 1s - loss: 0.0711 - acc: 0.976 - ETA: 1s - loss: 0.0710 - acc: 0.976 - ETA: 1s - loss: 0.0709 - acc: 0.976 - ETA: 1s - loss: 0.0708 - acc: 0.976 - ETA: 1s - loss: 0.0707 - acc: 0.977 - ETA: 1s - loss: 0.0706 - acc: 0.9770"
     ]
    },
    {
     "name": "stdout",
     "output_type": "stream",
     "text": [
      "13654/13654 [==============================] - ETA: 0s - loss: 0.0705 - acc: 0.977 - ETA: 0s - loss: 0.0704 - acc: 0.977 - ETA: 0s - loss: 0.0703 - acc: 0.977 - ETA: 0s - loss: 0.0703 - acc: 0.977 - ETA: 0s - loss: 0.0702 - acc: 0.977 - 79s 6ms/step - loss: 0.0702 - acc: 0.9771 - val_loss: 0.0310 - val_acc: 0.9896\n",
      "Epoch 2/5\n"
     ]
    },
    {
     "name": "stdout",
     "output_type": "stream",
     "text": [
      " 6784/13654 [=============>................] - ETA: 1:13 - loss: 0.0406 - acc: 0.985 - ETA: 1:12 - loss: 0.0335 - acc: 0.988 - ETA: 1:12 - loss: 0.0317 - acc: 0.988 - ETA: 1:09 - loss: 0.0311 - acc: 0.989 - ETA: 1:08 - loss: 0.0297 - acc: 0.990 - ETA: 1:07 - loss: 0.0282 - acc: 0.990 - ETA: 1:08 - loss: 0.0261 - acc: 0.991 - ETA: 1:07 - loss: 0.0265 - acc: 0.991 - ETA: 1:07 - loss: 0.0254 - acc: 0.991 - ETA: 1:07 - loss: 0.0262 - acc: 0.991 - ETA: 1:07 - loss: 0.0263 - acc: 0.991 - ETA: 1:06 - loss: 0.0269 - acc: 0.990 - ETA: 1:07 - loss: 0.0279 - acc: 0.990 - ETA: 1:06 - loss: 0.0271 - acc: 0.990 - ETA: 1:06 - loss: 0.0270 - acc: 0.990 - ETA: 1:06 - loss: 0.0269 - acc: 0.990 - ETA: 1:05 - loss: 0.0274 - acc: 0.990 - ETA: 1:05 - loss: 0.0271 - acc: 0.990 - ETA: 1:05 - loss: 0.0275 - acc: 0.990 - ETA: 1:05 - loss: 0.0275 - acc: 0.990 - ETA: 1:05 - loss: 0.0276 - acc: 0.990 - ETA: 1:05 - loss: 0.0281 - acc: 0.990 - ETA: 1:04 - loss: 0.0292 - acc: 0.990 - ETA: 1:04 - loss: 0.0286 - acc: 0.990 - ETA: 1:04 - loss: 0.0286 - acc: 0.990 - ETA: 1:04 - loss: 0.0290 - acc: 0.990 - ETA: 1:04 - loss: 0.0291 - acc: 0.990 - ETA: 1:04 - loss: 0.0286 - acc: 0.990 - ETA: 1:03 - loss: 0.0284 - acc: 0.990 - ETA: 1:03 - loss: 0.0282 - acc: 0.990 - ETA: 1:03 - loss: 0.0280 - acc: 0.990 - ETA: 1:03 - loss: 0.0283 - acc: 0.990 - ETA: 1:03 - loss: 0.0292 - acc: 0.990 - ETA: 1:03 - loss: 0.0294 - acc: 0.989 - ETA: 1:03 - loss: 0.0295 - acc: 0.990 - ETA: 1:02 - loss: 0.0295 - acc: 0.990 - ETA: 1:02 - loss: 0.0298 - acc: 0.990 - ETA: 1:02 - loss: 0.0296 - acc: 0.990 - ETA: 1:02 - loss: 0.0298 - acc: 0.990 - ETA: 1:02 - loss: 0.0298 - acc: 0.990 - ETA: 1:02 - loss: 0.0298 - acc: 0.990 - ETA: 1:01 - loss: 0.0296 - acc: 0.990 - ETA: 1:01 - loss: 0.0299 - acc: 0.990 - ETA: 1:01 - loss: 0.0296 - acc: 0.990 - ETA: 1:01 - loss: 0.0300 - acc: 0.990 - ETA: 1:01 - loss: 0.0296 - acc: 0.990 - ETA: 1:00 - loss: 0.0296 - acc: 0.990 - ETA: 1:00 - loss: 0.0293 - acc: 0.990 - ETA: 1:00 - loss: 0.0291 - acc: 0.990 - ETA: 1:00 - loss: 0.0293 - acc: 0.990 - ETA: 1:00 - loss: 0.0291 - acc: 0.990 - ETA: 1:00 - loss: 0.0291 - acc: 0.990 - ETA: 59s - loss: 0.0293 - acc: 0.990 - ETA: 59s - loss: 0.0292 - acc: 0.99 - ETA: 59s - loss: 0.0291 - acc: 0.99 - ETA: 59s - loss: 0.0294 - acc: 0.99 - ETA: 59s - loss: 0.0292 - acc: 0.99 - ETA: 59s - loss: 0.0291 - acc: 0.99 - ETA: 58s - loss: 0.0288 - acc: 0.99 - ETA: 58s - loss: 0.0286 - acc: 0.99 - ETA: 58s - loss: 0.0286 - acc: 0.99 - ETA: 58s - loss: 0.0285 - acc: 0.99 - ETA: 58s - loss: 0.0284 - acc: 0.99 - ETA: 58s - loss: 0.0282 - acc: 0.99 - ETA: 57s - loss: 0.0280 - acc: 0.99 - ETA: 57s - loss: 0.0281 - acc: 0.99 - ETA: 57s - loss: 0.0280 - acc: 0.99 - ETA: 57s - loss: 0.0278 - acc: 0.99 - ETA: 57s - loss: 0.0278 - acc: 0.99 - ETA: 57s - loss: 0.0279 - acc: 0.99 - ETA: 56s - loss: 0.0278 - acc: 0.99 - ETA: 56s - loss: 0.0278 - acc: 0.99 - ETA: 56s - loss: 0.0277 - acc: 0.99 - ETA: 56s - loss: 0.0281 - acc: 0.99 - ETA: 56s - loss: 0.0280 - acc: 0.99 - ETA: 56s - loss: 0.0279 - acc: 0.99 - ETA: 56s - loss: 0.0279 - acc: 0.99 - ETA: 55s - loss: 0.0279 - acc: 0.99 - ETA: 55s - loss: 0.0279 - acc: 0.99 - ETA: 55s - loss: 0.0279 - acc: 0.99 - ETA: 55s - loss: 0.0278 - acc: 0.99 - ETA: 55s - loss: 0.0276 - acc: 0.99 - ETA: 55s - loss: 0.0274 - acc: 0.99 - ETA: 54s - loss: 0.0274 - acc: 0.99 - ETA: 54s - loss: 0.0274 - acc: 0.99 - ETA: 54s - loss: 0.0275 - acc: 0.99 - ETA: 54s - loss: 0.0274 - acc: 0.99 - ETA: 54s - loss: 0.0275 - acc: 0.99 - ETA: 54s - loss: 0.0276 - acc: 0.99 - ETA: 53s - loss: 0.0276 - acc: 0.99 - ETA: 53s - loss: 0.0275 - acc: 0.99 - ETA: 53s - loss: 0.0275 - acc: 0.99 - ETA: 53s - loss: 0.0275 - acc: 0.99 - ETA: 53s - loss: 0.0275 - acc: 0.99 - ETA: 53s - loss: 0.0275 - acc: 0.99 - ETA: 53s - loss: 0.0275 - acc: 0.99 - ETA: 52s - loss: 0.0275 - acc: 0.99 - ETA: 52s - loss: 0.0274 - acc: 0.99 - ETA: 52s - loss: 0.0274 - acc: 0.99 - ETA: 52s - loss: 0.0274 - acc: 0.99 - ETA: 52s - loss: 0.0274 - acc: 0.99 - ETA: 51s - loss: 0.0273 - acc: 0.99 - ETA: 51s - loss: 0.0273 - acc: 0.99 - ETA: 51s - loss: 0.0273 - acc: 0.99 - ETA: 51s - loss: 0.0274 - acc: 0.99 - ETA: 51s - loss: 0.0273 - acc: 0.99 - ETA: 51s - loss: 0.0272 - acc: 0.99 - ETA: 50s - loss: 0.0272 - acc: 0.99 - ETA: 50s - loss: 0.0272 - acc: 0.99 - ETA: 50s - loss: 0.0271 - acc: 0.99 - ETA: 50s - loss: 0.0271 - acc: 0.99 - ETA: 50s - loss: 0.0271 - acc: 0.99 - ETA: 50s - loss: 0.0270 - acc: 0.99 - ETA: 49s - loss: 0.0270 - acc: 0.99 - ETA: 49s - loss: 0.0270 - acc: 0.99 - ETA: 49s - loss: 0.0269 - acc: 0.99 - ETA: 49s - loss: 0.0269 - acc: 0.99 - ETA: 49s - loss: 0.0269 - acc: 0.99 - ETA: 49s - loss: 0.0270 - acc: 0.99 - ETA: 48s - loss: 0.0270 - acc: 0.99 - ETA: 48s - loss: 0.0271 - acc: 0.99 - ETA: 48s - loss: 0.0271 - acc: 0.99 - ETA: 48s - loss: 0.0270 - acc: 0.99 - ETA: 48s - loss: 0.0271 - acc: 0.99 - ETA: 48s - loss: 0.0271 - acc: 0.99 - ETA: 47s - loss: 0.0270 - acc: 0.99 - ETA: 47s - loss: 0.0270 - acc: 0.99 - ETA: 47s - loss: 0.0270 - acc: 0.99 - ETA: 47s - loss: 0.0270 - acc: 0.99 - ETA: 47s - loss: 0.0271 - acc: 0.99 - ETA: 47s - loss: 0.0272 - acc: 0.99 - ETA: 47s - loss: 0.0272 - acc: 0.99 - ETA: 46s - loss: 0.0272 - acc: 0.99 - ETA: 46s - loss: 0.0272 - acc: 0.99 - ETA: 46s - loss: 0.0272 - acc: 0.99 - ETA: 46s - loss: 0.0273 - acc: 0.99 - ETA: 46s - loss: 0.0273 - acc: 0.99 - ETA: 46s - loss: 0.0274 - acc: 0.99 - ETA: 45s - loss: 0.0275 - acc: 0.99 - ETA: 45s - loss: 0.0276 - acc: 0.99 - ETA: 45s - loss: 0.0277 - acc: 0.99 - ETA: 45s - loss: 0.0277 - acc: 0.99 - ETA: 45s - loss: 0.0276 - acc: 0.99 - ETA: 45s - loss: 0.0276 - acc: 0.99 - ETA: 44s - loss: 0.0277 - acc: 0.99 - ETA: 44s - loss: 0.0276 - acc: 0.99 - ETA: 44s - loss: 0.0276 - acc: 0.99 - ETA: 44s - loss: 0.0276 - acc: 0.99 - ETA: 44s - loss: 0.0275 - acc: 0.99 - ETA: 44s - loss: 0.0276 - acc: 0.99 - ETA: 43s - loss: 0.0276 - acc: 0.99 - ETA: 43s - loss: 0.0276 - acc: 0.99 - ETA: 43s - loss: 0.0275 - acc: 0.99 - ETA: 43s - loss: 0.0274 - acc: 0.99 - ETA: 43s - loss: 0.0274 - acc: 0.99 - ETA: 43s - loss: 0.0274 - acc: 0.99 - ETA: 42s - loss: 0.0274 - acc: 0.99 - ETA: 42s - loss: 0.0273 - acc: 0.99 - ETA: 42s - loss: 0.0273 - acc: 0.99 - ETA: 42s - loss: 0.0273 - acc: 0.99 - ETA: 42s - loss: 0.0273 - acc: 0.99 - ETA: 42s - loss: 0.0273 - acc: 0.99 - ETA: 41s - loss: 0.0272 - acc: 0.99 - ETA: 41s - loss: 0.0273 - acc: 0.99 - ETA: 41s - loss: 0.0272 - acc: 0.99 - ETA: 41s - loss: 0.0272 - acc: 0.99 - ETA: 41s - loss: 0.0273 - acc: 0.99 - ETA: 41s - loss: 0.0273 - acc: 0.99 - ETA: 40s - loss: 0.0272 - acc: 0.99 - ETA: 40s - loss: 0.0272 - acc: 0.99 - ETA: 40s - loss: 0.0272 - acc: 0.99 - ETA: 40s - loss: 0.0272 - acc: 0.99 - ETA: 40s - loss: 0.0272 - acc: 0.99 - ETA: 40s - loss: 0.0271 - acc: 0.99 - ETA: 39s - loss: 0.0272 - acc: 0.99 - ETA: 39s - loss: 0.0272 - acc: 0.99 - ETA: 39s - loss: 0.0272 - acc: 0.99 - ETA: 39s - loss: 0.0272 - acc: 0.99 - ETA: 39s - loss: 0.0272 - acc: 0.99 - ETA: 39s - loss: 0.0271 - acc: 0.99 - ETA: 39s - loss: 0.0271 - acc: 0.99 - ETA: 38s - loss: 0.0272 - acc: 0.99 - ETA: 38s - loss: 0.0271 - acc: 0.99 - ETA: 38s - loss: 0.0271 - acc: 0.99 - ETA: 38s - loss: 0.0270 - acc: 0.99 - ETA: 38s - loss: 0.0271 - acc: 0.99 - ETA: 38s - loss: 0.0270 - acc: 0.99 - ETA: 37s - loss: 0.0270 - acc: 0.99 - ETA: 37s - loss: 0.0270 - acc: 0.99 - ETA: 37s - loss: 0.0271 - acc: 0.99 - ETA: 37s - loss: 0.0270 - acc: 0.99 - ETA: 37s - loss: 0.0270 - acc: 0.99 - ETA: 37s - loss: 0.0270 - acc: 0.99 - ETA: 36s - loss: 0.0269 - acc: 0.99 - ETA: 36s - loss: 0.0269 - acc: 0.99 - ETA: 36s - loss: 0.0269 - acc: 0.99 - ETA: 36s - loss: 0.0269 - acc: 0.99 - ETA: 36s - loss: 0.0269 - acc: 0.99 - ETA: 36s - loss: 0.0270 - acc: 0.99 - ETA: 35s - loss: 0.0270 - acc: 0.99 - ETA: 35s - loss: 0.0270 - acc: 0.99 - ETA: 35s - loss: 0.0269 - acc: 0.99 - ETA: 35s - loss: 0.0269 - acc: 0.99 - ETA: 35s - loss: 0.0269 - acc: 0.99 - ETA: 35s - loss: 0.0269 - acc: 0.99 - ETA: 35s - loss: 0.0269 - acc: 0.99 - ETA: 34s - loss: 0.0269 - acc: 0.99 - ETA: 34s - loss: 0.0268 - acc: 0.99 - ETA: 34s - loss: 0.0268 - acc: 0.99 - ETA: 34s - loss: 0.0269 - acc: 0.99 - ETA: 34s - loss: 0.0269 - acc: 0.99 - ETA: 34s - loss: 0.0269 - acc: 0.9911"
     ]
    },
    {
     "name": "stdout",
     "output_type": "stream",
     "text": [
      "13654/13654 [==============================] - ETA: 33s - loss: 0.0268 - acc: 0.99 - ETA: 33s - loss: 0.0268 - acc: 0.99 - ETA: 33s - loss: 0.0268 - acc: 0.99 - ETA: 33s - loss: 0.0267 - acc: 0.99 - ETA: 33s - loss: 0.0267 - acc: 0.99 - ETA: 33s - loss: 0.0266 - acc: 0.99 - ETA: 32s - loss: 0.0266 - acc: 0.99 - ETA: 32s - loss: 0.0266 - acc: 0.99 - ETA: 32s - loss: 0.0265 - acc: 0.99 - ETA: 32s - loss: 0.0265 - acc: 0.99 - ETA: 32s - loss: 0.0265 - acc: 0.99 - ETA: 32s - loss: 0.0265 - acc: 0.99 - ETA: 31s - loss: 0.0265 - acc: 0.99 - ETA: 31s - loss: 0.0265 - acc: 0.99 - ETA: 31s - loss: 0.0265 - acc: 0.99 - ETA: 31s - loss: 0.0265 - acc: 0.99 - ETA: 31s - loss: 0.0265 - acc: 0.99 - ETA: 31s - loss: 0.0265 - acc: 0.99 - ETA: 31s - loss: 0.0265 - acc: 0.99 - ETA: 30s - loss: 0.0265 - acc: 0.99 - ETA: 30s - loss: 0.0265 - acc: 0.99 - ETA: 30s - loss: 0.0265 - acc: 0.99 - ETA: 30s - loss: 0.0264 - acc: 0.99 - ETA: 30s - loss: 0.0264 - acc: 0.99 - ETA: 30s - loss: 0.0264 - acc: 0.99 - ETA: 30s - loss: 0.0264 - acc: 0.99 - ETA: 29s - loss: 0.0264 - acc: 0.99 - ETA: 29s - loss: 0.0264 - acc: 0.99 - ETA: 29s - loss: 0.0264 - acc: 0.99 - ETA: 29s - loss: 0.0263 - acc: 0.99 - ETA: 29s - loss: 0.0264 - acc: 0.99 - ETA: 29s - loss: 0.0264 - acc: 0.99 - ETA: 28s - loss: 0.0264 - acc: 0.99 - ETA: 28s - loss: 0.0264 - acc: 0.99 - ETA: 28s - loss: 0.0264 - acc: 0.99 - ETA: 28s - loss: 0.0264 - acc: 0.99 - ETA: 28s - loss: 0.0264 - acc: 0.99 - ETA: 28s - loss: 0.0263 - acc: 0.99 - ETA: 28s - loss: 0.0263 - acc: 0.99 - ETA: 27s - loss: 0.0263 - acc: 0.99 - ETA: 27s - loss: 0.0263 - acc: 0.99 - ETA: 27s - loss: 0.0262 - acc: 0.99 - ETA: 27s - loss: 0.0263 - acc: 0.99 - ETA: 27s - loss: 0.0263 - acc: 0.99 - ETA: 27s - loss: 0.0263 - acc: 0.99 - ETA: 27s - loss: 0.0262 - acc: 0.99 - ETA: 26s - loss: 0.0262 - acc: 0.99 - ETA: 26s - loss: 0.0262 - acc: 0.99 - ETA: 26s - loss: 0.0262 - acc: 0.99 - ETA: 26s - loss: 0.0262 - acc: 0.99 - ETA: 26s - loss: 0.0262 - acc: 0.99 - ETA: 26s - loss: 0.0262 - acc: 0.99 - ETA: 25s - loss: 0.0262 - acc: 0.99 - ETA: 25s - loss: 0.0261 - acc: 0.99 - ETA: 25s - loss: 0.0261 - acc: 0.99 - ETA: 25s - loss: 0.0262 - acc: 0.99 - ETA: 25s - loss: 0.0261 - acc: 0.99 - ETA: 25s - loss: 0.0261 - acc: 0.99 - ETA: 25s - loss: 0.0261 - acc: 0.99 - ETA: 24s - loss: 0.0261 - acc: 0.99 - ETA: 24s - loss: 0.0260 - acc: 0.99 - ETA: 24s - loss: 0.0260 - acc: 0.99 - ETA: 24s - loss: 0.0259 - acc: 0.99 - ETA: 24s - loss: 0.0259 - acc: 0.99 - ETA: 24s - loss: 0.0259 - acc: 0.99 - ETA: 23s - loss: 0.0258 - acc: 0.99 - ETA: 23s - loss: 0.0258 - acc: 0.99 - ETA: 23s - loss: 0.0258 - acc: 0.99 - ETA: 23s - loss: 0.0258 - acc: 0.99 - ETA: 23s - loss: 0.0257 - acc: 0.99 - ETA: 23s - loss: 0.0257 - acc: 0.99 - ETA: 23s - loss: 0.0257 - acc: 0.99 - ETA: 22s - loss: 0.0257 - acc: 0.99 - ETA: 22s - loss: 0.0257 - acc: 0.99 - ETA: 22s - loss: 0.0256 - acc: 0.99 - ETA: 22s - loss: 0.0256 - acc: 0.99 - ETA: 22s - loss: 0.0256 - acc: 0.99 - ETA: 22s - loss: 0.0256 - acc: 0.99 - ETA: 21s - loss: 0.0256 - acc: 0.99 - ETA: 21s - loss: 0.0256 - acc: 0.99 - ETA: 21s - loss: 0.0255 - acc: 0.99 - ETA: 21s - loss: 0.0256 - acc: 0.99 - ETA: 21s - loss: 0.0256 - acc: 0.99 - ETA: 21s - loss: 0.0257 - acc: 0.99 - ETA: 21s - loss: 0.0257 - acc: 0.99 - ETA: 20s - loss: 0.0257 - acc: 0.99 - ETA: 20s - loss: 0.0257 - acc: 0.99 - ETA: 20s - loss: 0.0256 - acc: 0.99 - ETA: 20s - loss: 0.0256 - acc: 0.99 - ETA: 20s - loss: 0.0256 - acc: 0.99 - ETA: 20s - loss: 0.0256 - acc: 0.99 - ETA: 19s - loss: 0.0256 - acc: 0.99 - ETA: 19s - loss: 0.0256 - acc: 0.99 - ETA: 19s - loss: 0.0255 - acc: 0.99 - ETA: 19s - loss: 0.0255 - acc: 0.99 - ETA: 19s - loss: 0.0255 - acc: 0.99 - ETA: 19s - loss: 0.0255 - acc: 0.99 - ETA: 18s - loss: 0.0255 - acc: 0.99 - ETA: 18s - loss: 0.0255 - acc: 0.99 - ETA: 18s - loss: 0.0255 - acc: 0.99 - ETA: 18s - loss: 0.0254 - acc: 0.99 - ETA: 18s - loss: 0.0254 - acc: 0.99 - ETA: 18s - loss: 0.0254 - acc: 0.99 - ETA: 18s - loss: 0.0254 - acc: 0.99 - ETA: 17s - loss: 0.0254 - acc: 0.99 - ETA: 17s - loss: 0.0253 - acc: 0.99 - ETA: 17s - loss: 0.0254 - acc: 0.99 - ETA: 17s - loss: 0.0253 - acc: 0.99 - ETA: 17s - loss: 0.0253 - acc: 0.99 - ETA: 17s - loss: 0.0252 - acc: 0.99 - ETA: 16s - loss: 0.0252 - acc: 0.99 - ETA: 16s - loss: 0.0252 - acc: 0.99 - ETA: 16s - loss: 0.0253 - acc: 0.99 - ETA: 16s - loss: 0.0253 - acc: 0.99 - ETA: 16s - loss: 0.0252 - acc: 0.99 - ETA: 16s - loss: 0.0253 - acc: 0.99 - ETA: 15s - loss: 0.0253 - acc: 0.99 - ETA: 15s - loss: 0.0253 - acc: 0.99 - ETA: 15s - loss: 0.0253 - acc: 0.99 - ETA: 15s - loss: 0.0253 - acc: 0.99 - ETA: 15s - loss: 0.0253 - acc: 0.99 - ETA: 15s - loss: 0.0253 - acc: 0.99 - ETA: 15s - loss: 0.0252 - acc: 0.99 - ETA: 14s - loss: 0.0253 - acc: 0.99 - ETA: 14s - loss: 0.0252 - acc: 0.99 - ETA: 14s - loss: 0.0252 - acc: 0.99 - ETA: 14s - loss: 0.0252 - acc: 0.99 - ETA: 14s - loss: 0.0252 - acc: 0.99 - ETA: 14s - loss: 0.0252 - acc: 0.99 - ETA: 13s - loss: 0.0251 - acc: 0.99 - ETA: 13s - loss: 0.0251 - acc: 0.99 - ETA: 13s - loss: 0.0251 - acc: 0.99 - ETA: 13s - loss: 0.0251 - acc: 0.99 - ETA: 13s - loss: 0.0252 - acc: 0.99 - ETA: 13s - loss: 0.0251 - acc: 0.99 - ETA: 12s - loss: 0.0252 - acc: 0.99 - ETA: 12s - loss: 0.0251 - acc: 0.99 - ETA: 12s - loss: 0.0251 - acc: 0.99 - ETA: 12s - loss: 0.0251 - acc: 0.99 - ETA: 12s - loss: 0.0251 - acc: 0.99 - ETA: 12s - loss: 0.0251 - acc: 0.99 - ETA: 11s - loss: 0.0251 - acc: 0.99 - ETA: 11s - loss: 0.0251 - acc: 0.99 - ETA: 11s - loss: 0.0251 - acc: 0.99 - ETA: 11s - loss: 0.0250 - acc: 0.99 - ETA: 11s - loss: 0.0250 - acc: 0.99 - ETA: 11s - loss: 0.0250 - acc: 0.99 - ETA: 10s - loss: 0.0250 - acc: 0.99 - ETA: 10s - loss: 0.0250 - acc: 0.99 - ETA: 10s - loss: 0.0250 - acc: 0.99 - ETA: 10s - loss: 0.0249 - acc: 0.99 - ETA: 10s - loss: 0.0249 - acc: 0.99 - ETA: 10s - loss: 0.0249 - acc: 0.99 - ETA: 9s - loss: 0.0249 - acc: 0.9917 - ETA: 9s - loss: 0.0249 - acc: 0.991 - ETA: 9s - loss: 0.0249 - acc: 0.991 - ETA: 9s - loss: 0.0249 - acc: 0.991 - ETA: 9s - loss: 0.0249 - acc: 0.991 - ETA: 9s - loss: 0.0249 - acc: 0.991 - ETA: 9s - loss: 0.0249 - acc: 0.991 - ETA: 8s - loss: 0.0249 - acc: 0.991 - ETA: 8s - loss: 0.0249 - acc: 0.991 - ETA: 8s - loss: 0.0249 - acc: 0.991 - ETA: 8s - loss: 0.0249 - acc: 0.991 - ETA: 8s - loss: 0.0249 - acc: 0.991 - ETA: 8s - loss: 0.0248 - acc: 0.991 - ETA: 7s - loss: 0.0248 - acc: 0.991 - ETA: 7s - loss: 0.0248 - acc: 0.991 - ETA: 7s - loss: 0.0248 - acc: 0.991 - ETA: 7s - loss: 0.0248 - acc: 0.991 - ETA: 7s - loss: 0.0248 - acc: 0.991 - ETA: 7s - loss: 0.0248 - acc: 0.991 - ETA: 6s - loss: 0.0248 - acc: 0.991 - ETA: 6s - loss: 0.0248 - acc: 0.991 - ETA: 6s - loss: 0.0248 - acc: 0.991 - ETA: 6s - loss: 0.0248 - acc: 0.991 - ETA: 6s - loss: 0.0248 - acc: 0.991 - ETA: 6s - loss: 0.0248 - acc: 0.991 - ETA: 5s - loss: 0.0248 - acc: 0.991 - ETA: 5s - loss: 0.0247 - acc: 0.991 - ETA: 5s - loss: 0.0247 - acc: 0.991 - ETA: 5s - loss: 0.0247 - acc: 0.991 - ETA: 5s - loss: 0.0247 - acc: 0.991 - ETA: 5s - loss: 0.0246 - acc: 0.991 - ETA: 4s - loss: 0.0246 - acc: 0.991 - ETA: 4s - loss: 0.0246 - acc: 0.991 - ETA: 4s - loss: 0.0246 - acc: 0.991 - ETA: 4s - loss: 0.0246 - acc: 0.991 - ETA: 4s - loss: 0.0246 - acc: 0.991 - ETA: 4s - loss: 0.0245 - acc: 0.991 - ETA: 3s - loss: 0.0246 - acc: 0.991 - ETA: 3s - loss: 0.0245 - acc: 0.991 - ETA: 3s - loss: 0.0245 - acc: 0.991 - ETA: 3s - loss: 0.0245 - acc: 0.991 - ETA: 3s - loss: 0.0245 - acc: 0.991 - ETA: 3s - loss: 0.0245 - acc: 0.991 - ETA: 2s - loss: 0.0244 - acc: 0.991 - ETA: 2s - loss: 0.0244 - acc: 0.991 - ETA: 2s - loss: 0.0244 - acc: 0.991 - ETA: 2s - loss: 0.0244 - acc: 0.991 - ETA: 2s - loss: 0.0244 - acc: 0.991 - ETA: 2s - loss: 0.0243 - acc: 0.991 - ETA: 1s - loss: 0.0243 - acc: 0.991 - ETA: 1s - loss: 0.0243 - acc: 0.991 - ETA: 1s - loss: 0.0243 - acc: 0.991 - ETA: 1s - loss: 0.0243 - acc: 0.991 - ETA: 1s - loss: 0.0242 - acc: 0.991 - ETA: 1s - loss: 0.0242 - acc: 0.992 - ETA: 0s - loss: 0.0242 - acc: 0.992 - ETA: 0s - loss: 0.0242 - acc: 0.992 - ETA: 0s - loss: 0.0242 - acc: 0.992 - ETA: 0s - loss: 0.0242 - acc: 0.992 - ETA: 0s - loss: 0.0241 - acc: 0.992 - ETA: 0s - loss: 0.0241 - acc: 0.992 - 73s 5ms/step - loss: 0.0241 - acc: 0.9920 - val_loss: 0.0203 - val_acc: 0.9935\n"
     ]
    },
    {
     "name": "stdout",
     "output_type": "stream",
     "text": [
      "Epoch 3/5\n"
     ]
    },
    {
     "name": "stdout",
     "output_type": "stream",
     "text": [
      " 6720/13654 [=============>................] - ETA: 1:06 - loss: 0.0067 - acc: 0.997 - ETA: 1:12 - loss: 0.0136 - acc: 0.994 - ETA: 1:12 - loss: 0.0164 - acc: 0.993 - ETA: 1:12 - loss: 0.0155 - acc: 0.994 - ETA: 1:12 - loss: 0.0158 - acc: 0.994 - ETA: 1:12 - loss: 0.0176 - acc: 0.994 - ETA: 1:12 - loss: 0.0181 - acc: 0.994 - ETA: 1:11 - loss: 0.0179 - acc: 0.994 - ETA: 1:11 - loss: 0.0197 - acc: 0.993 - ETA: 1:11 - loss: 0.0188 - acc: 0.994 - ETA: 1:11 - loss: 0.0188 - acc: 0.993 - ETA: 1:11 - loss: 0.0187 - acc: 0.994 - ETA: 1:11 - loss: 0.0190 - acc: 0.994 - ETA: 1:11 - loss: 0.0190 - acc: 0.994 - ETA: 1:11 - loss: 0.0199 - acc: 0.993 - ETA: 1:11 - loss: 0.0197 - acc: 0.993 - ETA: 1:11 - loss: 0.0200 - acc: 0.993 - ETA: 1:10 - loss: 0.0205 - acc: 0.993 - ETA: 1:11 - loss: 0.0203 - acc: 0.993 - ETA: 1:10 - loss: 0.0200 - acc: 0.994 - ETA: 1:10 - loss: 0.0196 - acc: 0.994 - ETA: 1:10 - loss: 0.0195 - acc: 0.994 - ETA: 1:10 - loss: 0.0194 - acc: 0.994 - ETA: 1:09 - loss: 0.0194 - acc: 0.994 - ETA: 1:09 - loss: 0.0196 - acc: 0.993 - ETA: 1:09 - loss: 0.0196 - acc: 0.993 - ETA: 1:09 - loss: 0.0196 - acc: 0.994 - ETA: 1:09 - loss: 0.0198 - acc: 0.993 - ETA: 1:09 - loss: 0.0205 - acc: 0.993 - ETA: 1:09 - loss: 0.0203 - acc: 0.993 - ETA: 1:08 - loss: 0.0203 - acc: 0.993 - ETA: 1:08 - loss: 0.0202 - acc: 0.993 - ETA: 1:08 - loss: 0.0200 - acc: 0.993 - ETA: 1:08 - loss: 0.0200 - acc: 0.993 - ETA: 1:08 - loss: 0.0207 - acc: 0.993 - ETA: 1:07 - loss: 0.0209 - acc: 0.993 - ETA: 1:07 - loss: 0.0206 - acc: 0.993 - ETA: 1:07 - loss: 0.0205 - acc: 0.993 - ETA: 1:07 - loss: 0.0205 - acc: 0.993 - ETA: 1:07 - loss: 0.0205 - acc: 0.993 - ETA: 1:07 - loss: 0.0205 - acc: 0.993 - ETA: 1:06 - loss: 0.0204 - acc: 0.993 - ETA: 1:06 - loss: 0.0204 - acc: 0.993 - ETA: 1:06 - loss: 0.0204 - acc: 0.993 - ETA: 1:06 - loss: 0.0204 - acc: 0.993 - ETA: 1:06 - loss: 0.0202 - acc: 0.993 - ETA: 1:06 - loss: 0.0204 - acc: 0.993 - ETA: 1:06 - loss: 0.0205 - acc: 0.993 - ETA: 1:05 - loss: 0.0205 - acc: 0.993 - ETA: 1:05 - loss: 0.0205 - acc: 0.993 - ETA: 1:05 - loss: 0.0205 - acc: 0.993 - ETA: 1:05 - loss: 0.0203 - acc: 0.993 - ETA: 1:05 - loss: 0.0202 - acc: 0.993 - ETA: 1:05 - loss: 0.0204 - acc: 0.993 - ETA: 1:04 - loss: 0.0202 - acc: 0.993 - ETA: 1:04 - loss: 0.0201 - acc: 0.993 - ETA: 1:04 - loss: 0.0201 - acc: 0.993 - ETA: 1:04 - loss: 0.0203 - acc: 0.993 - ETA: 1:04 - loss: 0.0202 - acc: 0.993 - ETA: 1:03 - loss: 0.0202 - acc: 0.993 - ETA: 1:03 - loss: 0.0202 - acc: 0.993 - ETA: 1:03 - loss: 0.0201 - acc: 0.993 - ETA: 1:03 - loss: 0.0200 - acc: 0.993 - ETA: 1:03 - loss: 0.0199 - acc: 0.993 - ETA: 1:03 - loss: 0.0199 - acc: 0.993 - ETA: 1:02 - loss: 0.0199 - acc: 0.993 - ETA: 1:02 - loss: 0.0198 - acc: 0.993 - ETA: 1:02 - loss: 0.0196 - acc: 0.993 - ETA: 1:02 - loss: 0.0196 - acc: 0.993 - ETA: 1:02 - loss: 0.0195 - acc: 0.993 - ETA: 1:02 - loss: 0.0195 - acc: 0.993 - ETA: 1:01 - loss: 0.0197 - acc: 0.993 - ETA: 1:01 - loss: 0.0197 - acc: 0.993 - ETA: 1:01 - loss: 0.0196 - acc: 0.993 - ETA: 1:01 - loss: 0.0196 - acc: 0.993 - ETA: 1:01 - loss: 0.0196 - acc: 0.993 - ETA: 1:01 - loss: 0.0194 - acc: 0.993 - ETA: 1:00 - loss: 0.0193 - acc: 0.993 - ETA: 1:00 - loss: 0.0192 - acc: 0.993 - ETA: 1:00 - loss: 0.0192 - acc: 0.993 - ETA: 1:00 - loss: 0.0193 - acc: 0.993 - ETA: 1:00 - loss: 0.0192 - acc: 0.993 - ETA: 59s - loss: 0.0193 - acc: 0.993 - ETA: 59s - loss: 0.0192 - acc: 0.99 - ETA: 59s - loss: 0.0192 - acc: 0.99 - ETA: 59s - loss: 0.0192 - acc: 0.99 - ETA: 59s - loss: 0.0191 - acc: 0.99 - ETA: 59s - loss: 0.0191 - acc: 0.99 - ETA: 59s - loss: 0.0191 - acc: 0.99 - ETA: 58s - loss: 0.0191 - acc: 0.99 - ETA: 58s - loss: 0.0192 - acc: 0.99 - ETA: 58s - loss: 0.0192 - acc: 0.99 - ETA: 58s - loss: 0.0190 - acc: 0.99 - ETA: 58s - loss: 0.0190 - acc: 0.99 - ETA: 58s - loss: 0.0190 - acc: 0.99 - ETA: 57s - loss: 0.0190 - acc: 0.99 - ETA: 57s - loss: 0.0190 - acc: 0.99 - ETA: 57s - loss: 0.0190 - acc: 0.99 - ETA: 57s - loss: 0.0190 - acc: 0.99 - ETA: 57s - loss: 0.0190 - acc: 0.99 - ETA: 57s - loss: 0.0189 - acc: 0.99 - ETA: 56s - loss: 0.0188 - acc: 0.99 - ETA: 56s - loss: 0.0187 - acc: 0.99 - ETA: 56s - loss: 0.0187 - acc: 0.99 - ETA: 56s - loss: 0.0186 - acc: 0.99 - ETA: 56s - loss: 0.0186 - acc: 0.99 - ETA: 55s - loss: 0.0186 - acc: 0.99 - ETA: 55s - loss: 0.0185 - acc: 0.99 - ETA: 55s - loss: 0.0185 - acc: 0.99 - ETA: 55s - loss: 0.0184 - acc: 0.99 - ETA: 55s - loss: 0.0184 - acc: 0.99 - ETA: 55s - loss: 0.0184 - acc: 0.99 - ETA: 54s - loss: 0.0183 - acc: 0.99 - ETA: 54s - loss: 0.0184 - acc: 0.99 - ETA: 54s - loss: 0.0183 - acc: 0.99 - ETA: 54s - loss: 0.0183 - acc: 0.99 - ETA: 54s - loss: 0.0182 - acc: 0.99 - ETA: 54s - loss: 0.0182 - acc: 0.99 - ETA: 53s - loss: 0.0182 - acc: 0.99 - ETA: 53s - loss: 0.0182 - acc: 0.99 - ETA: 53s - loss: 0.0182 - acc: 0.99 - ETA: 53s - loss: 0.0183 - acc: 0.99 - ETA: 53s - loss: 0.0182 - acc: 0.99 - ETA: 53s - loss: 0.0182 - acc: 0.99 - ETA: 52s - loss: 0.0181 - acc: 0.99 - ETA: 52s - loss: 0.0180 - acc: 0.99 - ETA: 52s - loss: 0.0180 - acc: 0.99 - ETA: 52s - loss: 0.0180 - acc: 0.99 - ETA: 52s - loss: 0.0180 - acc: 0.99 - ETA: 51s - loss: 0.0180 - acc: 0.99 - ETA: 51s - loss: 0.0181 - acc: 0.99 - ETA: 51s - loss: 0.0181 - acc: 0.99 - ETA: 51s - loss: 0.0180 - acc: 0.99 - ETA: 51s - loss: 0.0180 - acc: 0.99 - ETA: 51s - loss: 0.0181 - acc: 0.99 - ETA: 50s - loss: 0.0181 - acc: 0.99 - ETA: 50s - loss: 0.0180 - acc: 0.99 - ETA: 50s - loss: 0.0180 - acc: 0.99 - ETA: 50s - loss: 0.0180 - acc: 0.99 - ETA: 50s - loss: 0.0179 - acc: 0.99 - ETA: 50s - loss: 0.0179 - acc: 0.99 - ETA: 49s - loss: 0.0178 - acc: 0.99 - ETA: 49s - loss: 0.0178 - acc: 0.99 - ETA: 49s - loss: 0.0177 - acc: 0.99 - ETA: 49s - loss: 0.0177 - acc: 0.99 - ETA: 49s - loss: 0.0178 - acc: 0.99 - ETA: 49s - loss: 0.0178 - acc: 0.99 - ETA: 48s - loss: 0.0177 - acc: 0.99 - ETA: 48s - loss: 0.0178 - acc: 0.99 - ETA: 48s - loss: 0.0178 - acc: 0.99 - ETA: 48s - loss: 0.0177 - acc: 0.99 - ETA: 48s - loss: 0.0177 - acc: 0.99 - ETA: 47s - loss: 0.0177 - acc: 0.99 - ETA: 47s - loss: 0.0177 - acc: 0.99 - ETA: 47s - loss: 0.0176 - acc: 0.99 - ETA: 47s - loss: 0.0176 - acc: 0.99 - ETA: 47s - loss: 0.0176 - acc: 0.99 - ETA: 47s - loss: 0.0175 - acc: 0.99 - ETA: 46s - loss: 0.0175 - acc: 0.99 - ETA: 46s - loss: 0.0174 - acc: 0.99 - ETA: 46s - loss: 0.0175 - acc: 0.99 - ETA: 46s - loss: 0.0174 - acc: 0.99 - ETA: 46s - loss: 0.0175 - acc: 0.99 - ETA: 46s - loss: 0.0175 - acc: 0.99 - ETA: 45s - loss: 0.0175 - acc: 0.99 - ETA: 45s - loss: 0.0174 - acc: 0.99 - ETA: 45s - loss: 0.0174 - acc: 0.99 - ETA: 45s - loss: 0.0175 - acc: 0.99 - ETA: 45s - loss: 0.0175 - acc: 0.99 - ETA: 45s - loss: 0.0175 - acc: 0.99 - ETA: 44s - loss: 0.0174 - acc: 0.99 - ETA: 44s - loss: 0.0174 - acc: 0.99 - ETA: 44s - loss: 0.0174 - acc: 0.99 - ETA: 44s - loss: 0.0175 - acc: 0.99 - ETA: 44s - loss: 0.0174 - acc: 0.99 - ETA: 43s - loss: 0.0174 - acc: 0.99 - ETA: 43s - loss: 0.0174 - acc: 0.99 - ETA: 43s - loss: 0.0174 - acc: 0.99 - ETA: 43s - loss: 0.0174 - acc: 0.99 - ETA: 43s - loss: 0.0174 - acc: 0.99 - ETA: 43s - loss: 0.0174 - acc: 0.99 - ETA: 42s - loss: 0.0174 - acc: 0.99 - ETA: 42s - loss: 0.0174 - acc: 0.99 - ETA: 42s - loss: 0.0173 - acc: 0.99 - ETA: 42s - loss: 0.0174 - acc: 0.99 - ETA: 42s - loss: 0.0175 - acc: 0.99 - ETA: 42s - loss: 0.0174 - acc: 0.99 - ETA: 41s - loss: 0.0174 - acc: 0.99 - ETA: 41s - loss: 0.0174 - acc: 0.99 - ETA: 41s - loss: 0.0173 - acc: 0.99 - ETA: 41s - loss: 0.0173 - acc: 0.99 - ETA: 41s - loss: 0.0173 - acc: 0.99 - ETA: 40s - loss: 0.0173 - acc: 0.99 - ETA: 40s - loss: 0.0173 - acc: 0.99 - ETA: 40s - loss: 0.0172 - acc: 0.99 - ETA: 40s - loss: 0.0172 - acc: 0.99 - ETA: 40s - loss: 0.0172 - acc: 0.99 - ETA: 40s - loss: 0.0171 - acc: 0.99 - ETA: 39s - loss: 0.0172 - acc: 0.99 - ETA: 39s - loss: 0.0172 - acc: 0.99 - ETA: 39s - loss: 0.0171 - acc: 0.99 - ETA: 39s - loss: 0.0171 - acc: 0.99 - ETA: 39s - loss: 0.0171 - acc: 0.99 - ETA: 39s - loss: 0.0171 - acc: 0.99 - ETA: 38s - loss: 0.0171 - acc: 0.99 - ETA: 38s - loss: 0.0170 - acc: 0.99 - ETA: 38s - loss: 0.0170 - acc: 0.99 - ETA: 38s - loss: 0.0170 - acc: 0.99 - ETA: 38s - loss: 0.0169 - acc: 0.99 - ETA: 38s - loss: 0.0169 - acc: 0.9943\b\b\b\b\b\b\b\b\b\b\b\b\b\b\b\b\b\b\b\b\b\b\b\b\b\b\b\b\b\b\b\b\b\b\b\b\b\b\b\b\b\b\b\b\b\b\b\b\b\b\b\b\b\b\b\b\b\b\b\b\b\b\b\b\b\b\b\b\b\b\b\b\b\b\b\b\b\b\b\b\b\b\b\b"
     ]
    },
    {
     "name": "stdout",
     "output_type": "stream",
     "text": [
      "13600/13654 [============================>.] - ETA: 37s - loss: 0.0170 - acc: 0.99 - ETA: 37s - loss: 0.0170 - acc: 0.99 - ETA: 37s - loss: 0.0170 - acc: 0.99 - ETA: 37s - loss: 0.0170 - acc: 0.99 - ETA: 37s - loss: 0.0171 - acc: 0.99 - ETA: 36s - loss: 0.0170 - acc: 0.99 - ETA: 36s - loss: 0.0170 - acc: 0.99 - ETA: 36s - loss: 0.0170 - acc: 0.99 - ETA: 36s - loss: 0.0170 - acc: 0.99 - ETA: 36s - loss: 0.0170 - acc: 0.99 - ETA: 36s - loss: 0.0170 - acc: 0.99 - ETA: 35s - loss: 0.0170 - acc: 0.99 - ETA: 35s - loss: 0.0170 - acc: 0.99 - ETA: 35s - loss: 0.0171 - acc: 0.99 - ETA: 35s - loss: 0.0171 - acc: 0.99 - ETA: 35s - loss: 0.0170 - acc: 0.99 - ETA: 35s - loss: 0.0170 - acc: 0.99 - ETA: 34s - loss: 0.0171 - acc: 0.99 - ETA: 34s - loss: 0.0170 - acc: 0.99 - ETA: 34s - loss: 0.0171 - acc: 0.99 - ETA: 34s - loss: 0.0171 - acc: 0.99 - ETA: 34s - loss: 0.0171 - acc: 0.99 - ETA: 33s - loss: 0.0171 - acc: 0.99 - ETA: 33s - loss: 0.0171 - acc: 0.99 - ETA: 33s - loss: 0.0171 - acc: 0.99 - ETA: 33s - loss: 0.0170 - acc: 0.99 - ETA: 33s - loss: 0.0170 - acc: 0.99 - ETA: 33s - loss: 0.0170 - acc: 0.99 - ETA: 32s - loss: 0.0169 - acc: 0.99 - ETA: 32s - loss: 0.0170 - acc: 0.99 - ETA: 32s - loss: 0.0170 - acc: 0.99 - ETA: 32s - loss: 0.0170 - acc: 0.99 - ETA: 32s - loss: 0.0170 - acc: 0.99 - ETA: 32s - loss: 0.0170 - acc: 0.99 - ETA: 31s - loss: 0.0170 - acc: 0.99 - ETA: 31s - loss: 0.0170 - acc: 0.99 - ETA: 31s - loss: 0.0169 - acc: 0.99 - ETA: 31s - loss: 0.0169 - acc: 0.99 - ETA: 31s - loss: 0.0169 - acc: 0.99 - ETA: 31s - loss: 0.0169 - acc: 0.99 - ETA: 30s - loss: 0.0169 - acc: 0.99 - ETA: 30s - loss: 0.0169 - acc: 0.99 - ETA: 30s - loss: 0.0170 - acc: 0.99 - ETA: 30s - loss: 0.0170 - acc: 0.99 - ETA: 30s - loss: 0.0169 - acc: 0.99 - ETA: 30s - loss: 0.0169 - acc: 0.99 - ETA: 29s - loss: 0.0169 - acc: 0.99 - ETA: 29s - loss: 0.0169 - acc: 0.99 - ETA: 29s - loss: 0.0169 - acc: 0.99 - ETA: 29s - loss: 0.0169 - acc: 0.99 - ETA: 29s - loss: 0.0168 - acc: 0.99 - ETA: 28s - loss: 0.0168 - acc: 0.99 - ETA: 28s - loss: 0.0168 - acc: 0.99 - ETA: 28s - loss: 0.0168 - acc: 0.99 - ETA: 28s - loss: 0.0168 - acc: 0.99 - ETA: 28s - loss: 0.0168 - acc: 0.99 - ETA: 28s - loss: 0.0167 - acc: 0.99 - ETA: 27s - loss: 0.0167 - acc: 0.99 - ETA: 27s - loss: 0.0167 - acc: 0.99 - ETA: 27s - loss: 0.0167 - acc: 0.99 - ETA: 27s - loss: 0.0167 - acc: 0.99 - ETA: 27s - loss: 0.0167 - acc: 0.99 - ETA: 27s - loss: 0.0167 - acc: 0.99 - ETA: 26s - loss: 0.0167 - acc: 0.99 - ETA: 26s - loss: 0.0167 - acc: 0.99 - ETA: 26s - loss: 0.0167 - acc: 0.99 - ETA: 26s - loss: 0.0167 - acc: 0.99 - ETA: 26s - loss: 0.0167 - acc: 0.99 - ETA: 25s - loss: 0.0167 - acc: 0.99 - ETA: 25s - loss: 0.0167 - acc: 0.99 - ETA: 25s - loss: 0.0167 - acc: 0.99 - ETA: 25s - loss: 0.0167 - acc: 0.99 - ETA: 25s - loss: 0.0167 - acc: 0.99 - ETA: 25s - loss: 0.0167 - acc: 0.99 - ETA: 24s - loss: 0.0167 - acc: 0.99 - ETA: 24s - loss: 0.0166 - acc: 0.99 - ETA: 24s - loss: 0.0166 - acc: 0.99 - ETA: 24s - loss: 0.0166 - acc: 0.99 - ETA: 24s - loss: 0.0166 - acc: 0.99 - ETA: 24s - loss: 0.0166 - acc: 0.99 - ETA: 23s - loss: 0.0166 - acc: 0.99 - ETA: 23s - loss: 0.0166 - acc: 0.99 - ETA: 23s - loss: 0.0166 - acc: 0.99 - ETA: 23s - loss: 0.0166 - acc: 0.99 - ETA: 23s - loss: 0.0166 - acc: 0.99 - ETA: 22s - loss: 0.0166 - acc: 0.99 - ETA: 22s - loss: 0.0166 - acc: 0.99 - ETA: 22s - loss: 0.0166 - acc: 0.99 - ETA: 22s - loss: 0.0166 - acc: 0.99 - ETA: 22s - loss: 0.0165 - acc: 0.99 - ETA: 22s - loss: 0.0165 - acc: 0.99 - ETA: 21s - loss: 0.0165 - acc: 0.99 - ETA: 21s - loss: 0.0165 - acc: 0.99 - ETA: 21s - loss: 0.0165 - acc: 0.99 - ETA: 21s - loss: 0.0164 - acc: 0.99 - ETA: 21s - loss: 0.0164 - acc: 0.99 - ETA: 21s - loss: 0.0164 - acc: 0.99 - ETA: 20s - loss: 0.0164 - acc: 0.99 - ETA: 20s - loss: 0.0164 - acc: 0.99 - ETA: 20s - loss: 0.0164 - acc: 0.99 - ETA: 20s - loss: 0.0164 - acc: 0.99 - ETA: 20s - loss: 0.0164 - acc: 0.99 - ETA: 19s - loss: 0.0164 - acc: 0.99 - ETA: 19s - loss: 0.0163 - acc: 0.99 - ETA: 19s - loss: 0.0163 - acc: 0.99 - ETA: 19s - loss: 0.0163 - acc: 0.99 - ETA: 19s - loss: 0.0163 - acc: 0.99 - ETA: 19s - loss: 0.0163 - acc: 0.99 - ETA: 18s - loss: 0.0163 - acc: 0.99 - ETA: 18s - loss: 0.0164 - acc: 0.99 - ETA: 18s - loss: 0.0163 - acc: 0.99 - ETA: 18s - loss: 0.0163 - acc: 0.99 - ETA: 18s - loss: 0.0163 - acc: 0.99 - ETA: 18s - loss: 0.0163 - acc: 0.99 - ETA: 17s - loss: 0.0163 - acc: 0.99 - ETA: 17s - loss: 0.0164 - acc: 0.99 - ETA: 17s - loss: 0.0164 - acc: 0.99 - ETA: 17s - loss: 0.0164 - acc: 0.99 - ETA: 17s - loss: 0.0164 - acc: 0.99 - ETA: 17s - loss: 0.0164 - acc: 0.99 - ETA: 16s - loss: 0.0164 - acc: 0.99 - ETA: 16s - loss: 0.0164 - acc: 0.99 - ETA: 16s - loss: 0.0164 - acc: 0.99 - ETA: 16s - loss: 0.0164 - acc: 0.99 - ETA: 16s - loss: 0.0164 - acc: 0.99 - ETA: 15s - loss: 0.0164 - acc: 0.99 - ETA: 15s - loss: 0.0164 - acc: 0.99 - ETA: 15s - loss: 0.0164 - acc: 0.99 - ETA: 15s - loss: 0.0164 - acc: 0.99 - ETA: 15s - loss: 0.0163 - acc: 0.99 - ETA: 15s - loss: 0.0164 - acc: 0.99 - ETA: 14s - loss: 0.0164 - acc: 0.99 - ETA: 14s - loss: 0.0164 - acc: 0.99 - ETA: 14s - loss: 0.0164 - acc: 0.99 - ETA: 14s - loss: 0.0164 - acc: 0.99 - ETA: 14s - loss: 0.0164 - acc: 0.99 - ETA: 14s - loss: 0.0164 - acc: 0.99 - ETA: 13s - loss: 0.0164 - acc: 0.99 - ETA: 13s - loss: 0.0163 - acc: 0.99 - ETA: 13s - loss: 0.0163 - acc: 0.99 - ETA: 13s - loss: 0.0163 - acc: 0.99 - ETA: 13s - loss: 0.0163 - acc: 0.99 - ETA: 12s - loss: 0.0164 - acc: 0.99 - ETA: 12s - loss: 0.0164 - acc: 0.99 - ETA: 12s - loss: 0.0163 - acc: 0.99 - ETA: 12s - loss: 0.0163 - acc: 0.99 - ETA: 12s - loss: 0.0163 - acc: 0.99 - ETA: 12s - loss: 0.0163 - acc: 0.99 - ETA: 11s - loss: 0.0163 - acc: 0.99 - ETA: 11s - loss: 0.0163 - acc: 0.99 - ETA: 11s - loss: 0.0163 - acc: 0.99 - ETA: 11s - loss: 0.0163 - acc: 0.99 - ETA: 11s - loss: 0.0163 - acc: 0.99 - ETA: 11s - loss: 0.0162 - acc: 0.99 - ETA: 10s - loss: 0.0162 - acc: 0.99 - ETA: 10s - loss: 0.0162 - acc: 0.99 - ETA: 10s - loss: 0.0162 - acc: 0.99 - ETA: 10s - loss: 0.0162 - acc: 0.99 - ETA: 10s - loss: 0.0162 - acc: 0.99 - ETA: 9s - loss: 0.0162 - acc: 0.9944 - ETA: 9s - loss: 0.0162 - acc: 0.994 - ETA: 9s - loss: 0.0162 - acc: 0.994 - ETA: 9s - loss: 0.0162 - acc: 0.994 - ETA: 9s - loss: 0.0162 - acc: 0.994 - ETA: 9s - loss: 0.0162 - acc: 0.994 - ETA: 8s - loss: 0.0162 - acc: 0.994 - ETA: 8s - loss: 0.0162 - acc: 0.994 - ETA: 8s - loss: 0.0162 - acc: 0.994 - ETA: 8s - loss: 0.0162 - acc: 0.994 - ETA: 8s - loss: 0.0162 - acc: 0.994 - ETA: 8s - loss: 0.0162 - acc: 0.994 - ETA: 7s - loss: 0.0162 - acc: 0.994 - ETA: 7s - loss: 0.0162 - acc: 0.994 - ETA: 7s - loss: 0.0162 - acc: 0.994 - ETA: 7s - loss: 0.0162 - acc: 0.994 - ETA: 7s - loss: 0.0162 - acc: 0.994 - ETA: 6s - loss: 0.0162 - acc: 0.994 - ETA: 6s - loss: 0.0161 - acc: 0.994 - ETA: 6s - loss: 0.0161 - acc: 0.994 - ETA: 6s - loss: 0.0161 - acc: 0.994 - ETA: 6s - loss: 0.0161 - acc: 0.994 - ETA: 6s - loss: 0.0161 - acc: 0.994 - ETA: 5s - loss: 0.0161 - acc: 0.994 - ETA: 5s - loss: 0.0161 - acc: 0.994 - ETA: 5s - loss: 0.0161 - acc: 0.994 - ETA: 5s - loss: 0.0161 - acc: 0.994 - ETA: 5s - loss: 0.0161 - acc: 0.994 - ETA: 5s - loss: 0.0160 - acc: 0.994 - ETA: 4s - loss: 0.0161 - acc: 0.994 - ETA: 4s - loss: 0.0161 - acc: 0.994 - ETA: 4s - loss: 0.0161 - acc: 0.994 - ETA: 4s - loss: 0.0161 - acc: 0.994 - ETA: 4s - loss: 0.0161 - acc: 0.994 - ETA: 3s - loss: 0.0161 - acc: 0.994 - ETA: 3s - loss: 0.0161 - acc: 0.994 - ETA: 3s - loss: 0.0161 - acc: 0.994 - ETA: 3s - loss: 0.0161 - acc: 0.994 - ETA: 3s - loss: 0.0160 - acc: 0.994 - ETA: 3s - loss: 0.0160 - acc: 0.994 - ETA: 2s - loss: 0.0160 - acc: 0.994 - ETA: 2s - loss: 0.0160 - acc: 0.994 - ETA: 2s - loss: 0.0160 - acc: 0.994 - ETA: 2s - loss: 0.0160 - acc: 0.994 - ETA: 2s - loss: 0.0160 - acc: 0.994 - ETA: 2s - loss: 0.0160 - acc: 0.994 - ETA: 1s - loss: 0.0160 - acc: 0.994 - ETA: 1s - loss: 0.0161 - acc: 0.994 - ETA: 1s - loss: 0.0160 - acc: 0.994 - ETA: 1s - loss: 0.0160 - acc: 0.994 - ETA: 1s - loss: 0.0160 - acc: 0.994 - ETA: 1s - loss: 0.0160 - acc: 0.994 - ETA: 0s - loss: 0.0160 - acc: 0.994 - ETA: 0s - loss: 0.0159 - acc: 0.994 - ETA: 0s - loss: 0.0159 - acc: 0.994 - ETA: 0s - loss: 0.0159 - acc: 0.9945"
     ]
    },
    {
     "name": "stdout",
     "output_type": "stream",
     "text": [
      "13654/13654 [==============================] - ETA: 0s - loss: 0.0159 - acc: 0.994 - 77s 6ms/step - loss: 0.0159 - acc: 0.9945 - val_loss: 0.0145 - val_acc: 0.9947\n",
      "Epoch 4/5\n"
     ]
    },
    {
     "name": "stdout",
     "output_type": "stream",
     "text": [
      " 6720/13654 [=============>................] - ETA: 1:13 - loss: 0.0095 - acc: 0.997 - ETA: 1:12 - loss: 0.0093 - acc: 0.997 - ETA: 1:12 - loss: 0.0105 - acc: 0.996 - ETA: 1:12 - loss: 0.0124 - acc: 0.995 - ETA: 1:12 - loss: 0.0122 - acc: 0.994 - ETA: 1:13 - loss: 0.0125 - acc: 0.994 - ETA: 1:13 - loss: 0.0129 - acc: 0.994 - ETA: 1:12 - loss: 0.0126 - acc: 0.995 - ETA: 1:12 - loss: 0.0129 - acc: 0.995 - ETA: 1:12 - loss: 0.0129 - acc: 0.994 - ETA: 1:12 - loss: 0.0121 - acc: 0.995 - ETA: 1:11 - loss: 0.0120 - acc: 0.995 - ETA: 1:11 - loss: 0.0122 - acc: 0.995 - ETA: 1:11 - loss: 0.0122 - acc: 0.995 - ETA: 1:11 - loss: 0.0121 - acc: 0.995 - ETA: 1:10 - loss: 0.0123 - acc: 0.995 - ETA: 1:11 - loss: 0.0121 - acc: 0.995 - ETA: 1:10 - loss: 0.0120 - acc: 0.995 - ETA: 1:10 - loss: 0.0125 - acc: 0.995 - ETA: 1:10 - loss: 0.0130 - acc: 0.995 - ETA: 1:10 - loss: 0.0129 - acc: 0.995 - ETA: 1:10 - loss: 0.0127 - acc: 0.995 - ETA: 1:10 - loss: 0.0124 - acc: 0.995 - ETA: 1:09 - loss: 0.0128 - acc: 0.995 - ETA: 1:10 - loss: 0.0129 - acc: 0.995 - ETA: 1:09 - loss: 0.0135 - acc: 0.995 - ETA: 1:09 - loss: 0.0135 - acc: 0.995 - ETA: 1:09 - loss: 0.0131 - acc: 0.995 - ETA: 1:09 - loss: 0.0130 - acc: 0.995 - ETA: 1:09 - loss: 0.0133 - acc: 0.995 - ETA: 1:09 - loss: 0.0131 - acc: 0.995 - ETA: 1:08 - loss: 0.0129 - acc: 0.995 - ETA: 1:08 - loss: 0.0128 - acc: 0.995 - ETA: 1:08 - loss: 0.0128 - acc: 0.995 - ETA: 1:08 - loss: 0.0128 - acc: 0.995 - ETA: 1:08 - loss: 0.0128 - acc: 0.995 - ETA: 1:07 - loss: 0.0126 - acc: 0.995 - ETA: 1:07 - loss: 0.0128 - acc: 0.995 - ETA: 1:07 - loss: 0.0129 - acc: 0.995 - ETA: 1:07 - loss: 0.0128 - acc: 0.995 - ETA: 1:07 - loss: 0.0129 - acc: 0.995 - ETA: 1:07 - loss: 0.0129 - acc: 0.995 - ETA: 1:07 - loss: 0.0131 - acc: 0.995 - ETA: 1:06 - loss: 0.0131 - acc: 0.995 - ETA: 1:06 - loss: 0.0131 - acc: 0.995 - ETA: 1:06 - loss: 0.0130 - acc: 0.995 - ETA: 1:06 - loss: 0.0133 - acc: 0.994 - ETA: 1:06 - loss: 0.0132 - acc: 0.994 - ETA: 1:05 - loss: 0.0132 - acc: 0.995 - ETA: 1:05 - loss: 0.0131 - acc: 0.995 - ETA: 1:05 - loss: 0.0131 - acc: 0.995 - ETA: 1:05 - loss: 0.0130 - acc: 0.995 - ETA: 1:05 - loss: 0.0130 - acc: 0.995 - ETA: 1:05 - loss: 0.0130 - acc: 0.995 - ETA: 1:04 - loss: 0.0129 - acc: 0.995 - ETA: 1:04 - loss: 0.0128 - acc: 0.995 - ETA: 1:04 - loss: 0.0127 - acc: 0.995 - ETA: 1:04 - loss: 0.0126 - acc: 0.995 - ETA: 1:04 - loss: 0.0125 - acc: 0.995 - ETA: 1:04 - loss: 0.0124 - acc: 0.995 - ETA: 1:03 - loss: 0.0124 - acc: 0.995 - ETA: 1:03 - loss: 0.0124 - acc: 0.995 - ETA: 1:03 - loss: 0.0125 - acc: 0.995 - ETA: 1:03 - loss: 0.0124 - acc: 0.995 - ETA: 1:03 - loss: 0.0124 - acc: 0.995 - ETA: 1:03 - loss: 0.0124 - acc: 0.995 - ETA: 1:02 - loss: 0.0123 - acc: 0.995 - ETA: 1:02 - loss: 0.0123 - acc: 0.995 - ETA: 1:02 - loss: 0.0123 - acc: 0.995 - ETA: 1:02 - loss: 0.0123 - acc: 0.995 - ETA: 1:02 - loss: 0.0122 - acc: 0.995 - ETA: 1:02 - loss: 0.0123 - acc: 0.995 - ETA: 1:01 - loss: 0.0123 - acc: 0.995 - ETA: 1:01 - loss: 0.0124 - acc: 0.995 - ETA: 1:01 - loss: 0.0124 - acc: 0.995 - ETA: 1:01 - loss: 0.0123 - acc: 0.995 - ETA: 1:01 - loss: 0.0123 - acc: 0.995 - ETA: 1:01 - loss: 0.0122 - acc: 0.995 - ETA: 1:00 - loss: 0.0122 - acc: 0.995 - ETA: 1:00 - loss: 0.0122 - acc: 0.995 - ETA: 1:00 - loss: 0.0121 - acc: 0.995 - ETA: 1:00 - loss: 0.0122 - acc: 0.995 - ETA: 1:00 - loss: 0.0122 - acc: 0.995 - ETA: 1:00 - loss: 0.0123 - acc: 0.995 - ETA: 59s - loss: 0.0123 - acc: 0.995 - ETA: 59s - loss: 0.0123 - acc: 0.99 - ETA: 59s - loss: 0.0123 - acc: 0.99 - ETA: 59s - loss: 0.0123 - acc: 0.99 - ETA: 59s - loss: 0.0122 - acc: 0.99 - ETA: 59s - loss: 0.0122 - acc: 0.99 - ETA: 58s - loss: 0.0122 - acc: 0.99 - ETA: 58s - loss: 0.0121 - acc: 0.99 - ETA: 58s - loss: 0.0122 - acc: 0.99 - ETA: 58s - loss: 0.0121 - acc: 0.99 - ETA: 58s - loss: 0.0121 - acc: 0.99 - ETA: 58s - loss: 0.0120 - acc: 0.99 - ETA: 57s - loss: 0.0121 - acc: 0.99 - ETA: 57s - loss: 0.0121 - acc: 0.99 - ETA: 57s - loss: 0.0121 - acc: 0.99 - ETA: 57s - loss: 0.0121 - acc: 0.99 - ETA: 57s - loss: 0.0121 - acc: 0.99 - ETA: 57s - loss: 0.0121 - acc: 0.99 - ETA: 56s - loss: 0.0121 - acc: 0.99 - ETA: 56s - loss: 0.0121 - acc: 0.99 - ETA: 56s - loss: 0.0121 - acc: 0.99 - ETA: 56s - loss: 0.0122 - acc: 0.99 - ETA: 56s - loss: 0.0122 - acc: 0.99 - ETA: 55s - loss: 0.0123 - acc: 0.99 - ETA: 55s - loss: 0.0123 - acc: 0.99 - ETA: 55s - loss: 0.0123 - acc: 0.99 - ETA: 55s - loss: 0.0124 - acc: 0.99 - ETA: 55s - loss: 0.0124 - acc: 0.99 - ETA: 55s - loss: 0.0123 - acc: 0.99 - ETA: 54s - loss: 0.0123 - acc: 0.99 - ETA: 54s - loss: 0.0123 - acc: 0.99 - ETA: 54s - loss: 0.0123 - acc: 0.99 - ETA: 54s - loss: 0.0122 - acc: 0.99 - ETA: 54s - loss: 0.0122 - acc: 0.99 - ETA: 54s - loss: 0.0122 - acc: 0.99 - ETA: 53s - loss: 0.0122 - acc: 0.99 - ETA: 53s - loss: 0.0121 - acc: 0.99 - ETA: 53s - loss: 0.0122 - acc: 0.99 - ETA: 53s - loss: 0.0122 - acc: 0.99 - ETA: 53s - loss: 0.0122 - acc: 0.99 - ETA: 53s - loss: 0.0122 - acc: 0.99 - ETA: 52s - loss: 0.0121 - acc: 0.99 - ETA: 52s - loss: 0.0121 - acc: 0.99 - ETA: 52s - loss: 0.0121 - acc: 0.99 - ETA: 52s - loss: 0.0120 - acc: 0.99 - ETA: 52s - loss: 0.0120 - acc: 0.99 - ETA: 51s - loss: 0.0120 - acc: 0.99 - ETA: 51s - loss: 0.0121 - acc: 0.99 - ETA: 51s - loss: 0.0121 - acc: 0.99 - ETA: 51s - loss: 0.0121 - acc: 0.99 - ETA: 51s - loss: 0.0121 - acc: 0.99 - ETA: 51s - loss: 0.0121 - acc: 0.99 - ETA: 50s - loss: 0.0121 - acc: 0.99 - ETA: 50s - loss: 0.0121 - acc: 0.99 - ETA: 50s - loss: 0.0121 - acc: 0.99 - ETA: 50s - loss: 0.0121 - acc: 0.99 - ETA: 50s - loss: 0.0121 - acc: 0.99 - ETA: 50s - loss: 0.0121 - acc: 0.99 - ETA: 49s - loss: 0.0120 - acc: 0.99 - ETA: 49s - loss: 0.0120 - acc: 0.99 - ETA: 49s - loss: 0.0120 - acc: 0.99 - ETA: 49s - loss: 0.0120 - acc: 0.99 - ETA: 49s - loss: 0.0120 - acc: 0.99 - ETA: 49s - loss: 0.0119 - acc: 0.99 - ETA: 48s - loss: 0.0119 - acc: 0.99 - ETA: 48s - loss: 0.0119 - acc: 0.99 - ETA: 48s - loss: 0.0119 - acc: 0.99 - ETA: 48s - loss: 0.0119 - acc: 0.99 - ETA: 48s - loss: 0.0118 - acc: 0.99 - ETA: 47s - loss: 0.0118 - acc: 0.99 - ETA: 47s - loss: 0.0118 - acc: 0.99 - ETA: 47s - loss: 0.0118 - acc: 0.99 - ETA: 47s - loss: 0.0118 - acc: 0.99 - ETA: 47s - loss: 0.0118 - acc: 0.99 - ETA: 47s - loss: 0.0118 - acc: 0.99 - ETA: 46s - loss: 0.0119 - acc: 0.99 - ETA: 46s - loss: 0.0119 - acc: 0.99 - ETA: 46s - loss: 0.0119 - acc: 0.99 - ETA: 46s - loss: 0.0120 - acc: 0.99 - ETA: 46s - loss: 0.0120 - acc: 0.99 - ETA: 46s - loss: 0.0119 - acc: 0.99 - ETA: 45s - loss: 0.0119 - acc: 0.99 - ETA: 45s - loss: 0.0119 - acc: 0.99 - ETA: 45s - loss: 0.0119 - acc: 0.99 - ETA: 45s - loss: 0.0120 - acc: 0.99 - ETA: 45s - loss: 0.0120 - acc: 0.99 - ETA: 44s - loss: 0.0119 - acc: 0.99 - ETA: 44s - loss: 0.0119 - acc: 0.99 - ETA: 44s - loss: 0.0118 - acc: 0.99 - ETA: 44s - loss: 0.0118 - acc: 0.99 - ETA: 44s - loss: 0.0118 - acc: 0.99 - ETA: 44s - loss: 0.0118 - acc: 0.99 - ETA: 43s - loss: 0.0118 - acc: 0.99 - ETA: 43s - loss: 0.0118 - acc: 0.99 - ETA: 43s - loss: 0.0118 - acc: 0.99 - ETA: 43s - loss: 0.0118 - acc: 0.99 - ETA: 43s - loss: 0.0118 - acc: 0.99 - ETA: 43s - loss: 0.0118 - acc: 0.99 - ETA: 42s - loss: 0.0118 - acc: 0.99 - ETA: 42s - loss: 0.0117 - acc: 0.99 - ETA: 42s - loss: 0.0118 - acc: 0.99 - ETA: 42s - loss: 0.0118 - acc: 0.99 - ETA: 42s - loss: 0.0118 - acc: 0.99 - ETA: 42s - loss: 0.0118 - acc: 0.99 - ETA: 41s - loss: 0.0117 - acc: 0.99 - ETA: 41s - loss: 0.0117 - acc: 0.99 - ETA: 41s - loss: 0.0117 - acc: 0.99 - ETA: 41s - loss: 0.0117 - acc: 0.99 - ETA: 41s - loss: 0.0117 - acc: 0.99 - ETA: 40s - loss: 0.0117 - acc: 0.99 - ETA: 40s - loss: 0.0117 - acc: 0.99 - ETA: 40s - loss: 0.0116 - acc: 0.99 - ETA: 40s - loss: 0.0117 - acc: 0.99 - ETA: 40s - loss: 0.0117 - acc: 0.99 - ETA: 40s - loss: 0.0117 - acc: 0.99 - ETA: 39s - loss: 0.0117 - acc: 0.99 - ETA: 39s - loss: 0.0117 - acc: 0.99 - ETA: 39s - loss: 0.0116 - acc: 0.99 - ETA: 39s - loss: 0.0116 - acc: 0.99 - ETA: 39s - loss: 0.0116 - acc: 0.99 - ETA: 39s - loss: 0.0116 - acc: 0.99 - ETA: 38s - loss: 0.0116 - acc: 0.99 - ETA: 38s - loss: 0.0116 - acc: 0.99 - ETA: 38s - loss: 0.0116 - acc: 0.99 - ETA: 38s - loss: 0.0117 - acc: 0.99 - ETA: 38s - loss: 0.0117 - acc: 0.9957"
     ]
    },
    {
     "name": "stdout",
     "output_type": "stream",
     "text": [
      "13600/13654 [============================>.] - ETA: 37s - loss: 0.0118 - acc: 0.99 - ETA: 37s - loss: 0.0117 - acc: 0.99 - ETA: 37s - loss: 0.0118 - acc: 0.99 - ETA: 37s - loss: 0.0118 - acc: 0.99 - ETA: 37s - loss: 0.0118 - acc: 0.99 - ETA: 37s - loss: 0.0118 - acc: 0.99 - ETA: 36s - loss: 0.0118 - acc: 0.99 - ETA: 36s - loss: 0.0118 - acc: 0.99 - ETA: 36s - loss: 0.0118 - acc: 0.99 - ETA: 36s - loss: 0.0118 - acc: 0.99 - ETA: 36s - loss: 0.0118 - acc: 0.99 - ETA: 36s - loss: 0.0118 - acc: 0.99 - ETA: 35s - loss: 0.0118 - acc: 0.99 - ETA: 35s - loss: 0.0118 - acc: 0.99 - ETA: 35s - loss: 0.0118 - acc: 0.99 - ETA: 35s - loss: 0.0118 - acc: 0.99 - ETA: 35s - loss: 0.0118 - acc: 0.99 - ETA: 34s - loss: 0.0118 - acc: 0.99 - ETA: 34s - loss: 0.0118 - acc: 0.99 - ETA: 34s - loss: 0.0118 - acc: 0.99 - ETA: 34s - loss: 0.0118 - acc: 0.99 - ETA: 34s - loss: 0.0118 - acc: 0.99 - ETA: 34s - loss: 0.0117 - acc: 0.99 - ETA: 33s - loss: 0.0117 - acc: 0.99 - ETA: 33s - loss: 0.0117 - acc: 0.99 - ETA: 33s - loss: 0.0117 - acc: 0.99 - ETA: 33s - loss: 0.0116 - acc: 0.99 - ETA: 33s - loss: 0.0117 - acc: 0.99 - ETA: 33s - loss: 0.0116 - acc: 0.99 - ETA: 32s - loss: 0.0116 - acc: 0.99 - ETA: 32s - loss: 0.0116 - acc: 0.99 - ETA: 32s - loss: 0.0116 - acc: 0.99 - ETA: 32s - loss: 0.0116 - acc: 0.99 - ETA: 32s - loss: 0.0117 - acc: 0.99 - ETA: 32s - loss: 0.0116 - acc: 0.99 - ETA: 31s - loss: 0.0116 - acc: 0.99 - ETA: 31s - loss: 0.0116 - acc: 0.99 - ETA: 31s - loss: 0.0116 - acc: 0.99 - ETA: 31s - loss: 0.0116 - acc: 0.99 - ETA: 31s - loss: 0.0116 - acc: 0.99 - ETA: 30s - loss: 0.0116 - acc: 0.99 - ETA: 30s - loss: 0.0116 - acc: 0.99 - ETA: 30s - loss: 0.0116 - acc: 0.99 - ETA: 30s - loss: 0.0116 - acc: 0.99 - ETA: 30s - loss: 0.0116 - acc: 0.99 - ETA: 30s - loss: 0.0116 - acc: 0.99 - ETA: 29s - loss: 0.0117 - acc: 0.99 - ETA: 29s - loss: 0.0117 - acc: 0.99 - ETA: 29s - loss: 0.0116 - acc: 0.99 - ETA: 29s - loss: 0.0117 - acc: 0.99 - ETA: 29s - loss: 0.0117 - acc: 0.99 - ETA: 29s - loss: 0.0117 - acc: 0.99 - ETA: 28s - loss: 0.0117 - acc: 0.99 - ETA: 28s - loss: 0.0116 - acc: 0.99 - ETA: 28s - loss: 0.0116 - acc: 0.99 - ETA: 28s - loss: 0.0116 - acc: 0.99 - ETA: 28s - loss: 0.0116 - acc: 0.99 - ETA: 27s - loss: 0.0116 - acc: 0.99 - ETA: 27s - loss: 0.0116 - acc: 0.99 - ETA: 27s - loss: 0.0116 - acc: 0.99 - ETA: 27s - loss: 0.0116 - acc: 0.99 - ETA: 27s - loss: 0.0115 - acc: 0.99 - ETA: 27s - loss: 0.0115 - acc: 0.99 - ETA: 26s - loss: 0.0116 - acc: 0.99 - ETA: 26s - loss: 0.0116 - acc: 0.99 - ETA: 26s - loss: 0.0116 - acc: 0.99 - ETA: 26s - loss: 0.0116 - acc: 0.99 - ETA: 26s - loss: 0.0116 - acc: 0.99 - ETA: 26s - loss: 0.0116 - acc: 0.99 - ETA: 25s - loss: 0.0116 - acc: 0.99 - ETA: 25s - loss: 0.0116 - acc: 0.99 - ETA: 25s - loss: 0.0116 - acc: 0.99 - ETA: 25s - loss: 0.0116 - acc: 0.99 - ETA: 25s - loss: 0.0116 - acc: 0.99 - ETA: 24s - loss: 0.0116 - acc: 0.99 - ETA: 24s - loss: 0.0116 - acc: 0.99 - ETA: 24s - loss: 0.0115 - acc: 0.99 - ETA: 24s - loss: 0.0115 - acc: 0.99 - ETA: 24s - loss: 0.0115 - acc: 0.99 - ETA: 24s - loss: 0.0115 - acc: 0.99 - ETA: 23s - loss: 0.0115 - acc: 0.99 - ETA: 23s - loss: 0.0115 - acc: 0.99 - ETA: 23s - loss: 0.0115 - acc: 0.99 - ETA: 23s - loss: 0.0115 - acc: 0.99 - ETA: 23s - loss: 0.0115 - acc: 0.99 - ETA: 23s - loss: 0.0115 - acc: 0.99 - ETA: 22s - loss: 0.0115 - acc: 0.99 - ETA: 22s - loss: 0.0115 - acc: 0.99 - ETA: 22s - loss: 0.0115 - acc: 0.99 - ETA: 22s - loss: 0.0115 - acc: 0.99 - ETA: 22s - loss: 0.0115 - acc: 0.99 - ETA: 21s - loss: 0.0115 - acc: 0.99 - ETA: 21s - loss: 0.0115 - acc: 0.99 - ETA: 21s - loss: 0.0115 - acc: 0.99 - ETA: 21s - loss: 0.0115 - acc: 0.99 - ETA: 21s - loss: 0.0115 - acc: 0.99 - ETA: 21s - loss: 0.0115 - acc: 0.99 - ETA: 20s - loss: 0.0115 - acc: 0.99 - ETA: 20s - loss: 0.0115 - acc: 0.99 - ETA: 20s - loss: 0.0115 - acc: 0.99 - ETA: 20s - loss: 0.0115 - acc: 0.99 - ETA: 20s - loss: 0.0114 - acc: 0.99 - ETA: 20s - loss: 0.0114 - acc: 0.99 - ETA: 19s - loss: 0.0115 - acc: 0.99 - ETA: 19s - loss: 0.0115 - acc: 0.99 - ETA: 19s - loss: 0.0115 - acc: 0.99 - ETA: 19s - loss: 0.0115 - acc: 0.99 - ETA: 19s - loss: 0.0114 - acc: 0.99 - ETA: 18s - loss: 0.0114 - acc: 0.99 - ETA: 18s - loss: 0.0114 - acc: 0.99 - ETA: 18s - loss: 0.0114 - acc: 0.99 - ETA: 18s - loss: 0.0114 - acc: 0.99 - ETA: 18s - loss: 0.0114 - acc: 0.99 - ETA: 18s - loss: 0.0114 - acc: 0.99 - ETA: 17s - loss: 0.0114 - acc: 0.99 - ETA: 17s - loss: 0.0114 - acc: 0.99 - ETA: 17s - loss: 0.0114 - acc: 0.99 - ETA: 17s - loss: 0.0114 - acc: 0.99 - ETA: 17s - loss: 0.0114 - acc: 0.99 - ETA: 17s - loss: 0.0114 - acc: 0.99 - ETA: 16s - loss: 0.0114 - acc: 0.99 - ETA: 16s - loss: 0.0114 - acc: 0.99 - ETA: 16s - loss: 0.0114 - acc: 0.99 - ETA: 16s - loss: 0.0114 - acc: 0.99 - ETA: 16s - loss: 0.0113 - acc: 0.99 - ETA: 15s - loss: 0.0113 - acc: 0.99 - ETA: 15s - loss: 0.0113 - acc: 0.99 - ETA: 15s - loss: 0.0114 - acc: 0.99 - ETA: 15s - loss: 0.0114 - acc: 0.99 - ETA: 15s - loss: 0.0114 - acc: 0.99 - ETA: 15s - loss: 0.0114 - acc: 0.99 - ETA: 14s - loss: 0.0113 - acc: 0.99 - ETA: 14s - loss: 0.0114 - acc: 0.99 - ETA: 14s - loss: 0.0113 - acc: 0.99 - ETA: 14s - loss: 0.0113 - acc: 0.99 - ETA: 14s - loss: 0.0113 - acc: 0.99 - ETA: 14s - loss: 0.0113 - acc: 0.99 - ETA: 13s - loss: 0.0113 - acc: 0.99 - ETA: 13s - loss: 0.0113 - acc: 0.99 - ETA: 13s - loss: 0.0113 - acc: 0.99 - ETA: 13s - loss: 0.0113 - acc: 0.99 - ETA: 13s - loss: 0.0113 - acc: 0.99 - ETA: 12s - loss: 0.0114 - acc: 0.99 - ETA: 12s - loss: 0.0113 - acc: 0.99 - ETA: 12s - loss: 0.0113 - acc: 0.99 - ETA: 12s - loss: 0.0113 - acc: 0.99 - ETA: 12s - loss: 0.0113 - acc: 0.99 - ETA: 12s - loss: 0.0113 - acc: 0.99 - ETA: 11s - loss: 0.0113 - acc: 0.99 - ETA: 11s - loss: 0.0113 - acc: 0.99 - ETA: 11s - loss: 0.0113 - acc: 0.99 - ETA: 11s - loss: 0.0113 - acc: 0.99 - ETA: 11s - loss: 0.0113 - acc: 0.99 - ETA: 11s - loss: 0.0113 - acc: 0.99 - ETA: 10s - loss: 0.0113 - acc: 0.99 - ETA: 10s - loss: 0.0113 - acc: 0.99 - ETA: 10s - loss: 0.0113 - acc: 0.99 - ETA: 10s - loss: 0.0113 - acc: 0.99 - ETA: 10s - loss: 0.0113 - acc: 0.99 - ETA: 9s - loss: 0.0113 - acc: 0.9958 - ETA: 9s - loss: 0.0113 - acc: 0.995 - ETA: 9s - loss: 0.0113 - acc: 0.995 - ETA: 9s - loss: 0.0113 - acc: 0.995 - ETA: 9s - loss: 0.0113 - acc: 0.995 - ETA: 9s - loss: 0.0112 - acc: 0.995 - ETA: 8s - loss: 0.0112 - acc: 0.995 - ETA: 8s - loss: 0.0112 - acc: 0.995 - ETA: 8s - loss: 0.0112 - acc: 0.995 - ETA: 8s - loss: 0.0112 - acc: 0.995 - ETA: 8s - loss: 0.0112 - acc: 0.995 - ETA: 8s - loss: 0.0112 - acc: 0.995 - ETA: 7s - loss: 0.0112 - acc: 0.995 - ETA: 7s - loss: 0.0112 - acc: 0.995 - ETA: 7s - loss: 0.0112 - acc: 0.995 - ETA: 7s - loss: 0.0112 - acc: 0.995 - ETA: 7s - loss: 0.0113 - acc: 0.995 - ETA: 6s - loss: 0.0113 - acc: 0.995 - ETA: 6s - loss: 0.0113 - acc: 0.995 - ETA: 6s - loss: 0.0113 - acc: 0.995 - ETA: 6s - loss: 0.0113 - acc: 0.995 - ETA: 6s - loss: 0.0113 - acc: 0.995 - ETA: 6s - loss: 0.0112 - acc: 0.995 - ETA: 5s - loss: 0.0112 - acc: 0.995 - ETA: 5s - loss: 0.0112 - acc: 0.995 - ETA: 5s - loss: 0.0112 - acc: 0.995 - ETA: 5s - loss: 0.0112 - acc: 0.995 - ETA: 5s - loss: 0.0112 - acc: 0.995 - ETA: 5s - loss: 0.0112 - acc: 0.995 - ETA: 4s - loss: 0.0112 - acc: 0.995 - ETA: 4s - loss: 0.0112 - acc: 0.995 - ETA: 4s - loss: 0.0112 - acc: 0.995 - ETA: 4s - loss: 0.0112 - acc: 0.995 - ETA: 4s - loss: 0.0112 - acc: 0.995 - ETA: 4s - loss: 0.0112 - acc: 0.995 - ETA: 3s - loss: 0.0112 - acc: 0.995 - ETA: 3s - loss: 0.0112 - acc: 0.995 - ETA: 3s - loss: 0.0112 - acc: 0.995 - ETA: 3s - loss: 0.0112 - acc: 0.995 - ETA: 3s - loss: 0.0112 - acc: 0.995 - ETA: 2s - loss: 0.0112 - acc: 0.995 - ETA: 2s - loss: 0.0112 - acc: 0.995 - ETA: 2s - loss: 0.0113 - acc: 0.995 - ETA: 2s - loss: 0.0113 - acc: 0.995 - ETA: 2s - loss: 0.0113 - acc: 0.995 - ETA: 2s - loss: 0.0112 - acc: 0.995 - ETA: 1s - loss: 0.0112 - acc: 0.995 - ETA: 1s - loss: 0.0113 - acc: 0.995 - ETA: 1s - loss: 0.0113 - acc: 0.995 - ETA: 1s - loss: 0.0113 - acc: 0.995 - ETA: 1s - loss: 0.0113 - acc: 0.995 - ETA: 1s - loss: 0.0113 - acc: 0.995 - ETA: 0s - loss: 0.0113 - acc: 0.995 - ETA: 0s - loss: 0.0113 - acc: 0.995 - ETA: 0s - loss: 0.0113 - acc: 0.995 - ETA: 0s - loss: 0.0113 - acc: 0.9958"
     ]
    },
    {
     "name": "stdout",
     "output_type": "stream",
     "text": [
      "13654/13654 [==============================] - ETA: 0s - loss: 0.0113 - acc: 0.995 - 78s 6ms/step - loss: 0.0113 - acc: 0.9958 - val_loss: 0.0125 - val_acc: 0.9953\n",
      "Epoch 5/5\n"
     ]
    },
    {
     "name": "stdout",
     "output_type": "stream",
     "text": [
      " 6720/13654 [=============>................] - ETA: 1:26 - loss: 0.0051 - acc: 0.997 - ETA: 1:22 - loss: 0.0043 - acc: 0.998 - ETA: 1:19 - loss: 0.0056 - acc: 0.997 - ETA: 1:17 - loss: 0.0084 - acc: 0.997 - ETA: 1:17 - loss: 0.0075 - acc: 0.997 - ETA: 1:16 - loss: 0.0070 - acc: 0.997 - ETA: 1:16 - loss: 0.0069 - acc: 0.997 - ETA: 1:16 - loss: 0.0068 - acc: 0.997 - ETA: 1:15 - loss: 0.0070 - acc: 0.997 - ETA: 1:14 - loss: 0.0076 - acc: 0.997 - ETA: 1:14 - loss: 0.0076 - acc: 0.997 - ETA: 1:14 - loss: 0.0077 - acc: 0.997 - ETA: 1:14 - loss: 0.0076 - acc: 0.997 - ETA: 1:14 - loss: 0.0073 - acc: 0.997 - ETA: 1:14 - loss: 0.0072 - acc: 0.997 - ETA: 1:14 - loss: 0.0078 - acc: 0.996 - ETA: 1:13 - loss: 0.0079 - acc: 0.996 - ETA: 1:13 - loss: 0.0080 - acc: 0.996 - ETA: 1:13 - loss: 0.0078 - acc: 0.997 - ETA: 1:13 - loss: 0.0080 - acc: 0.996 - ETA: 1:13 - loss: 0.0080 - acc: 0.996 - ETA: 1:12 - loss: 0.0080 - acc: 0.996 - ETA: 1:12 - loss: 0.0082 - acc: 0.996 - ETA: 1:12 - loss: 0.0081 - acc: 0.996 - ETA: 1:12 - loss: 0.0078 - acc: 0.996 - ETA: 1:12 - loss: 0.0076 - acc: 0.997 - ETA: 1:12 - loss: 0.0075 - acc: 0.997 - ETA: 1:12 - loss: 0.0074 - acc: 0.997 - ETA: 1:11 - loss: 0.0074 - acc: 0.997 - ETA: 1:11 - loss: 0.0073 - acc: 0.997 - ETA: 1:11 - loss: 0.0072 - acc: 0.997 - ETA: 1:11 - loss: 0.0074 - acc: 0.997 - ETA: 1:11 - loss: 0.0076 - acc: 0.997 - ETA: 1:11 - loss: 0.0076 - acc: 0.997 - ETA: 1:11 - loss: 0.0078 - acc: 0.997 - ETA: 1:11 - loss: 0.0079 - acc: 0.997 - ETA: 1:10 - loss: 0.0079 - acc: 0.997 - ETA: 1:10 - loss: 0.0079 - acc: 0.997 - ETA: 1:10 - loss: 0.0078 - acc: 0.997 - ETA: 1:10 - loss: 0.0080 - acc: 0.997 - ETA: 1:10 - loss: 0.0080 - acc: 0.997 - ETA: 1:10 - loss: 0.0080 - acc: 0.997 - ETA: 1:10 - loss: 0.0082 - acc: 0.997 - ETA: 1:10 - loss: 0.0081 - acc: 0.997 - ETA: 1:10 - loss: 0.0083 - acc: 0.997 - ETA: 1:10 - loss: 0.0085 - acc: 0.996 - ETA: 1:10 - loss: 0.0085 - acc: 0.996 - ETA: 1:10 - loss: 0.0085 - acc: 0.997 - ETA: 1:09 - loss: 0.0085 - acc: 0.996 - ETA: 1:09 - loss: 0.0087 - acc: 0.996 - ETA: 1:09 - loss: 0.0086 - acc: 0.996 - ETA: 1:09 - loss: 0.0088 - acc: 0.996 - ETA: 1:09 - loss: 0.0087 - acc: 0.996 - ETA: 1:08 - loss: 0.0087 - acc: 0.996 - ETA: 1:08 - loss: 0.0087 - acc: 0.996 - ETA: 1:08 - loss: 0.0087 - acc: 0.996 - ETA: 1:08 - loss: 0.0087 - acc: 0.996 - ETA: 1:08 - loss: 0.0086 - acc: 0.996 - ETA: 1:08 - loss: 0.0087 - acc: 0.996 - ETA: 1:07 - loss: 0.0087 - acc: 0.996 - ETA: 1:07 - loss: 0.0087 - acc: 0.996 - ETA: 1:07 - loss: 0.0087 - acc: 0.996 - ETA: 1:07 - loss: 0.0087 - acc: 0.996 - ETA: 1:07 - loss: 0.0086 - acc: 0.997 - ETA: 1:06 - loss: 0.0086 - acc: 0.997 - ETA: 1:06 - loss: 0.0085 - acc: 0.997 - ETA: 1:06 - loss: 0.0085 - acc: 0.997 - ETA: 1:06 - loss: 0.0085 - acc: 0.997 - ETA: 1:05 - loss: 0.0085 - acc: 0.997 - ETA: 1:05 - loss: 0.0085 - acc: 0.997 - ETA: 1:05 - loss: 0.0086 - acc: 0.997 - ETA: 1:05 - loss: 0.0086 - acc: 0.996 - ETA: 1:04 - loss: 0.0087 - acc: 0.996 - ETA: 1:04 - loss: 0.0086 - acc: 0.996 - ETA: 1:04 - loss: 0.0087 - acc: 0.996 - ETA: 1:04 - loss: 0.0087 - acc: 0.996 - ETA: 1:04 - loss: 0.0087 - acc: 0.996 - ETA: 1:03 - loss: 0.0087 - acc: 0.996 - ETA: 1:03 - loss: 0.0087 - acc: 0.996 - ETA: 1:03 - loss: 0.0087 - acc: 0.996 - ETA: 1:03 - loss: 0.0088 - acc: 0.996 - ETA: 1:03 - loss: 0.0088 - acc: 0.996 - ETA: 1:02 - loss: 0.0088 - acc: 0.996 - ETA: 1:02 - loss: 0.0089 - acc: 0.996 - ETA: 1:02 - loss: 0.0089 - acc: 0.996 - ETA: 1:02 - loss: 0.0088 - acc: 0.996 - ETA: 1:02 - loss: 0.0088 - acc: 0.996 - ETA: 1:01 - loss: 0.0088 - acc: 0.996 - ETA: 1:01 - loss: 0.0088 - acc: 0.996 - ETA: 1:01 - loss: 0.0088 - acc: 0.996 - ETA: 1:01 - loss: 0.0087 - acc: 0.996 - ETA: 1:01 - loss: 0.0087 - acc: 0.996 - ETA: 1:00 - loss: 0.0087 - acc: 0.996 - ETA: 1:00 - loss: 0.0088 - acc: 0.996 - ETA: 1:00 - loss: 0.0087 - acc: 0.996 - ETA: 1:00 - loss: 0.0088 - acc: 0.996 - ETA: 1:00 - loss: 0.0087 - acc: 0.996 - ETA: 59s - loss: 0.0087 - acc: 0.996 - ETA: 59s - loss: 0.0088 - acc: 0.99 - ETA: 59s - loss: 0.0087 - acc: 0.99 - ETA: 59s - loss: 0.0087 - acc: 0.99 - ETA: 59s - loss: 0.0088 - acc: 0.99 - ETA: 58s - loss: 0.0088 - acc: 0.99 - ETA: 58s - loss: 0.0087 - acc: 0.99 - ETA: 58s - loss: 0.0088 - acc: 0.99 - ETA: 58s - loss: 0.0087 - acc: 0.99 - ETA: 58s - loss: 0.0087 - acc: 0.99 - ETA: 57s - loss: 0.0087 - acc: 0.99 - ETA: 57s - loss: 0.0087 - acc: 0.99 - ETA: 57s - loss: 0.0086 - acc: 0.99 - ETA: 57s - loss: 0.0086 - acc: 0.99 - ETA: 57s - loss: 0.0086 - acc: 0.99 - ETA: 56s - loss: 0.0087 - acc: 0.99 - ETA: 56s - loss: 0.0088 - acc: 0.99 - ETA: 56s - loss: 0.0088 - acc: 0.99 - ETA: 56s - loss: 0.0088 - acc: 0.99 - ETA: 56s - loss: 0.0088 - acc: 0.99 - ETA: 55s - loss: 0.0088 - acc: 0.99 - ETA: 55s - loss: 0.0088 - acc: 0.99 - ETA: 55s - loss: 0.0088 - acc: 0.99 - ETA: 55s - loss: 0.0089 - acc: 0.99 - ETA: 55s - loss: 0.0089 - acc: 0.99 - ETA: 55s - loss: 0.0089 - acc: 0.99 - ETA: 54s - loss: 0.0089 - acc: 0.99 - ETA: 54s - loss: 0.0089 - acc: 0.99 - ETA: 54s - loss: 0.0089 - acc: 0.99 - ETA: 54s - loss: 0.0089 - acc: 0.99 - ETA: 54s - loss: 0.0088 - acc: 0.99 - ETA: 54s - loss: 0.0088 - acc: 0.99 - ETA: 53s - loss: 0.0088 - acc: 0.99 - ETA: 53s - loss: 0.0088 - acc: 0.99 - ETA: 53s - loss: 0.0087 - acc: 0.99 - ETA: 53s - loss: 0.0087 - acc: 0.99 - ETA: 53s - loss: 0.0087 - acc: 0.99 - ETA: 52s - loss: 0.0087 - acc: 0.99 - ETA: 52s - loss: 0.0088 - acc: 0.99 - ETA: 52s - loss: 0.0088 - acc: 0.99 - ETA: 52s - loss: 0.0088 - acc: 0.99 - ETA: 52s - loss: 0.0088 - acc: 0.99 - ETA: 51s - loss: 0.0088 - acc: 0.99 - ETA: 51s - loss: 0.0088 - acc: 0.99 - ETA: 51s - loss: 0.0088 - acc: 0.99 - ETA: 51s - loss: 0.0088 - acc: 0.99 - ETA: 51s - loss: 0.0088 - acc: 0.99 - ETA: 50s - loss: 0.0088 - acc: 0.99 - ETA: 50s - loss: 0.0088 - acc: 0.99 - ETA: 50s - loss: 0.0088 - acc: 0.99 - ETA: 50s - loss: 0.0088 - acc: 0.99 - ETA: 50s - loss: 0.0088 - acc: 0.99 - ETA: 49s - loss: 0.0088 - acc: 0.99 - ETA: 49s - loss: 0.0088 - acc: 0.99 - ETA: 49s - loss: 0.0089 - acc: 0.99 - ETA: 49s - loss: 0.0089 - acc: 0.99 - ETA: 49s - loss: 0.0089 - acc: 0.99 - ETA: 48s - loss: 0.0088 - acc: 0.99 - ETA: 48s - loss: 0.0088 - acc: 0.99 - ETA: 48s - loss: 0.0088 - acc: 0.99 - ETA: 48s - loss: 0.0088 - acc: 0.99 - ETA: 48s - loss: 0.0088 - acc: 0.99 - ETA: 48s - loss: 0.0088 - acc: 0.99 - ETA: 47s - loss: 0.0088 - acc: 0.99 - ETA: 47s - loss: 0.0089 - acc: 0.99 - ETA: 47s - loss: 0.0089 - acc: 0.99 - ETA: 47s - loss: 0.0089 - acc: 0.99 - ETA: 47s - loss: 0.0089 - acc: 0.99 - ETA: 46s - loss: 0.0089 - acc: 0.99 - ETA: 46s - loss: 0.0089 - acc: 0.99 - ETA: 46s - loss: 0.0088 - acc: 0.99 - ETA: 46s - loss: 0.0089 - acc: 0.99 - ETA: 46s - loss: 0.0089 - acc: 0.99 - ETA: 45s - loss: 0.0088 - acc: 0.99 - ETA: 45s - loss: 0.0089 - acc: 0.99 - ETA: 45s - loss: 0.0089 - acc: 0.99 - ETA: 45s - loss: 0.0088 - acc: 0.99 - ETA: 45s - loss: 0.0088 - acc: 0.99 - ETA: 45s - loss: 0.0088 - acc: 0.99 - ETA: 44s - loss: 0.0088 - acc: 0.99 - ETA: 44s - loss: 0.0088 - acc: 0.99 - ETA: 44s - loss: 0.0089 - acc: 0.99 - ETA: 44s - loss: 0.0089 - acc: 0.99 - ETA: 44s - loss: 0.0089 - acc: 0.99 - ETA: 43s - loss: 0.0089 - acc: 0.99 - ETA: 43s - loss: 0.0089 - acc: 0.99 - ETA: 43s - loss: 0.0089 - acc: 0.99 - ETA: 43s - loss: 0.0089 - acc: 0.99 - ETA: 43s - loss: 0.0089 - acc: 0.99 - ETA: 43s - loss: 0.0089 - acc: 0.99 - ETA: 42s - loss: 0.0089 - acc: 0.99 - ETA: 42s - loss: 0.0089 - acc: 0.99 - ETA: 42s - loss: 0.0088 - acc: 0.99 - ETA: 42s - loss: 0.0088 - acc: 0.99 - ETA: 42s - loss: 0.0088 - acc: 0.99 - ETA: 41s - loss: 0.0089 - acc: 0.99 - ETA: 41s - loss: 0.0088 - acc: 0.99 - ETA: 41s - loss: 0.0089 - acc: 0.99 - ETA: 41s - loss: 0.0089 - acc: 0.99 - ETA: 41s - loss: 0.0089 - acc: 0.99 - ETA: 40s - loss: 0.0089 - acc: 0.99 - ETA: 40s - loss: 0.0089 - acc: 0.99 - ETA: 40s - loss: 0.0089 - acc: 0.99 - ETA: 40s - loss: 0.0089 - acc: 0.99 - ETA: 40s - loss: 0.0089 - acc: 0.99 - ETA: 40s - loss: 0.0090 - acc: 0.99 - ETA: 39s - loss: 0.0089 - acc: 0.99 - ETA: 39s - loss: 0.0089 - acc: 0.99 - ETA: 39s - loss: 0.0089 - acc: 0.99 - ETA: 39s - loss: 0.0089 - acc: 0.99 - ETA: 39s - loss: 0.0089 - acc: 0.99 - ETA: 38s - loss: 0.0089 - acc: 0.99 - ETA: 38s - loss: 0.0089 - acc: 0.9967"
     ]
    },
    {
     "name": "stdout",
     "output_type": "stream",
     "text": [
      "13600/13654 [============================>.] - ETA: 38s - loss: 0.0089 - acc: 0.99 - ETA: 38s - loss: 0.0089 - acc: 0.99 - ETA: 38s - loss: 0.0089 - acc: 0.99 - ETA: 38s - loss: 0.0089 - acc: 0.99 - ETA: 37s - loss: 0.0089 - acc: 0.99 - ETA: 37s - loss: 0.0089 - acc: 0.99 - ETA: 37s - loss: 0.0089 - acc: 0.99 - ETA: 37s - loss: 0.0088 - acc: 0.99 - ETA: 37s - loss: 0.0088 - acc: 0.99 - ETA: 36s - loss: 0.0088 - acc: 0.99 - ETA: 36s - loss: 0.0088 - acc: 0.99 - ETA: 36s - loss: 0.0088 - acc: 0.99 - ETA: 36s - loss: 0.0088 - acc: 0.99 - ETA: 36s - loss: 0.0088 - acc: 0.99 - ETA: 36s - loss: 0.0088 - acc: 0.99 - ETA: 35s - loss: 0.0088 - acc: 0.99 - ETA: 35s - loss: 0.0088 - acc: 0.99 - ETA: 35s - loss: 0.0088 - acc: 0.99 - ETA: 35s - loss: 0.0088 - acc: 0.99 - ETA: 35s - loss: 0.0088 - acc: 0.99 - ETA: 34s - loss: 0.0088 - acc: 0.99 - ETA: 34s - loss: 0.0088 - acc: 0.99 - ETA: 34s - loss: 0.0088 - acc: 0.99 - ETA: 34s - loss: 0.0088 - acc: 0.99 - ETA: 34s - loss: 0.0088 - acc: 0.99 - ETA: 34s - loss: 0.0088 - acc: 0.99 - ETA: 33s - loss: 0.0088 - acc: 0.99 - ETA: 33s - loss: 0.0088 - acc: 0.99 - ETA: 33s - loss: 0.0088 - acc: 0.99 - ETA: 33s - loss: 0.0088 - acc: 0.99 - ETA: 33s - loss: 0.0088 - acc: 0.99 - ETA: 32s - loss: 0.0088 - acc: 0.99 - ETA: 32s - loss: 0.0088 - acc: 0.99 - ETA: 32s - loss: 0.0087 - acc: 0.99 - ETA: 32s - loss: 0.0087 - acc: 0.99 - ETA: 32s - loss: 0.0087 - acc: 0.99 - ETA: 32s - loss: 0.0087 - acc: 0.99 - ETA: 31s - loss: 0.0087 - acc: 0.99 - ETA: 31s - loss: 0.0087 - acc: 0.99 - ETA: 31s - loss: 0.0087 - acc: 0.99 - ETA: 31s - loss: 0.0087 - acc: 0.99 - ETA: 31s - loss: 0.0087 - acc: 0.99 - ETA: 30s - loss: 0.0087 - acc: 0.99 - ETA: 30s - loss: 0.0087 - acc: 0.99 - ETA: 30s - loss: 0.0087 - acc: 0.99 - ETA: 30s - loss: 0.0087 - acc: 0.99 - ETA: 30s - loss: 0.0087 - acc: 0.99 - ETA: 30s - loss: 0.0087 - acc: 0.99 - ETA: 29s - loss: 0.0086 - acc: 0.99 - ETA: 29s - loss: 0.0086 - acc: 0.99 - ETA: 29s - loss: 0.0086 - acc: 0.99 - ETA: 29s - loss: 0.0086 - acc: 0.99 - ETA: 29s - loss: 0.0086 - acc: 0.99 - ETA: 28s - loss: 0.0086 - acc: 0.99 - ETA: 28s - loss: 0.0086 - acc: 0.99 - ETA: 28s - loss: 0.0086 - acc: 0.99 - ETA: 28s - loss: 0.0086 - acc: 0.99 - ETA: 28s - loss: 0.0086 - acc: 0.99 - ETA: 28s - loss: 0.0086 - acc: 0.99 - ETA: 27s - loss: 0.0086 - acc: 0.99 - ETA: 27s - loss: 0.0086 - acc: 0.99 - ETA: 27s - loss: 0.0086 - acc: 0.99 - ETA: 27s - loss: 0.0086 - acc: 0.99 - ETA: 27s - loss: 0.0086 - acc: 0.99 - ETA: 27s - loss: 0.0086 - acc: 0.99 - ETA: 26s - loss: 0.0086 - acc: 0.99 - ETA: 26s - loss: 0.0086 - acc: 0.99 - ETA: 26s - loss: 0.0086 - acc: 0.99 - ETA: 26s - loss: 0.0086 - acc: 0.99 - ETA: 26s - loss: 0.0086 - acc: 0.99 - ETA: 25s - loss: 0.0086 - acc: 0.99 - ETA: 25s - loss: 0.0086 - acc: 0.99 - ETA: 25s - loss: 0.0086 - acc: 0.99 - ETA: 25s - loss: 0.0086 - acc: 0.99 - ETA: 25s - loss: 0.0086 - acc: 0.99 - ETA: 25s - loss: 0.0086 - acc: 0.99 - ETA: 24s - loss: 0.0086 - acc: 0.99 - ETA: 24s - loss: 0.0086 - acc: 0.99 - ETA: 24s - loss: 0.0086 - acc: 0.99 - ETA: 24s - loss: 0.0086 - acc: 0.99 - ETA: 24s - loss: 0.0085 - acc: 0.99 - ETA: 23s - loss: 0.0086 - acc: 0.99 - ETA: 23s - loss: 0.0086 - acc: 0.99 - ETA: 23s - loss: 0.0086 - acc: 0.99 - ETA: 23s - loss: 0.0086 - acc: 0.99 - ETA: 23s - loss: 0.0086 - acc: 0.99 - ETA: 23s - loss: 0.0086 - acc: 0.99 - ETA: 22s - loss: 0.0086 - acc: 0.99 - ETA: 22s - loss: 0.0086 - acc: 0.99 - ETA: 22s - loss: 0.0086 - acc: 0.99 - ETA: 22s - loss: 0.0085 - acc: 0.99 - ETA: 22s - loss: 0.0085 - acc: 0.99 - ETA: 21s - loss: 0.0086 - acc: 0.99 - ETA: 21s - loss: 0.0086 - acc: 0.99 - ETA: 21s - loss: 0.0086 - acc: 0.99 - ETA: 21s - loss: 0.0086 - acc: 0.99 - ETA: 21s - loss: 0.0086 - acc: 0.99 - ETA: 21s - loss: 0.0086 - acc: 0.99 - ETA: 20s - loss: 0.0086 - acc: 0.99 - ETA: 20s - loss: 0.0086 - acc: 0.99 - ETA: 20s - loss: 0.0086 - acc: 0.99 - ETA: 20s - loss: 0.0086 - acc: 0.99 - ETA: 20s - loss: 0.0086 - acc: 0.99 - ETA: 20s - loss: 0.0086 - acc: 0.99 - ETA: 19s - loss: 0.0086 - acc: 0.99 - ETA: 19s - loss: 0.0086 - acc: 0.99 - ETA: 19s - loss: 0.0086 - acc: 0.99 - ETA: 19s - loss: 0.0086 - acc: 0.99 - ETA: 19s - loss: 0.0086 - acc: 0.99 - ETA: 19s - loss: 0.0086 - acc: 0.99 - ETA: 18s - loss: 0.0086 - acc: 0.99 - ETA: 18s - loss: 0.0086 - acc: 0.99 - ETA: 18s - loss: 0.0086 - acc: 0.99 - ETA: 18s - loss: 0.0086 - acc: 0.99 - ETA: 18s - loss: 0.0086 - acc: 0.99 - ETA: 17s - loss: 0.0086 - acc: 0.99 - ETA: 17s - loss: 0.0086 - acc: 0.99 - ETA: 17s - loss: 0.0086 - acc: 0.99 - ETA: 17s - loss: 0.0086 - acc: 0.99 - ETA: 17s - loss: 0.0086 - acc: 0.99 - ETA: 17s - loss: 0.0086 - acc: 0.99 - ETA: 16s - loss: 0.0086 - acc: 0.99 - ETA: 16s - loss: 0.0086 - acc: 0.99 - ETA: 16s - loss: 0.0086 - acc: 0.99 - ETA: 16s - loss: 0.0086 - acc: 0.99 - ETA: 16s - loss: 0.0086 - acc: 0.99 - ETA: 15s - loss: 0.0086 - acc: 0.99 - ETA: 15s - loss: 0.0086 - acc: 0.99 - ETA: 15s - loss: 0.0086 - acc: 0.99 - ETA: 15s - loss: 0.0086 - acc: 0.99 - ETA: 15s - loss: 0.0086 - acc: 0.99 - ETA: 15s - loss: 0.0086 - acc: 0.99 - ETA: 14s - loss: 0.0086 - acc: 0.99 - ETA: 14s - loss: 0.0086 - acc: 0.99 - ETA: 14s - loss: 0.0086 - acc: 0.99 - ETA: 14s - loss: 0.0086 - acc: 0.99 - ETA: 14s - loss: 0.0086 - acc: 0.99 - ETA: 14s - loss: 0.0086 - acc: 0.99 - ETA: 13s - loss: 0.0086 - acc: 0.99 - ETA: 13s - loss: 0.0086 - acc: 0.99 - ETA: 13s - loss: 0.0086 - acc: 0.99 - ETA: 13s - loss: 0.0086 - acc: 0.99 - ETA: 13s - loss: 0.0086 - acc: 0.99 - ETA: 12s - loss: 0.0086 - acc: 0.99 - ETA: 12s - loss: 0.0086 - acc: 0.99 - ETA: 12s - loss: 0.0086 - acc: 0.99 - ETA: 12s - loss: 0.0086 - acc: 0.99 - ETA: 12s - loss: 0.0086 - acc: 0.99 - ETA: 12s - loss: 0.0085 - acc: 0.99 - ETA: 11s - loss: 0.0085 - acc: 0.99 - ETA: 11s - loss: 0.0085 - acc: 0.99 - ETA: 11s - loss: 0.0085 - acc: 0.99 - ETA: 11s - loss: 0.0085 - acc: 0.99 - ETA: 11s - loss: 0.0086 - acc: 0.99 - ETA: 11s - loss: 0.0086 - acc: 0.99 - ETA: 10s - loss: 0.0086 - acc: 0.99 - ETA: 10s - loss: 0.0085 - acc: 0.99 - ETA: 10s - loss: 0.0085 - acc: 0.99 - ETA: 10s - loss: 0.0085 - acc: 0.99 - ETA: 10s - loss: 0.0085 - acc: 0.99 - ETA: 9s - loss: 0.0085 - acc: 0.9968 - ETA: 9s - loss: 0.0086 - acc: 0.996 - ETA: 9s - loss: 0.0086 - acc: 0.996 - ETA: 9s - loss: 0.0085 - acc: 0.996 - ETA: 9s - loss: 0.0085 - acc: 0.996 - ETA: 9s - loss: 0.0085 - acc: 0.996 - ETA: 8s - loss: 0.0085 - acc: 0.996 - ETA: 8s - loss: 0.0085 - acc: 0.996 - ETA: 8s - loss: 0.0086 - acc: 0.996 - ETA: 8s - loss: 0.0085 - acc: 0.996 - ETA: 8s - loss: 0.0086 - acc: 0.996 - ETA: 7s - loss: 0.0086 - acc: 0.996 - ETA: 7s - loss: 0.0086 - acc: 0.996 - ETA: 7s - loss: 0.0086 - acc: 0.996 - ETA: 7s - loss: 0.0086 - acc: 0.996 - ETA: 7s - loss: 0.0085 - acc: 0.996 - ETA: 7s - loss: 0.0085 - acc: 0.996 - ETA: 6s - loss: 0.0085 - acc: 0.996 - ETA: 6s - loss: 0.0085 - acc: 0.996 - ETA: 6s - loss: 0.0086 - acc: 0.996 - ETA: 6s - loss: 0.0085 - acc: 0.996 - ETA: 6s - loss: 0.0085 - acc: 0.996 - ETA: 6s - loss: 0.0086 - acc: 0.996 - ETA: 5s - loss: 0.0085 - acc: 0.996 - ETA: 5s - loss: 0.0085 - acc: 0.996 - ETA: 5s - loss: 0.0086 - acc: 0.996 - ETA: 5s - loss: 0.0086 - acc: 0.996 - ETA: 5s - loss: 0.0086 - acc: 0.996 - ETA: 4s - loss: 0.0086 - acc: 0.996 - ETA: 4s - loss: 0.0086 - acc: 0.996 - ETA: 4s - loss: 0.0086 - acc: 0.996 - ETA: 4s - loss: 0.0086 - acc: 0.996 - ETA: 4s - loss: 0.0086 - acc: 0.996 - ETA: 4s - loss: 0.0086 - acc: 0.996 - ETA: 3s - loss: 0.0086 - acc: 0.996 - ETA: 3s - loss: 0.0086 - acc: 0.996 - ETA: 3s - loss: 0.0086 - acc: 0.996 - ETA: 3s - loss: 0.0086 - acc: 0.996 - ETA: 3s - loss: 0.0086 - acc: 0.996 - ETA: 2s - loss: 0.0086 - acc: 0.996 - ETA: 2s - loss: 0.0087 - acc: 0.996 - ETA: 2s - loss: 0.0086 - acc: 0.996 - ETA: 2s - loss: 0.0086 - acc: 0.996 - ETA: 2s - loss: 0.0086 - acc: 0.996 - ETA: 2s - loss: 0.0086 - acc: 0.996 - ETA: 1s - loss: 0.0086 - acc: 0.996 - ETA: 1s - loss: 0.0086 - acc: 0.996 - ETA: 1s - loss: 0.0086 - acc: 0.996 - ETA: 1s - loss: 0.0087 - acc: 0.996 - ETA: 1s - loss: 0.0086 - acc: 0.996 - ETA: 1s - loss: 0.0086 - acc: 0.996 - ETA: 0s - loss: 0.0086 - acc: 0.996 - ETA: 0s - loss: 0.0086 - acc: 0.996 - ETA: 0s - loss: 0.0086 - acc: 0.996 - ETA: 0s - loss: 0.0086 - acc: 0.9968"
     ]
    },
    {
     "name": "stdout",
     "output_type": "stream",
     "text": [
      "13654/13654 [==============================] - ETA: 0s - loss: 0.0086 - acc: 0.996 - 78s 6ms/step - loss: 0.0086 - acc: 0.9968 - val_loss: 0.0105 - val_acc: 0.9960\n"
     ]
    }
   ],
   "source": [
    "history = model.fit(X_tr, np.array(y_tr), batch_size=32, epochs=5, validation_split=0.1, verbose=1)"
   ]
  },
  {
   "cell_type": "code",
   "execution_count": 26,
   "metadata": {
    "collapsed": true
   },
   "outputs": [],
   "source": [
    "hist = pd.DataFrame(history.history)"
   ]
  },
  {
   "cell_type": "code",
   "execution_count": 27,
   "metadata": {},
   "outputs": [
    {
     "data": {
      "image/png": "[encoded data removed]",
      "text/plain": [
       "<Figure size 864x864 with 1 Axes>"
      ]
     },
     "metadata": {},
     "output_type": "display_data"
    }
   ],
   "source": [
    "import matplotlib.pyplot as plt\n",
    "plt.style.use(\"ggplot\")\n",
    "plt.figure(figsize=(12,12))\n",
    "plt.plot(hist[\"acc\"])\n",
    "plt.plot(hist[\"val_acc\"])\n",
    "plt.show()"
   ]
  },
  {
   "cell_type": "code",
   "execution_count": 30,
   "metadata": {},
   "outputs": [
    {
     "name": "stdout",
     "output_type": "stream",
     "text": [
      "1686/1686 [==============================] - ETA:  - ETA:  - ETA:  - ETA:  - ETA:  - ETA:  - ETA:  - ETA:  - ETA:  - ETA:  - ETA:  - ETA:  - ETA:  - ETA:  - ETA:  - ETA:  - ETA:  - ETA:  - ETA:  - ETA:  - ETA:  - ETA:  - ETA:  - ETA:  - ETA:  - ETA:  - ETA:  - ETA:  - ETA:  - ETA:  - ETA:  - ETA:  - ETA:  - ETA:  - ETA:  - 3s 2ms/step\n"
     ]
    }
   ],
   "source": [
    "from seqeval.metrics import precision_score, recall_score, f1_score, classification_report\n",
    "\n",
    "test_pred = model.predict(X_te, verbose=1)"
   ]
  },
  {
   "cell_type": "code",
   "execution_count": 31,
   "metadata": {
    "collapsed": true
   },
   "outputs": [],
   "source": [
    "idx2tag = {i: w for w, i in tag2idx.items()}\n",
    "\n",
    "def pred2label(pred):\n",
    "    out = []\n",
    "    for pred_i in pred:\n",
    "        out_i = []\n",
    "        for p in pred_i:\n",
    "            p_i = np.argmax(p)\n",
    "            out_i.append(idx2tag[p_i].replace(\"PAD\", \"O\"))\n",
    "        out.append(out_i)\n",
    "    return out\n",
    "    \n",
    "pred_labels = pred2label(test_pred)\n",
    "test_labels = pred2label(y_te)"
   ]
  },
  {
   "cell_type": "code",
   "execution_count": 32,
   "metadata": {},
   "outputs": [
    {
     "name": "stdout",
     "output_type": "stream",
     "text": [
      "F1-score: 84.1%\n"
     ]
    }
   ],
   "source": [
    "print(\"F1-score: {:.1%}\".format(f1_score(test_labels, pred_labels)))"
   ]
  },
  {
   "cell_type": "code",
   "execution_count": 33,
   "metadata": {},
   "outputs": [
    {
     "name": "stdout",
     "output_type": "stream",
     "text": [
      "             precision    recall  f1-score   support\n",
      "\n",
      "     PERSON       0.88      0.88      0.88       710\n",
      "       MISC       0.91      0.67      0.78        46\n",
      "   LOCATION       0.82      0.79      0.80       631\n",
      "\n",
      "avg / total       0.85      0.83      0.84      1387\n",
      "\n"
     ]
    }
   ],
   "source": [
    "print(classification_report(test_labels, pred_labels))"
   ]
  },
  {
   "cell_type": "code",
   "execution_count": 35,
   "metadata": {},
   "outputs": [
    {
     "name": "stdout",
     "output_type": "stream",
     "text": [
      "Word           ||True ||Pred\n",
      "==============================\n",
      "Một            : O     O\n",
      "thành_viên     : O     O\n",
      "trong          : O     O\n",
      "ban            : O     O\n",
      "huấn_luyện     : O     O\n",
      "cho            : O     O\n",
      "biết           : O     O\n",
      ":              : O     O\n",
      "Ban_đầu        : O     O\n",
      "các            : O     O\n",
      "võ_sĩ          : O     O\n",
      "VN             : LOCATION LOCATION\n",
      "đã             : O     O\n",
      "lắc_đầu_lè_lưỡi: O     O\n",
      "khi            : O     O\n",
      "được           : O     O\n",
      "xem            : O     O\n",
      "các            : O     O\n",
      "trận           : O     O\n",
      "đấu            : O     O\n",
      "chuyên_nghiệp  : O     O\n",
      "của            : O     O\n",
      "võ_sĩ          : O     O\n",
      "Thái           : LOCATION PERSON\n",
      ".              : O     O\n",
      "Xóm_Củi        : O     O\n",
      "Xóm_Củi        : O     O\n",
      "Xóm_Củi        : O     O\n",
      "Xóm_Củi        : O     O\n",
      "Xóm_Củi        : O     O\n",
      "Xóm_Củi        : O     O\n",
      "Xóm_Củi        : O     O\n",
      "Xóm_Củi        : O     O\n",
      "Xóm_Củi        : O     O\n",
      "Xóm_Củi        : O     O\n",
      "Xóm_Củi        : O     O\n",
      "Xóm_Củi        : O     O\n",
      "Xóm_Củi        : O     O\n",
      "Xóm_Củi        : O     O\n",
      "Xóm_Củi        : O     O\n",
      "Xóm_Củi        : O     O\n",
      "Xóm_Củi        : O     O\n",
      "Xóm_Củi        : O     O\n",
      "Xóm_Củi        : O     O\n",
      "Xóm_Củi        : O     O\n",
      "Xóm_Củi        : O     O\n",
      "Xóm_Củi        : O     O\n",
      "Xóm_Củi        : O     O\n",
      "Xóm_Củi        : O     O\n",
      "Xóm_Củi        : O     O\n",
      "Xóm_Củi        : O     O\n",
      "Xóm_Củi        : O     O\n",
      "Xóm_Củi        : O     O\n",
      "Xóm_Củi        : O     O\n",
      "Xóm_Củi        : O     O\n",
      "Xóm_Củi        : O     O\n",
      "Xóm_Củi        : O     O\n",
      "Xóm_Củi        : O     O\n",
      "Xóm_Củi        : O     O\n",
      "Xóm_Củi        : O     O\n",
      "Xóm_Củi        : O     O\n",
      "Xóm_Củi        : O     O\n",
      "Xóm_Củi        : O     O\n",
      "Xóm_Củi        : O     O\n",
      "Xóm_Củi        : O     O\n",
      "Xóm_Củi        : O     O\n",
      "Xóm_Củi        : O     O\n",
      "Xóm_Củi        : O     O\n",
      "Xóm_Củi        : O     O\n",
      "Xóm_Củi        : O     O\n",
      "Xóm_Củi        : O     O\n",
      "Xóm_Củi        : O     O\n",
      "Xóm_Củi        : O     O\n",
      "Xóm_Củi        : O     O\n",
      "Xóm_Củi        : O     O\n"
     ]
    }
   ],
   "source": [
    "i = 202\n",
    "p = model.predict(np.array([X_te[i]]))\n",
    "p = np.argmax(p, axis=-1)\n",
    "true = np.argmax(y_te[i], -1)\n",
    "print(\"{:15}||{:5}||{}\".format(\"Word\", \"True\", \"Pred\"))\n",
    "print(30 * \"=\")\n",
    "for w, t, pred in zip(X_te[i], true, p[0]):\n",
    "    if w != 0:\n",
    "        print(\"{:15}: {:5} {}\".format(words[w-1], tags[t], tags[pred]))"
   ]
  },
  {
   "cell_type": "code",
   "execution_count": 43,
   "metadata": {},
   "outputs": [
    {
     "name": "stdout",
     "output_type": "stream",
     "text": [
      "['Phạm', 'Bảo_Sơn', 'là', 'một', 'nhà', 'khoa_học', 'máy_tính', 'của', 'Việt_Nam', '.', 'Ông', 'là', 'Phó_Hiệu_trưởng', 'của', 'Trường', 'Đại_học', 'Công_nghệ', ',', 'Đại_học', 'Quốc_gia', 'Hà_Nội', 'và', 'là', 'người', 'Việt_Nam', 'đầu_tiên', 'đoạt', 'giải_thưởng', 'IBM', 'Faculty', 'Award', 'vào', 'năm', '2010', '.', 'Trong', 'các', 'lĩnh_vực', 'của', 'ngành', 'khoa_học', 'máy_tính', ',', 'ông', 'có', 'nhiều', 'thành_tựu', 'trong', 'lĩnh_vực', 'xử_lý', 'ngôn_ngữ', 'tự_nhiên', '.']\n"
     ]
    }
   ],
   "source": [
    "from underthesea import word_tokenize\n",
    "\n",
    "sentence = \"Phạm Bảo Sơn là một nhà khoa học máy tính của Việt Nam. Ông là Phó Hiệu trưởng của Trường Đại học Công nghệ, Đại học Quốc gia Hà Nội và là người Việt Nam đầu tiên đoạt giải thưởng IBM Faculty Award vào năm 2010. Trong các lĩnh vực của ngành khoa học máy tính, ông có nhiều thành tựu trong lĩnh vực xử lý ngôn ngữ tự nhiên.\"\n",
    "test_sentence = word_tokenize(sentence)\n",
    "test_sentence = [token.replace(\" \", \"_\") for token in test_sentence]\n",
    "print(test_sentence)"
   ]
  },
  {
   "cell_type": "code",
   "execution_count": 44,
   "metadata": {},
   "outputs": [],
   "source": [
    "x_test_sent = pad_sequences(sequences=[[word2idx.get(w, 0) for w in test_sentence]],\n",
    "                            padding=\"post\", value=0, maxlen=max_len)"
   ]
  },
  {
   "cell_type": "code",
   "execution_count": 45,
   "metadata": {},
   "outputs": [
    {
     "name": "stdout",
     "output_type": "stream",
     "text": [
      "Word           ||Prediction\n",
      "==============================\n",
      "Phạm           : PERSON\n",
      "Bảo_Sơn        : PERSON\n",
      "là             : O    \n",
      "một            : O    \n",
      "nhà            : O    \n",
      "khoa_học       : O    \n",
      "máy_tính       : O    \n",
      "của            : O    \n",
      "Việt_Nam       : LOCATION\n",
      ".              : O    \n",
      "Ông            : O    \n",
      "là             : O    \n",
      "Phó_Hiệu_trưởng: PERSON\n",
      "của            : O    \n",
      "Trường         : ORGANIZATION\n",
      "Đại_học        : ORGANIZATION\n",
      "Công_nghệ      : ORGANIZATION\n",
      ",              : ORGANIZATION\n",
      "Đại_học        : ORGANIZATION\n",
      "Quốc_gia       : ORGANIZATION\n",
      "Hà_Nội         : ORGANIZATION\n",
      "và             : O    \n",
      "là             : O    \n",
      "người          : ORGANIZATION\n",
      "Việt_Nam       : ORGANIZATION\n",
      "đầu_tiên       : O    \n",
      "đoạt           : O    \n",
      "giải_thưởng    : O    \n",
      "IBM            : ORGANIZATION\n",
      "Faculty        : PERSON\n",
      "Award          : O    \n",
      "vào            : O    \n",
      "năm            : O    \n",
      "2010           : O    \n",
      ".              : O    \n",
      "Trong          : O    \n",
      "các            : O    \n",
      "lĩnh_vực       : O    \n",
      "của            : O    \n",
      "ngành          : O    \n",
      "khoa_học       : O    \n",
      "máy_tính       : O    \n",
      ",              : O    \n",
      "ông            : O    \n",
      "có             : O    \n",
      "nhiều          : O    \n",
      "thành_tựu      : PERSON\n",
      "trong          : O    \n",
      "lĩnh_vực       : O    \n",
      "xử_lý          : O    \n",
      "ngôn_ngữ       : O    \n",
      "tự_nhiên       : O    \n",
      ".              : O    \n"
     ]
    }
   ],
   "source": [
    "p = model.predict(np.array([x_test_sent[0]]))\n",
    "p = np.argmax(p, axis=-1)\n",
    "print(\"{:15}||{}\".format(\"Word\", \"Prediction\"))\n",
    "print(30 * \"=\")\n",
    "for w, pred in zip(test_sentence, p[0]):\n",
    "    print(\"{:15}: {:5}\".format(w, tags[pred]))"
   ]
  },
  {
   "cell_type": "code",
   "execution_count": null,
   "metadata": {
    "collapsed": true
   },
   "outputs": [],
   "source": []
  }
 ],
 "metadata": {
  "kernelspec": {
   "display_name": "Python 3",
   "language": "python",
   "name": "python3"
  },
  "language_info": {
   "codemirror_mode": {
    "name": "ipython",
    "version": 3
   },
   "file_extension": ".py",
   "mimetype": "text/x-python",
   "name": "python",
   "nbconvert_exporter": "python",
   "pygments_lexer": "ipython3",
   "version": "3.6.3"
  }
 },
 "nbformat": 4,
 "nbformat_minor": 2
}
