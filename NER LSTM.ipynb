{
 "cells": [
  {
   "cell_type": "code",
   "execution_count": 2,
   "metadata": {},
   "outputs": [],
   "source": [
    "# ignore warning\n",
    "def warn(*args, **kwargs):\n",
    "    pass\n",
    "import warnings\n",
    "warnings.warn = warn"
   ]
  },
  {
   "cell_type": "code",
   "execution_count": 5,
   "metadata": {},
   "outputs": [],
   "source": [
    "import pandas as pd\n",
    "import numpy as np\n",
    "from sklearn.ensemble import RandomForestClassifier\n",
    "from sklearn.preprocessing import LabelEncoder\n",
    "from sklearn.base import BaseEstimator, TransformerMixin\n",
    "from sklearn.cross_validation import cross_val_predict\n",
    "from sklearn.metrics import classification_report\n",
    "from sklearn.pipeline import Pipeline\n",
    "from sklearn_crfsuite import CRF\n",
    "from sklearn_crfsuite.metrics import flat_classification_report\n",
    "import eli5"
   ]
  },
  {
   "cell_type": "code",
   "execution_count": 6,
   "metadata": {},
   "outputs": [
    {
     "data": {
      "text/html": [
       "<div>\n",
       "<style>\n",
       "    .dataframe thead tr:only-child th {\n",
       "        text-align: right;\n",
       "    }\n",
       "\n",
       "    .dataframe thead th {\n",
       "        text-align: left;\n",
       "    }\n",
       "\n",
       "    .dataframe tbody tr th {\n",
       "        vertical-align: top;\n",
       "    }\n",
       "</style>\n",
       "<table border=\"1\" class=\"dataframe\">\n",
       "  <thead>\n",
       "    <tr style=\"text-align: right;\">\n",
       "      <th></th>\n",
       "      <th>Sentence #</th>\n",
       "      <th>Word</th>\n",
       "      <th>Tag</th>\n",
       "    </tr>\n",
       "  </thead>\n",
       "  <tbody>\n",
       "    <tr>\n",
       "      <th>369382</th>\n",
       "      <td>Sentence: 16858</td>\n",
       "      <td>vùng</td>\n",
       "      <td>O</td>\n",
       "    </tr>\n",
       "    <tr>\n",
       "      <th>369383</th>\n",
       "      <td>Sentence: 16858</td>\n",
       "      <td>chôn_cất</td>\n",
       "      <td>O</td>\n",
       "    </tr>\n",
       "    <tr>\n",
       "      <th>369384</th>\n",
       "      <td>Sentence: 16858</td>\n",
       "      <td>người_thân</td>\n",
       "      <td>O</td>\n",
       "    </tr>\n",
       "    <tr>\n",
       "      <th>369385</th>\n",
       "      <td>Sentence: 16858</td>\n",
       "      <td>khi</td>\n",
       "      <td>O</td>\n",
       "    </tr>\n",
       "    <tr>\n",
       "      <th>369386</th>\n",
       "      <td>Sentence: 16858</td>\n",
       "      <td>qua_đời</td>\n",
       "      <td>O</td>\n",
       "    </tr>\n",
       "    <tr>\n",
       "      <th>369387</th>\n",
       "      <td>Sentence: 16858</td>\n",
       "      <td>,</td>\n",
       "      <td>O</td>\n",
       "    </tr>\n",
       "    <tr>\n",
       "      <th>369388</th>\n",
       "      <td>Sentence: 16858</td>\n",
       "      <td>gọi</td>\n",
       "      <td>O</td>\n",
       "    </tr>\n",
       "    <tr>\n",
       "      <th>369389</th>\n",
       "      <td>Sentence: 16858</td>\n",
       "      <td>là</td>\n",
       "      <td>O</td>\n",
       "    </tr>\n",
       "    <tr>\n",
       "      <th>369390</th>\n",
       "      <td>Sentence: 16858</td>\n",
       "      <td>nhị_tì</td>\n",
       "      <td>O</td>\n",
       "    </tr>\n",
       "    <tr>\n",
       "      <th>369391</th>\n",
       "      <td>Sentence: 16858</td>\n",
       "      <td>...</td>\n",
       "      <td>O</td>\n",
       "    </tr>\n",
       "  </tbody>\n",
       "</table>\n",
       "</div>"
      ],
      "text/plain": [
       "             Sentence #        Word Tag\n",
       "369382  Sentence: 16858        vùng   O\n",
       "369383  Sentence: 16858    chôn_cất   O\n",
       "369384  Sentence: 16858  người_thân   O\n",
       "369385  Sentence: 16858         khi   O\n",
       "369386  Sentence: 16858     qua_đời   O\n",
       "369387  Sentence: 16858           ,   O\n",
       "369388  Sentence: 16858         gọi   O\n",
       "369389  Sentence: 16858          là   O\n",
       "369390  Sentence: 16858      nhị_tì   O\n",
       "369391  Sentence: 16858         ...   O"
      ]
     },
     "execution_count": 6,
     "metadata": {},
     "output_type": "execute_result"
    }
   ],
   "source": [
    "data = pd.read_csv(\"data/ner_dataset.csv\", encoding=\"utf-8\")\n",
    "data = data.fillna(method=\"ffill\")\n",
    "data.tail(10)"
   ]
  },
  {
   "cell_type": "code",
   "execution_count": 7,
   "metadata": {
    "collapsed": true
   },
   "outputs": [],
   "source": [
    "words = list(set(data[\"Word\"].values))\n",
    "words.append(\"ENDPAD\")"
   ]
  },
  {
   "cell_type": "code",
   "execution_count": 8,
   "metadata": {},
   "outputs": [
    {
     "data": {
      "text/plain": [
       "19152"
      ]
     },
     "execution_count": 8,
     "metadata": {},
     "output_type": "execute_result"
    }
   ],
   "source": [
    "n_words = len(words); n_words"
   ]
  },
  {
   "cell_type": "code",
   "execution_count": 9,
   "metadata": {},
   "outputs": [
    {
     "data": {
      "text/plain": [
       "5"
      ]
     },
     "execution_count": 9,
     "metadata": {},
     "output_type": "execute_result"
    }
   ],
   "source": [
    "tags = list(set(data[\"Tag\"].values))\n",
    "n_tags = len(tags); n_tags"
   ]
  },
  {
   "cell_type": "code",
   "execution_count": 10,
   "metadata": {
    "collapsed": true
   },
   "outputs": [],
   "source": [
    "class SentenceGetter(object):\n",
    "    \n",
    "    def __init__(self, data):\n",
    "        self.n_sent = 1\n",
    "        self.data = data\n",
    "        self.empty = False\n",
    "        agg_func = lambda s: [(w, t) for w, t in zip(s[\"Word\"].values.tolist(), s[\"Tag\"].values.tolist())]\n",
    "        self.grouped = self.data.groupby(\"Sentence #\").apply(agg_func)\n",
    "        self.sentences = [s for s in self.grouped]\n",
    "    \n",
    "    def get_next(self):\n",
    "        try:\n",
    "            s = self.grouped[\"Sentence: {}\".format(self.n_sent)]\n",
    "            self.n_sent += 1\n",
    "            return s\n",
    "        except:\n",
    "            return None"
   ]
  },
  {
   "cell_type": "code",
   "execution_count": 11,
   "metadata": {},
   "outputs": [
    {
     "name": "stdout",
     "output_type": "stream",
     "text": [
      "[('Đó', 'O'), ('là', 'O'), ('con', 'O'), ('đường', 'O'), ('biển', 'O'), ('ngắn', 'O'), ('nhất', 'O'), ('để', 'O'), ('đi', 'O'), ('từ', 'O'), ('Ấn_Độ_Dương', 'LOCATION'), ('sang', 'O'), ('Thái_Bình_Dương', 'LOCATION'), (',', 'O'), ('chiếm', 'O'), ('đến', 'O'), ('lượng', 'O'), ('hàng_hoá', 'O'), ('lưu_thông', 'O'), ('đường_biển', 'O'), ('của', 'O'), ('thế_giới', 'O'), (',', 'O'), ('đó', 'O'), ('là', 'O'), ('hải_trình', 'O'), ('lớn', 'O'), ('nhất', 'O'), ('từ', 'O'), ('tây', 'O'), ('sang', 'O'), ('đông', 'O'), ('với', 'O'), ('50.000', 'O'), ('lượt', 'O'), ('tàu_bè', 'O'), ('qua_lại', 'O'), ('mỗi', 'O'), ('năm', 'O'), ('...', 'O')]\n"
     ]
    }
   ],
   "source": [
    "getter = SentenceGetter(data)\n",
    "sent = getter.get_next()\n",
    "print(sent)"
   ]
  },
  {
   "cell_type": "code",
   "execution_count": 12,
   "metadata": {
    "collapsed": true
   },
   "outputs": [],
   "source": [
    "sentences = getter.sentences"
   ]
  },
  {
   "cell_type": "code",
   "execution_count": 13,
   "metadata": {},
   "outputs": [
    {
     "data": {
      "image/png": "[encoded data removed]",
      "text/plain": [
       "<Figure size 432x288 with 1 Axes>"
      ]
     },
     "metadata": {},
     "output_type": "display_data"
    }
   ],
   "source": [
    "%matplotlib inline\n",
    "import matplotlib.pyplot as plt\n",
    "plt.style.use(\"ggplot\")\n",
    "plt.hist([len(s) for s in sentences], bins=50)\n",
    "plt.show()"
   ]
  },
  {
   "cell_type": "code",
   "execution_count": 21,
   "metadata": {
    "collapsed": true
   },
   "outputs": [],
   "source": [
    "max_len = 120\n",
    "word2idx = {w: i for i, w in enumerate(words)}\n",
    "tag2idx = {t: i for i, t in enumerate(tags)}"
   ]
  },
  {
   "cell_type": "code",
   "execution_count": 22,
   "metadata": {},
   "outputs": [
    {
     "data": {
      "text/plain": [
       "16546"
      ]
     },
     "execution_count": 22,
     "metadata": {},
     "output_type": "execute_result"
    }
   ],
   "source": [
    "word2idx[\"cửa_hàng\"]"
   ]
  },
  {
   "cell_type": "code",
   "execution_count": 23,
   "metadata": {},
   "outputs": [
    {
     "data": {
      "text/plain": [
       "4"
      ]
     },
     "execution_count": 23,
     "metadata": {},
     "output_type": "execute_result"
    }
   ],
   "source": [
    "tag2idx[\"PERSON\"]"
   ]
  },
  {
   "cell_type": "code",
   "execution_count": 24,
   "metadata": {},
   "outputs": [],
   "source": [
    "from keras.preprocessing.sequence import pad_sequences\n",
    "X = [[word2idx[w[0]] for w in s] for s in sentences]"
   ]
  },
  {
   "cell_type": "code",
   "execution_count": 25,
   "metadata": {
    "collapsed": true
   },
   "outputs": [],
   "source": [
    "X = pad_sequences(maxlen=max_len, sequences=X, padding=\"post\", value=n_words - 1)"
   ]
  },
  {
   "cell_type": "code",
   "execution_count": 26,
   "metadata": {},
   "outputs": [
    {
     "data": {
      "text/plain": [
       "array([14410, 16621,  2755,  6757,  9559,  5786, 18946, 18318,  3871,\n",
       "        4675,  4001,  4511, 18640, 11481, 13119, 16284, 11518, 16689,\n",
       "       11513,  9559, 13119,   897, 16320,  9722, 16123, 18846, 16547,\n",
       "       16365, 19151, 19151, 19151, 19151, 19151, 19151, 19151, 19151,\n",
       "       19151, 19151, 19151, 19151, 19151, 19151, 19151, 19151, 19151,\n",
       "       19151, 19151, 19151, 19151, 19151, 19151, 19151, 19151, 19151,\n",
       "       19151, 19151, 19151, 19151, 19151, 19151, 19151, 19151, 19151,\n",
       "       19151, 19151, 19151, 19151, 19151, 19151, 19151, 19151, 19151,\n",
       "       19151, 19151, 19151, 19151, 19151, 19151, 19151, 19151, 19151,\n",
       "       19151, 19151, 19151, 19151, 19151, 19151, 19151, 19151, 19151,\n",
       "       19151, 19151, 19151, 19151, 19151, 19151, 19151, 19151, 19151,\n",
       "       19151, 19151, 19151, 19151, 19151, 19151, 19151, 19151, 19151,\n",
       "       19151, 19151, 19151, 19151, 19151, 19151, 19151, 19151, 19151,\n",
       "       19151, 19151, 19151])"
      ]
     },
     "execution_count": 26,
     "metadata": {},
     "output_type": "execute_result"
    }
   ],
   "source": [
    "X[1]"
   ]
  },
  {
   "cell_type": "code",
   "execution_count": 28,
   "metadata": {},
   "outputs": [],
   "source": [
    "y = [[tag2idx[w[1]] for w in s] for s in sentences]"
   ]
  },
  {
   "cell_type": "code",
   "execution_count": 29,
   "metadata": {
    "collapsed": true
   },
   "outputs": [],
   "source": [
    "y = pad_sequences(maxlen=max_len, sequences=y, padding=\"post\", value=tag2idx[\"O\"])"
   ]
  },
  {
   "cell_type": "code",
   "execution_count": 30,
   "metadata": {},
   "outputs": [
    {
     "data": {
      "text/plain": [
       "array([1, 1, 1, 1, 1, 1, 1, 1, 3, 1, 1, 1, 1, 1, 1, 1, 1, 1, 3, 1, 1, 1,\n",
       "       1, 1, 1, 1, 1, 1, 1, 1, 1, 1, 1, 1, 1, 1, 1, 1, 1, 1, 1, 1, 1, 1,\n",
       "       1, 1, 1, 1, 1, 1, 1, 1, 1, 1, 1, 1, 1, 1, 1, 1, 1, 1, 1, 1, 1, 1,\n",
       "       1, 1, 1, 1, 1, 1, 1, 1, 1, 1, 1, 1, 1, 1, 1, 1, 1, 1, 1, 1, 1, 1,\n",
       "       1, 1, 1, 1, 1, 1, 1, 1, 1, 1, 1, 1, 1, 1, 1, 1, 1, 1, 1, 1, 1, 1,\n",
       "       1, 1, 1, 1, 1, 1, 1, 1, 1, 1])"
      ]
     },
     "execution_count": 30,
     "metadata": {},
     "output_type": "execute_result"
    }
   ],
   "source": [
    "y[1]"
   ]
  },
  {
   "cell_type": "code",
   "execution_count": 31,
   "metadata": {
    "collapsed": true
   },
   "outputs": [],
   "source": [
    "from keras.utils import to_categorical"
   ]
  },
  {
   "cell_type": "code",
   "execution_count": 32,
   "metadata": {
    "collapsed": true
   },
   "outputs": [],
   "source": [
    "y = [to_categorical(i, num_classes=n_tags) for i in y]"
   ]
  },
  {
   "cell_type": "code",
   "execution_count": 34,
   "metadata": {
    "collapsed": true
   },
   "outputs": [],
   "source": [
    "from sklearn.model_selection import train_test_split\n",
    "\n",
    "X_tr, X_te, y_tr, y_te = train_test_split(X, y, test_size=0.1)"
   ]
  },
  {
   "cell_type": "code",
   "execution_count": 35,
   "metadata": {
    "collapsed": true
   },
   "outputs": [],
   "source": [
    "from keras.models import Model, Input\n",
    "from keras.layers import LSTM, Embedding, Dense, TimeDistributed, Dropout, Bidirectional\n",
    "\n",
    "input = Input(shape=(max_len,))\n",
    "model = Embedding(input_dim=n_words, output_dim=50, input_length=max_len)(input)\n",
    "model = Dropout(0.1)(model)\n",
    "model = Bidirectional(LSTM(units=100, return_sequences=True, recurrent_dropout=0.1))(model)\n",
    "out = TimeDistributed(Dense(n_tags, activation=\"softmax\"))(model)  # softmax output layer\n",
    "\n",
    "model = Model(input, out)\n",
    "\n",
    "model.compile(optimizer=\"rmsprop\", loss=\"categorical_crossentropy\", metrics=[\"accuracy\"])"
   ]
  },
  {
   "cell_type": "code",
   "execution_count": 36,
   "metadata": {},
   "outputs": [
    {
     "name": "stdout",
     "output_type": "stream",
     "text": [
      "Train on 13654 samples, validate on 1518 samples\n",
      "Epoch 1/5\n"
     ]
    },
    {
     "name": "stdout",
     "output_type": "stream",
     "text": [
      " 6496/13654 [=============>................] - ETA: 36:54 - loss: 1.6256 - acc: 0.01 - ETA: 19:37 - loss: 1.5562 - acc: 0.50 - ETA: 13:49 - loss: 1.4720 - acc: 0.66 - ETA: 10:57 - loss: 1.2928 - acc: 0.74 - ETA: 9:12 - loss: 1.0542 - acc: 0.7920 - ETA: 8:02 - loss: 0.8922 - acc: 0.824 - ETA: 7:12 - loss: 0.7767 - acc: 0.847 - ETA: 6:34 - loss: 0.6896 - acc: 0.864 - ETA: 6:04 - loss: 0.6215 - acc: 0.877 - ETA: 5:41 - loss: 0.5654 - acc: 0.888 - ETA: 5:22 - loss: 0.5208 - acc: 0.897 - ETA: 5:06 - loss: 0.4808 - acc: 0.905 - ETA: 4:52 - loss: 0.4488 - acc: 0.911 - ETA: 4:40 - loss: 0.4282 - acc: 0.916 - ETA: 4:30 - loss: 0.4048 - acc: 0.921 - ETA: 4:21 - loss: 0.3822 - acc: 0.925 - ETA: 4:13 - loss: 0.3639 - acc: 0.929 - ETA: 4:06 - loss: 0.3471 - acc: 0.932 - ETA: 3:59 - loss: 0.3338 - acc: 0.935 - ETA: 3:53 - loss: 0.3198 - acc: 0.937 - ETA: 3:47 - loss: 0.3088 - acc: 0.939 - ETA: 3:42 - loss: 0.2973 - acc: 0.942 - ETA: 3:38 - loss: 0.2866 - acc: 0.944 - ETA: 3:34 - loss: 0.2768 - acc: 0.946 - ETA: 3:31 - loss: 0.2681 - acc: 0.947 - ETA: 3:28 - loss: 0.2604 - acc: 0.949 - ETA: 3:26 - loss: 0.2534 - acc: 0.950 - ETA: 3:23 - loss: 0.2472 - acc: 0.951 - ETA: 3:20 - loss: 0.2404 - acc: 0.953 - ETA: 3:17 - loss: 0.2341 - acc: 0.954 - ETA: 3:15 - loss: 0.2294 - acc: 0.955 - ETA: 3:13 - loss: 0.2236 - acc: 0.956 - ETA: 3:10 - loss: 0.2195 - acc: 0.957 - ETA: 3:08 - loss: 0.2145 - acc: 0.958 - ETA: 3:05 - loss: 0.2102 - acc: 0.959 - ETA: 3:03 - loss: 0.2058 - acc: 0.960 - ETA: 3:01 - loss: 0.2015 - acc: 0.960 - ETA: 2:58 - loss: 0.1975 - acc: 0.961 - ETA: 2:56 - loss: 0.1935 - acc: 0.962 - ETA: 2:54 - loss: 0.1898 - acc: 0.963 - ETA: 2:52 - loss: 0.1871 - acc: 0.963 - ETA: 2:50 - loss: 0.1851 - acc: 0.964 - ETA: 2:49 - loss: 0.1822 - acc: 0.964 - ETA: 2:47 - loss: 0.1793 - acc: 0.965 - ETA: 2:45 - loss: 0.1763 - acc: 0.965 - ETA: 2:44 - loss: 0.1735 - acc: 0.966 - ETA: 2:42 - loss: 0.1709 - acc: 0.966 - ETA: 2:41 - loss: 0.1687 - acc: 0.967 - ETA: 2:39 - loss: 0.1661 - acc: 0.967 - ETA: 2:38 - loss: 0.1637 - acc: 0.968 - ETA: 2:37 - loss: 0.1613 - acc: 0.968 - ETA: 2:35 - loss: 0.1589 - acc: 0.969 - ETA: 2:34 - loss: 0.1569 - acc: 0.969 - ETA: 2:33 - loss: 0.1552 - acc: 0.969 - ETA: 2:32 - loss: 0.1535 - acc: 0.970 - ETA: 2:31 - loss: 0.1517 - acc: 0.970 - ETA: 2:29 - loss: 0.1501 - acc: 0.970 - ETA: 2:28 - loss: 0.1493 - acc: 0.971 - ETA: 2:27 - loss: 0.1480 - acc: 0.971 - ETA: 2:26 - loss: 0.1467 - acc: 0.971 - ETA: 2:25 - loss: 0.1455 - acc: 0.971 - ETA: 2:24 - loss: 0.1445 - acc: 0.971 - ETA: 2:23 - loss: 0.1428 - acc: 0.972 - ETA: 2:22 - loss: 0.1412 - acc: 0.972 - ETA: 2:21 - loss: 0.1400 - acc: 0.972 - ETA: 2:20 - loss: 0.1384 - acc: 0.973 - ETA: 2:19 - loss: 0.1370 - acc: 0.973 - ETA: 2:19 - loss: 0.1357 - acc: 0.973 - ETA: 2:18 - loss: 0.1350 - acc: 0.973 - ETA: 2:17 - loss: 0.1341 - acc: 0.973 - ETA: 2:16 - loss: 0.1328 - acc: 0.974 - ETA: 2:15 - loss: 0.1318 - acc: 0.974 - ETA: 2:14 - loss: 0.1309 - acc: 0.974 - ETA: 2:14 - loss: 0.1299 - acc: 0.974 - ETA: 2:13 - loss: 0.1292 - acc: 0.974 - ETA: 2:12 - loss: 0.1281 - acc: 0.974 - ETA: 2:11 - loss: 0.1271 - acc: 0.975 - ETA: 2:10 - loss: 0.1261 - acc: 0.975 - ETA: 2:10 - loss: 0.1251 - acc: 0.975 - ETA: 2:09 - loss: 0.1241 - acc: 0.975 - ETA: 2:08 - loss: 0.1232 - acc: 0.975 - ETA: 2:08 - loss: 0.1223 - acc: 0.975 - ETA: 2:07 - loss: 0.1215 - acc: 0.976 - ETA: 2:06 - loss: 0.1206 - acc: 0.976 - ETA: 2:06 - loss: 0.1198 - acc: 0.976 - ETA: 2:05 - loss: 0.1189 - acc: 0.976 - ETA: 2:04 - loss: 0.1181 - acc: 0.976 - ETA: 2:04 - loss: 0.1173 - acc: 0.976 - ETA: 2:03 - loss: 0.1167 - acc: 0.977 - ETA: 2:02 - loss: 0.1160 - acc: 0.977 - ETA: 2:02 - loss: 0.1151 - acc: 0.977 - ETA: 2:01 - loss: 0.1145 - acc: 0.977 - ETA: 2:01 - loss: 0.1138 - acc: 0.977 - ETA: 2:00 - loss: 0.1133 - acc: 0.977 - ETA: 1:59 - loss: 0.1128 - acc: 0.977 - ETA: 1:59 - loss: 0.1121 - acc: 0.977 - ETA: 1:58 - loss: 0.1114 - acc: 0.978 - ETA: 1:58 - loss: 0.1110 - acc: 0.978 - ETA: 1:57 - loss: 0.1106 - acc: 0.978 - ETA: 1:56 - loss: 0.1100 - acc: 0.978 - ETA: 1:56 - loss: 0.1095 - acc: 0.978 - ETA: 1:55 - loss: 0.1088 - acc: 0.978 - ETA: 1:55 - loss: 0.1081 - acc: 0.978 - ETA: 1:54 - loss: 0.1076 - acc: 0.978 - ETA: 1:54 - loss: 0.1070 - acc: 0.978 - ETA: 1:53 - loss: 0.1064 - acc: 0.978 - ETA: 1:53 - loss: 0.1057 - acc: 0.979 - ETA: 1:52 - loss: 0.1051 - acc: 0.979 - ETA: 1:52 - loss: 0.1047 - acc: 0.979 - ETA: 1:51 - loss: 0.1041 - acc: 0.979 - ETA: 1:51 - loss: 0.1035 - acc: 0.979 - ETA: 1:50 - loss: 0.1031 - acc: 0.979 - ETA: 1:50 - loss: 0.1026 - acc: 0.979 - ETA: 1:49 - loss: 0.1022 - acc: 0.979 - ETA: 1:49 - loss: 0.1019 - acc: 0.979 - ETA: 1:48 - loss: 0.1013 - acc: 0.979 - ETA: 1:48 - loss: 0.1009 - acc: 0.979 - ETA: 1:47 - loss: 0.1005 - acc: 0.979 - ETA: 1:47 - loss: 0.1002 - acc: 0.979 - ETA: 1:46 - loss: 0.0998 - acc: 0.979 - ETA: 1:46 - loss: 0.0994 - acc: 0.980 - ETA: 1:45 - loss: 0.0989 - acc: 0.980 - ETA: 1:45 - loss: 0.0985 - acc: 0.980 - ETA: 1:44 - loss: 0.0982 - acc: 0.980 - ETA: 1:44 - loss: 0.0978 - acc: 0.980 - ETA: 1:43 - loss: 0.0977 - acc: 0.980 - ETA: 1:43 - loss: 0.0971 - acc: 0.980 - ETA: 1:43 - loss: 0.0968 - acc: 0.980 - ETA: 1:42 - loss: 0.0963 - acc: 0.980 - ETA: 1:42 - loss: 0.0958 - acc: 0.980 - ETA: 1:41 - loss: 0.0955 - acc: 0.980 - ETA: 1:41 - loss: 0.0952 - acc: 0.980 - ETA: 1:40 - loss: 0.0948 - acc: 0.980 - ETA: 1:40 - loss: 0.0945 - acc: 0.980 - ETA: 1:39 - loss: 0.0941 - acc: 0.980 - ETA: 1:39 - loss: 0.0938 - acc: 0.980 - ETA: 1:39 - loss: 0.0934 - acc: 0.980 - ETA: 1:38 - loss: 0.0931 - acc: 0.981 - ETA: 1:38 - loss: 0.0928 - acc: 0.981 - ETA: 1:37 - loss: 0.0925 - acc: 0.981 - ETA: 1:37 - loss: 0.0920 - acc: 0.981 - ETA: 1:36 - loss: 0.0916 - acc: 0.981 - ETA: 1:36 - loss: 0.0913 - acc: 0.981 - ETA: 1:36 - loss: 0.0909 - acc: 0.981 - ETA: 1:35 - loss: 0.0906 - acc: 0.981 - ETA: 1:35 - loss: 0.0903 - acc: 0.981 - ETA: 1:34 - loss: 0.0899 - acc: 0.981 - ETA: 1:34 - loss: 0.0895 - acc: 0.981 - ETA: 1:34 - loss: 0.0891 - acc: 0.981 - ETA: 1:33 - loss: 0.0888 - acc: 0.981 - ETA: 1:33 - loss: 0.0886 - acc: 0.981 - ETA: 1:32 - loss: 0.0882 - acc: 0.981 - ETA: 1:32 - loss: 0.0879 - acc: 0.981 - ETA: 1:31 - loss: 0.0876 - acc: 0.981 - ETA: 1:31 - loss: 0.0873 - acc: 0.981 - ETA: 1:31 - loss: 0.0869 - acc: 0.981 - ETA: 1:30 - loss: 0.0868 - acc: 0.981 - ETA: 1:30 - loss: 0.0865 - acc: 0.981 - ETA: 1:29 - loss: 0.0862 - acc: 0.981 - ETA: 1:29 - loss: 0.0859 - acc: 0.982 - ETA: 1:29 - loss: 0.0856 - acc: 0.982 - ETA: 1:28 - loss: 0.0853 - acc: 0.982 - ETA: 1:28 - loss: 0.0850 - acc: 0.982 - ETA: 1:27 - loss: 0.0848 - acc: 0.982 - ETA: 1:27 - loss: 0.0845 - acc: 0.982 - ETA: 1:27 - loss: 0.0842 - acc: 0.982 - ETA: 1:26 - loss: 0.0839 - acc: 0.982 - ETA: 1:26 - loss: 0.0836 - acc: 0.982 - ETA: 1:25 - loss: 0.0833 - acc: 0.982 - ETA: 1:25 - loss: 0.0830 - acc: 0.982 - ETA: 1:25 - loss: 0.0827 - acc: 0.982 - ETA: 1:24 - loss: 0.0823 - acc: 0.982 - ETA: 1:24 - loss: 0.0821 - acc: 0.982 - ETA: 1:24 - loss: 0.0819 - acc: 0.982 - ETA: 1:23 - loss: 0.0816 - acc: 0.982 - ETA: 1:23 - loss: 0.0813 - acc: 0.982 - ETA: 1:22 - loss: 0.0811 - acc: 0.982 - ETA: 1:22 - loss: 0.0808 - acc: 0.982 - ETA: 1:22 - loss: 0.0806 - acc: 0.982 - ETA: 1:21 - loss: 0.0803 - acc: 0.982 - ETA: 1:21 - loss: 0.0800 - acc: 0.982 - ETA: 1:21 - loss: 0.0798 - acc: 0.982 - ETA: 1:20 - loss: 0.0797 - acc: 0.982 - ETA: 1:20 - loss: 0.0795 - acc: 0.983 - ETA: 1:19 - loss: 0.0793 - acc: 0.983 - ETA: 1:19 - loss: 0.0791 - acc: 0.983 - ETA: 1:19 - loss: 0.0789 - acc: 0.983 - ETA: 1:18 - loss: 0.0787 - acc: 0.983 - ETA: 1:18 - loss: 0.0784 - acc: 0.983 - ETA: 1:18 - loss: 0.0782 - acc: 0.983 - ETA: 1:17 - loss: 0.0779 - acc: 0.983 - ETA: 1:17 - loss: 0.0777 - acc: 0.983 - ETA: 1:17 - loss: 0.0774 - acc: 0.983 - ETA: 1:16 - loss: 0.0772 - acc: 0.983 - ETA: 1:16 - loss: 0.0770 - acc: 0.983 - ETA: 1:15 - loss: 0.0768 - acc: 0.983 - ETA: 1:15 - loss: 0.0766 - acc: 0.983 - ETA: 1:15 - loss: 0.0764 - acc: 0.983 - ETA: 1:14 - loss: 0.0761 - acc: 0.983 - ETA: 1:14 - loss: 0.0758 - acc: 0.983 - ETA: 1:14 - loss: 0.0756 - acc: 0.983 - ETA: 1:13 - loss: 0.0754 - acc: 0.983 - ETA: 1:13 - loss: 0.0752 - acc: 0.9836\b\b\b\b\b\b\b\b\b\b\b\b\b\b\b\b\b\b\b\b\b\b\b\b\b\b\b\b\b\b\b\b\b\b\b\b\b\b\b\b\b\b\b\b\b\b\b\b\b\b\b\b\b\b\b\b\b\b\b\b\b\b\b\b\b\b\b\b\b\b\b\b\b\b\b\b\b\b\b\b\b\b\b\b\b"
     ]
    },
    {
     "name": "stdout",
     "output_type": "stream",
     "text": [
      "13312/13654 [============================>.] - ETA: 1:13 - loss: 0.0750 - acc: 0.983 - ETA: 1:12 - loss: 0.0749 - acc: 0.983 - ETA: 1:12 - loss: 0.0747 - acc: 0.983 - ETA: 1:11 - loss: 0.0745 - acc: 0.983 - ETA: 1:11 - loss: 0.0743 - acc: 0.983 - ETA: 1:11 - loss: 0.0741 - acc: 0.983 - ETA: 1:10 - loss: 0.0738 - acc: 0.983 - ETA: 1:10 - loss: 0.0737 - acc: 0.983 - ETA: 1:10 - loss: 0.0735 - acc: 0.983 - ETA: 1:09 - loss: 0.0733 - acc: 0.983 - ETA: 1:09 - loss: 0.0730 - acc: 0.983 - ETA: 1:09 - loss: 0.0728 - acc: 0.983 - ETA: 1:08 - loss: 0.0726 - acc: 0.984 - ETA: 1:08 - loss: 0.0724 - acc: 0.984 - ETA: 1:08 - loss: 0.0722 - acc: 0.984 - ETA: 1:07 - loss: 0.0720 - acc: 0.984 - ETA: 1:07 - loss: 0.0719 - acc: 0.984 - ETA: 1:07 - loss: 0.0717 - acc: 0.984 - ETA: 1:06 - loss: 0.0715 - acc: 0.984 - ETA: 1:06 - loss: 0.0713 - acc: 0.984 - ETA: 1:05 - loss: 0.0712 - acc: 0.984 - ETA: 1:05 - loss: 0.0710 - acc: 0.984 - ETA: 1:05 - loss: 0.0708 - acc: 0.984 - ETA: 1:04 - loss: 0.0706 - acc: 0.984 - ETA: 1:04 - loss: 0.0704 - acc: 0.984 - ETA: 1:04 - loss: 0.0702 - acc: 0.984 - ETA: 1:03 - loss: 0.0701 - acc: 0.984 - ETA: 1:03 - loss: 0.0699 - acc: 0.984 - ETA: 1:03 - loss: 0.0698 - acc: 0.984 - ETA: 1:02 - loss: 0.0697 - acc: 0.984 - ETA: 1:02 - loss: 0.0695 - acc: 0.984 - ETA: 1:02 - loss: 0.0693 - acc: 0.984 - ETA: 1:01 - loss: 0.0691 - acc: 0.984 - ETA: 1:01 - loss: 0.0689 - acc: 0.984 - ETA: 1:01 - loss: 0.0687 - acc: 0.984 - ETA: 1:00 - loss: 0.0685 - acc: 0.984 - ETA: 1:00 - loss: 0.0683 - acc: 0.984 - ETA: 1:00 - loss: 0.0681 - acc: 0.984 - ETA: 59s - loss: 0.0680 - acc: 0.984 - ETA: 59s - loss: 0.0678 - acc: 0.98 - ETA: 59s - loss: 0.0677 - acc: 0.98 - ETA: 58s - loss: 0.0675 - acc: 0.98 - ETA: 58s - loss: 0.0673 - acc: 0.98 - ETA: 58s - loss: 0.0671 - acc: 0.98 - ETA: 57s - loss: 0.0669 - acc: 0.98 - ETA: 57s - loss: 0.0667 - acc: 0.98 - ETA: 56s - loss: 0.0665 - acc: 0.98 - ETA: 56s - loss: 0.0663 - acc: 0.98 - ETA: 56s - loss: 0.0662 - acc: 0.98 - ETA: 55s - loss: 0.0660 - acc: 0.98 - ETA: 55s - loss: 0.0659 - acc: 0.98 - ETA: 55s - loss: 0.0657 - acc: 0.98 - ETA: 54s - loss: 0.0656 - acc: 0.98 - ETA: 54s - loss: 0.0654 - acc: 0.98 - ETA: 54s - loss: 0.0652 - acc: 0.98 - ETA: 53s - loss: 0.0651 - acc: 0.98 - ETA: 53s - loss: 0.0650 - acc: 0.98 - ETA: 53s - loss: 0.0650 - acc: 0.98 - ETA: 52s - loss: 0.0648 - acc: 0.98 - ETA: 52s - loss: 0.0647 - acc: 0.98 - ETA: 52s - loss: 0.0645 - acc: 0.98 - ETA: 51s - loss: 0.0643 - acc: 0.98 - ETA: 51s - loss: 0.0642 - acc: 0.98 - ETA: 51s - loss: 0.0640 - acc: 0.98 - ETA: 50s - loss: 0.0639 - acc: 0.98 - ETA: 50s - loss: 0.0637 - acc: 0.98 - ETA: 50s - loss: 0.0635 - acc: 0.98 - ETA: 49s - loss: 0.0634 - acc: 0.98 - ETA: 49s - loss: 0.0633 - acc: 0.98 - ETA: 49s - loss: 0.0631 - acc: 0.98 - ETA: 48s - loss: 0.0630 - acc: 0.98 - ETA: 48s - loss: 0.0628 - acc: 0.98 - ETA: 48s - loss: 0.0627 - acc: 0.98 - ETA: 47s - loss: 0.0625 - acc: 0.98 - ETA: 47s - loss: 0.0624 - acc: 0.98 - ETA: 47s - loss: 0.0623 - acc: 0.98 - ETA: 46s - loss: 0.0621 - acc: 0.98 - ETA: 46s - loss: 0.0619 - acc: 0.98 - ETA: 46s - loss: 0.0618 - acc: 0.98 - ETA: 45s - loss: 0.0617 - acc: 0.98 - ETA: 45s - loss: 0.0615 - acc: 0.98 - ETA: 45s - loss: 0.0614 - acc: 0.98 - ETA: 44s - loss: 0.0613 - acc: 0.98 - ETA: 44s - loss: 0.0611 - acc: 0.98 - ETA: 44s - loss: 0.0610 - acc: 0.98 - ETA: 43s - loss: 0.0609 - acc: 0.98 - ETA: 43s - loss: 0.0608 - acc: 0.98 - ETA: 43s - loss: 0.0606 - acc: 0.98 - ETA: 42s - loss: 0.0605 - acc: 0.98 - ETA: 42s - loss: 0.0604 - acc: 0.98 - ETA: 42s - loss: 0.0603 - acc: 0.98 - ETA: 41s - loss: 0.0602 - acc: 0.98 - ETA: 41s - loss: 0.0601 - acc: 0.98 - ETA: 41s - loss: 0.0599 - acc: 0.98 - ETA: 40s - loss: 0.0598 - acc: 0.98 - ETA: 40s - loss: 0.0597 - acc: 0.98 - ETA: 40s - loss: 0.0597 - acc: 0.98 - ETA: 39s - loss: 0.0596 - acc: 0.98 - ETA: 39s - loss: 0.0595 - acc: 0.98 - ETA: 39s - loss: 0.0594 - acc: 0.98 - ETA: 38s - loss: 0.0592 - acc: 0.98 - ETA: 38s - loss: 0.0591 - acc: 0.98 - ETA: 38s - loss: 0.0590 - acc: 0.98 - ETA: 38s - loss: 0.0588 - acc: 0.98 - ETA: 37s - loss: 0.0587 - acc: 0.98 - ETA: 37s - loss: 0.0586 - acc: 0.98 - ETA: 37s - loss: 0.0584 - acc: 0.98 - ETA: 36s - loss: 0.0583 - acc: 0.98 - ETA: 36s - loss: 0.0582 - acc: 0.98 - ETA: 36s - loss: 0.0581 - acc: 0.98 - ETA: 35s - loss: 0.0580 - acc: 0.98 - ETA: 35s - loss: 0.0579 - acc: 0.98 - ETA: 35s - loss: 0.0578 - acc: 0.98 - ETA: 34s - loss: 0.0577 - acc: 0.98 - ETA: 34s - loss: 0.0576 - acc: 0.98 - ETA: 34s - loss: 0.0575 - acc: 0.98 - ETA: 33s - loss: 0.0574 - acc: 0.98 - ETA: 33s - loss: 0.0572 - acc: 0.98 - ETA: 33s - loss: 0.0571 - acc: 0.98 - ETA: 32s - loss: 0.0570 - acc: 0.98 - ETA: 32s - loss: 0.0569 - acc: 0.98 - ETA: 32s - loss: 0.0568 - acc: 0.98 - ETA: 31s - loss: 0.0567 - acc: 0.98 - ETA: 31s - loss: 0.0566 - acc: 0.98 - ETA: 31s - loss: 0.0565 - acc: 0.98 - ETA: 30s - loss: 0.0564 - acc: 0.98 - ETA: 30s - loss: 0.0563 - acc: 0.98 - ETA: 30s - loss: 0.0562 - acc: 0.98 - ETA: 29s - loss: 0.0561 - acc: 0.98 - ETA: 29s - loss: 0.0560 - acc: 0.98 - ETA: 29s - loss: 0.0559 - acc: 0.98 - ETA: 29s - loss: 0.0558 - acc: 0.98 - ETA: 28s - loss: 0.0557 - acc: 0.98 - ETA: 28s - loss: 0.0556 - acc: 0.98 - ETA: 28s - loss: 0.0555 - acc: 0.98 - ETA: 27s - loss: 0.0554 - acc: 0.98 - ETA: 27s - loss: 0.0553 - acc: 0.98 - ETA: 27s - loss: 0.0552 - acc: 0.98 - ETA: 26s - loss: 0.0550 - acc: 0.98 - ETA: 26s - loss: 0.0549 - acc: 0.98 - ETA: 26s - loss: 0.0548 - acc: 0.98 - ETA: 25s - loss: 0.0547 - acc: 0.98 - ETA: 25s - loss: 0.0546 - acc: 0.98 - ETA: 25s - loss: 0.0545 - acc: 0.98 - ETA: 24s - loss: 0.0544 - acc: 0.98 - ETA: 24s - loss: 0.0543 - acc: 0.98 - ETA: 24s - loss: 0.0542 - acc: 0.98 - ETA: 23s - loss: 0.0541 - acc: 0.98 - ETA: 23s - loss: 0.0540 - acc: 0.98 - ETA: 23s - loss: 0.0539 - acc: 0.98 - ETA: 22s - loss: 0.0538 - acc: 0.98 - ETA: 22s - loss: 0.0537 - acc: 0.98 - ETA: 22s - loss: 0.0536 - acc: 0.98 - ETA: 21s - loss: 0.0535 - acc: 0.98 - ETA: 21s - loss: 0.0535 - acc: 0.98 - ETA: 21s - loss: 0.0534 - acc: 0.98 - ETA: 21s - loss: 0.0533 - acc: 0.98 - ETA: 20s - loss: 0.0532 - acc: 0.98 - ETA: 20s - loss: 0.0532 - acc: 0.98 - ETA: 20s - loss: 0.0531 - acc: 0.98 - ETA: 19s - loss: 0.0530 - acc: 0.98 - ETA: 19s - loss: 0.0529 - acc: 0.98 - ETA: 19s - loss: 0.0528 - acc: 0.98 - ETA: 18s - loss: 0.0527 - acc: 0.98 - ETA: 18s - loss: 0.0526 - acc: 0.98 - ETA: 18s - loss: 0.0525 - acc: 0.98 - ETA: 17s - loss: 0.0524 - acc: 0.98 - ETA: 17s - loss: 0.0523 - acc: 0.98 - ETA: 17s - loss: 0.0522 - acc: 0.98 - ETA: 16s - loss: 0.0521 - acc: 0.98 - ETA: 16s - loss: 0.0520 - acc: 0.98 - ETA: 16s - loss: 0.0520 - acc: 0.98 - ETA: 15s - loss: 0.0519 - acc: 0.98 - ETA: 15s - loss: 0.0518 - acc: 0.98 - ETA: 15s - loss: 0.0517 - acc: 0.98 - ETA: 14s - loss: 0.0516 - acc: 0.98 - ETA: 14s - loss: 0.0515 - acc: 0.98 - ETA: 14s - loss: 0.0514 - acc: 0.98 - ETA: 14s - loss: 0.0513 - acc: 0.98 - ETA: 13s - loss: 0.0512 - acc: 0.98 - ETA: 13s - loss: 0.0511 - acc: 0.98 - ETA: 13s - loss: 0.0510 - acc: 0.98 - ETA: 12s - loss: 0.0509 - acc: 0.98 - ETA: 12s - loss: 0.0508 - acc: 0.98 - ETA: 12s - loss: 0.0507 - acc: 0.98 - ETA: 11s - loss: 0.0506 - acc: 0.98 - ETA: 11s - loss: 0.0506 - acc: 0.98 - ETA: 11s - loss: 0.0505 - acc: 0.98 - ETA: 10s - loss: 0.0504 - acc: 0.98 - ETA: 10s - loss: 0.0503 - acc: 0.98 - ETA: 10s - loss: 0.0503 - acc: 0.98 - ETA: 9s - loss: 0.0502 - acc: 0.9878 - ETA: 9s - loss: 0.0501 - acc: 0.987 - ETA: 9s - loss: 0.0501 - acc: 0.987 - ETA: 9s - loss: 0.0500 - acc: 0.987 - ETA: 8s - loss: 0.0500 - acc: 0.987 - ETA: 8s - loss: 0.0499 - acc: 0.987 - ETA: 8s - loss: 0.0498 - acc: 0.987 - ETA: 7s - loss: 0.0497 - acc: 0.987 - ETA: 7s - loss: 0.0496 - acc: 0.988 - ETA: 7s - loss: 0.0495 - acc: 0.988 - ETA: 6s - loss: 0.0495 - acc: 0.988 - ETA: 6s - loss: 0.0494 - acc: 0.988 - ETA: 6s - loss: 0.0494 - acc: 0.988 - ETA: 5s - loss: 0.0494 - acc: 0.988 - ETA: 5s - loss: 0.0493 - acc: 0.988 - ETA: 5s - loss: 0.0493 - acc: 0.988 - ETA: 4s - loss: 0.0492 - acc: 0.988 - ETA: 4s - loss: 0.0491 - acc: 0.988 - ETA: 4s - loss: 0.0490 - acc: 0.988 - ETA: 3s - loss: 0.0490 - acc: 0.988 - ETA: 3s - loss: 0.0489 - acc: 0.988 - ETA: 3s - loss: 0.0488 - acc: 0.9881"
     ]
    },
    {
     "name": "stdout",
     "output_type": "stream",
     "text": [
      "13654/13654 [==============================] - ETA: 3s - loss: 0.0487 - acc: 0.988 - ETA: 2s - loss: 0.0487 - acc: 0.988 - ETA: 2s - loss: 0.0486 - acc: 0.988 - ETA: 2s - loss: 0.0486 - acc: 0.988 - ETA: 1s - loss: 0.0485 - acc: 0.988 - ETA: 1s - loss: 0.0484 - acc: 0.988 - ETA: 1s - loss: 0.0484 - acc: 0.988 - ETA: 0s - loss: 0.0483 - acc: 0.988 - ETA: 0s - loss: 0.0482 - acc: 0.988 - ETA: 0s - loss: 0.0482 - acc: 0.988 - 138s 10ms/step - loss: 0.0481 - acc: 0.9883 - val_loss: 0.0195 - val_acc: 0.9936\n",
      "Epoch 2/5\n"
     ]
    },
    {
     "name": "stdout",
     "output_type": "stream",
     "text": [
      " 6528/13654 [=============>................] - ETA: 2:19 - loss: 0.0191 - acc: 0.992 - ETA: 2:19 - loss: 0.0170 - acc: 0.993 - ETA: 2:19 - loss: 0.0193 - acc: 0.993 - ETA: 2:17 - loss: 0.0186 - acc: 0.994 - ETA: 2:15 - loss: 0.0187 - acc: 0.993 - ETA: 2:14 - loss: 0.0196 - acc: 0.993 - ETA: 2:14 - loss: 0.0189 - acc: 0.993 - ETA: 2:14 - loss: 0.0191 - acc: 0.993 - ETA: 2:13 - loss: 0.0182 - acc: 0.993 - ETA: 2:13 - loss: 0.0184 - acc: 0.993 - ETA: 2:13 - loss: 0.0184 - acc: 0.993 - ETA: 2:12 - loss: 0.0176 - acc: 0.994 - ETA: 2:12 - loss: 0.0170 - acc: 0.994 - ETA: 2:12 - loss: 0.0170 - acc: 0.994 - ETA: 2:11 - loss: 0.0169 - acc: 0.994 - ETA: 2:11 - loss: 0.0173 - acc: 0.994 - ETA: 2:11 - loss: 0.0171 - acc: 0.994 - ETA: 2:11 - loss: 0.0169 - acc: 0.994 - ETA: 2:11 - loss: 0.0169 - acc: 0.994 - ETA: 2:10 - loss: 0.0170 - acc: 0.994 - ETA: 2:10 - loss: 0.0171 - acc: 0.994 - ETA: 2:10 - loss: 0.0170 - acc: 0.994 - ETA: 2:10 - loss: 0.0170 - acc: 0.994 - ETA: 2:09 - loss: 0.0173 - acc: 0.994 - ETA: 2:09 - loss: 0.0172 - acc: 0.994 - ETA: 2:09 - loss: 0.0172 - acc: 0.994 - ETA: 2:09 - loss: 0.0176 - acc: 0.994 - ETA: 2:08 - loss: 0.0177 - acc: 0.994 - ETA: 2:08 - loss: 0.0174 - acc: 0.994 - ETA: 2:08 - loss: 0.0172 - acc: 0.994 - ETA: 2:07 - loss: 0.0171 - acc: 0.994 - ETA: 2:07 - loss: 0.0171 - acc: 0.994 - ETA: 2:07 - loss: 0.0173 - acc: 0.994 - ETA: 2:06 - loss: 0.0173 - acc: 0.994 - ETA: 2:06 - loss: 0.0171 - acc: 0.994 - ETA: 2:06 - loss: 0.0170 - acc: 0.994 - ETA: 2:06 - loss: 0.0168 - acc: 0.994 - ETA: 2:05 - loss: 0.0168 - acc: 0.994 - ETA: 2:05 - loss: 0.0166 - acc: 0.994 - ETA: 2:05 - loss: 0.0165 - acc: 0.994 - ETA: 2:04 - loss: 0.0164 - acc: 0.994 - ETA: 2:04 - loss: 0.0162 - acc: 0.994 - ETA: 2:04 - loss: 0.0161 - acc: 0.994 - ETA: 2:03 - loss: 0.0159 - acc: 0.995 - ETA: 2:03 - loss: 0.0159 - acc: 0.995 - ETA: 2:03 - loss: 0.0158 - acc: 0.995 - ETA: 2:02 - loss: 0.0158 - acc: 0.995 - ETA: 2:02 - loss: 0.0158 - acc: 0.995 - ETA: 2:01 - loss: 0.0157 - acc: 0.995 - ETA: 2:01 - loss: 0.0159 - acc: 0.995 - ETA: 2:01 - loss: 0.0159 - acc: 0.995 - ETA: 2:00 - loss: 0.0159 - acc: 0.995 - ETA: 2:00 - loss: 0.0159 - acc: 0.995 - ETA: 2:00 - loss: 0.0160 - acc: 0.994 - ETA: 2:00 - loss: 0.0161 - acc: 0.994 - ETA: 1:59 - loss: 0.0162 - acc: 0.994 - ETA: 1:59 - loss: 0.0162 - acc: 0.994 - ETA: 1:59 - loss: 0.0162 - acc: 0.994 - ETA: 1:58 - loss: 0.0162 - acc: 0.994 - ETA: 1:58 - loss: 0.0161 - acc: 0.994 - ETA: 1:58 - loss: 0.0162 - acc: 0.994 - ETA: 1:57 - loss: 0.0164 - acc: 0.994 - ETA: 1:57 - loss: 0.0162 - acc: 0.994 - ETA: 1:57 - loss: 0.0163 - acc: 0.994 - ETA: 1:56 - loss: 0.0163 - acc: 0.994 - ETA: 1:56 - loss: 0.0163 - acc: 0.994 - ETA: 1:56 - loss: 0.0164 - acc: 0.994 - ETA: 1:55 - loss: 0.0165 - acc: 0.994 - ETA: 1:55 - loss: 0.0165 - acc: 0.994 - ETA: 1:55 - loss: 0.0165 - acc: 0.994 - ETA: 1:54 - loss: 0.0166 - acc: 0.994 - ETA: 1:54 - loss: 0.0165 - acc: 0.994 - ETA: 1:54 - loss: 0.0165 - acc: 0.994 - ETA: 1:53 - loss: 0.0164 - acc: 0.994 - ETA: 1:53 - loss: 0.0165 - acc: 0.994 - ETA: 1:53 - loss: 0.0166 - acc: 0.994 - ETA: 1:52 - loss: 0.0166 - acc: 0.994 - ETA: 1:52 - loss: 0.0166 - acc: 0.994 - ETA: 1:52 - loss: 0.0165 - acc: 0.994 - ETA: 1:51 - loss: 0.0165 - acc: 0.994 - ETA: 1:51 - loss: 0.0164 - acc: 0.994 - ETA: 1:51 - loss: 0.0164 - acc: 0.994 - ETA: 1:51 - loss: 0.0164 - acc: 0.995 - ETA: 1:50 - loss: 0.0163 - acc: 0.995 - ETA: 1:50 - loss: 0.0162 - acc: 0.995 - ETA: 1:49 - loss: 0.0162 - acc: 0.995 - ETA: 1:49 - loss: 0.0162 - acc: 0.995 - ETA: 1:49 - loss: 0.0162 - acc: 0.995 - ETA: 1:49 - loss: 0.0161 - acc: 0.995 - ETA: 1:48 - loss: 0.0161 - acc: 0.995 - ETA: 1:48 - loss: 0.0161 - acc: 0.995 - ETA: 1:47 - loss: 0.0161 - acc: 0.995 - ETA: 1:47 - loss: 0.0160 - acc: 0.995 - ETA: 1:47 - loss: 0.0162 - acc: 0.995 - ETA: 1:47 - loss: 0.0161 - acc: 0.995 - ETA: 1:46 - loss: 0.0161 - acc: 0.995 - ETA: 1:46 - loss: 0.0161 - acc: 0.995 - ETA: 1:45 - loss: 0.0161 - acc: 0.995 - ETA: 1:45 - loss: 0.0161 - acc: 0.995 - ETA: 1:45 - loss: 0.0162 - acc: 0.995 - ETA: 1:45 - loss: 0.0162 - acc: 0.995 - ETA: 1:44 - loss: 0.0161 - acc: 0.995 - ETA: 1:44 - loss: 0.0162 - acc: 0.995 - ETA: 1:43 - loss: 0.0161 - acc: 0.995 - ETA: 1:43 - loss: 0.0161 - acc: 0.995 - ETA: 1:43 - loss: 0.0161 - acc: 0.995 - ETA: 1:43 - loss: 0.0161 - acc: 0.995 - ETA: 1:42 - loss: 0.0160 - acc: 0.995 - ETA: 1:42 - loss: 0.0160 - acc: 0.995 - ETA: 1:42 - loss: 0.0161 - acc: 0.995 - ETA: 1:41 - loss: 0.0161 - acc: 0.995 - ETA: 1:41 - loss: 0.0160 - acc: 0.995 - ETA: 1:41 - loss: 0.0160 - acc: 0.995 - ETA: 1:40 - loss: 0.0159 - acc: 0.995 - ETA: 1:40 - loss: 0.0158 - acc: 0.995 - ETA: 1:40 - loss: 0.0157 - acc: 0.995 - ETA: 1:39 - loss: 0.0157 - acc: 0.995 - ETA: 1:39 - loss: 0.0157 - acc: 0.995 - ETA: 1:39 - loss: 0.0157 - acc: 0.995 - ETA: 1:38 - loss: 0.0156 - acc: 0.995 - ETA: 1:38 - loss: 0.0155 - acc: 0.995 - ETA: 1:38 - loss: 0.0155 - acc: 0.995 - ETA: 1:37 - loss: 0.0156 - acc: 0.995 - ETA: 1:37 - loss: 0.0155 - acc: 0.995 - ETA: 1:37 - loss: 0.0156 - acc: 0.995 - ETA: 1:36 - loss: 0.0155 - acc: 0.995 - ETA: 1:36 - loss: 0.0154 - acc: 0.995 - ETA: 1:36 - loss: 0.0154 - acc: 0.995 - ETA: 1:35 - loss: 0.0154 - acc: 0.995 - ETA: 1:35 - loss: 0.0154 - acc: 0.995 - ETA: 1:35 - loss: 0.0154 - acc: 0.995 - ETA: 1:34 - loss: 0.0154 - acc: 0.995 - ETA: 1:34 - loss: 0.0153 - acc: 0.995 - ETA: 1:34 - loss: 0.0153 - acc: 0.995 - ETA: 1:33 - loss: 0.0153 - acc: 0.995 - ETA: 1:33 - loss: 0.0153 - acc: 0.995 - ETA: 1:33 - loss: 0.0153 - acc: 0.995 - ETA: 1:32 - loss: 0.0153 - acc: 0.995 - ETA: 1:32 - loss: 0.0153 - acc: 0.995 - ETA: 1:32 - loss: 0.0153 - acc: 0.995 - ETA: 1:31 - loss: 0.0152 - acc: 0.995 - ETA: 1:31 - loss: 0.0152 - acc: 0.995 - ETA: 1:31 - loss: 0.0152 - acc: 0.995 - ETA: 1:30 - loss: 0.0151 - acc: 0.995 - ETA: 1:30 - loss: 0.0151 - acc: 0.995 - ETA: 1:30 - loss: 0.0152 - acc: 0.995 - ETA: 1:29 - loss: 0.0153 - acc: 0.995 - ETA: 1:29 - loss: 0.0152 - acc: 0.995 - ETA: 1:29 - loss: 0.0152 - acc: 0.995 - ETA: 1:29 - loss: 0.0153 - acc: 0.995 - ETA: 1:28 - loss: 0.0153 - acc: 0.995 - ETA: 1:28 - loss: 0.0153 - acc: 0.995 - ETA: 1:28 - loss: 0.0153 - acc: 0.995 - ETA: 1:27 - loss: 0.0153 - acc: 0.995 - ETA: 1:27 - loss: 0.0153 - acc: 0.995 - ETA: 1:27 - loss: 0.0154 - acc: 0.995 - ETA: 1:26 - loss: 0.0154 - acc: 0.995 - ETA: 1:26 - loss: 0.0154 - acc: 0.995 - ETA: 1:26 - loss: 0.0154 - acc: 0.995 - ETA: 1:25 - loss: 0.0154 - acc: 0.995 - ETA: 1:25 - loss: 0.0154 - acc: 0.995 - ETA: 1:25 - loss: 0.0154 - acc: 0.995 - ETA: 1:24 - loss: 0.0154 - acc: 0.995 - ETA: 1:24 - loss: 0.0154 - acc: 0.995 - ETA: 1:24 - loss: 0.0154 - acc: 0.995 - ETA: 1:23 - loss: 0.0154 - acc: 0.995 - ETA: 1:23 - loss: 0.0154 - acc: 0.995 - ETA: 1:23 - loss: 0.0154 - acc: 0.995 - ETA: 1:22 - loss: 0.0154 - acc: 0.995 - ETA: 1:22 - loss: 0.0154 - acc: 0.995 - ETA: 1:22 - loss: 0.0156 - acc: 0.995 - ETA: 1:21 - loss: 0.0156 - acc: 0.995 - ETA: 1:21 - loss: 0.0157 - acc: 0.995 - ETA: 1:21 - loss: 0.0157 - acc: 0.995 - ETA: 1:20 - loss: 0.0157 - acc: 0.995 - ETA: 1:20 - loss: 0.0157 - acc: 0.995 - ETA: 1:20 - loss: 0.0157 - acc: 0.995 - ETA: 1:19 - loss: 0.0157 - acc: 0.995 - ETA: 1:19 - loss: 0.0157 - acc: 0.995 - ETA: 1:19 - loss: 0.0157 - acc: 0.995 - ETA: 1:18 - loss: 0.0156 - acc: 0.995 - ETA: 1:18 - loss: 0.0156 - acc: 0.995 - ETA: 1:18 - loss: 0.0156 - acc: 0.995 - ETA: 1:17 - loss: 0.0156 - acc: 0.995 - ETA: 1:17 - loss: 0.0156 - acc: 0.995 - ETA: 1:17 - loss: 0.0156 - acc: 0.995 - ETA: 1:16 - loss: 0.0155 - acc: 0.995 - ETA: 1:16 - loss: 0.0155 - acc: 0.995 - ETA: 1:16 - loss: 0.0155 - acc: 0.995 - ETA: 1:16 - loss: 0.0155 - acc: 0.995 - ETA: 1:16 - loss: 0.0155 - acc: 0.995 - ETA: 1:15 - loss: 0.0154 - acc: 0.995 - ETA: 1:15 - loss: 0.0155 - acc: 0.995 - ETA: 1:15 - loss: 0.0154 - acc: 0.995 - ETA: 1:15 - loss: 0.0154 - acc: 0.995 - ETA: 1:14 - loss: 0.0154 - acc: 0.995 - ETA: 1:14 - loss: 0.0154 - acc: 0.995 - ETA: 1:14 - loss: 0.0155 - acc: 0.995 - ETA: 1:14 - loss: 0.0154 - acc: 0.995 - ETA: 1:13 - loss: 0.0155 - acc: 0.995 - ETA: 1:13 - loss: 0.0154 - acc: 0.995 - ETA: 1:13 - loss: 0.0154 - acc: 0.995 - ETA: 1:12 - loss: 0.0154 - acc: 0.995 - ETA: 1:12 - loss: 0.0154 - acc: 0.9953"
     ]
    },
    {
     "name": "stdout",
     "output_type": "stream",
     "text": [
      "13344/13654 [============================>.] - ETA: 1:12 - loss: 0.0154 - acc: 0.995 - ETA: 1:11 - loss: 0.0154 - acc: 0.995 - ETA: 1:11 - loss: 0.0154 - acc: 0.995 - ETA: 1:11 - loss: 0.0154 - acc: 0.995 - ETA: 1:10 - loss: 0.0154 - acc: 0.995 - ETA: 1:10 - loss: 0.0155 - acc: 0.995 - ETA: 1:10 - loss: 0.0155 - acc: 0.995 - ETA: 1:09 - loss: 0.0155 - acc: 0.995 - ETA: 1:09 - loss: 0.0155 - acc: 0.995 - ETA: 1:09 - loss: 0.0155 - acc: 0.995 - ETA: 1:08 - loss: 0.0155 - acc: 0.995 - ETA: 1:08 - loss: 0.0155 - acc: 0.995 - ETA: 1:08 - loss: 0.0155 - acc: 0.995 - ETA: 1:07 - loss: 0.0155 - acc: 0.995 - ETA: 1:07 - loss: 0.0154 - acc: 0.995 - ETA: 1:07 - loss: 0.0154 - acc: 0.995 - ETA: 1:06 - loss: 0.0154 - acc: 0.995 - ETA: 1:06 - loss: 0.0154 - acc: 0.995 - ETA: 1:06 - loss: 0.0154 - acc: 0.995 - ETA: 1:05 - loss: 0.0154 - acc: 0.995 - ETA: 1:05 - loss: 0.0154 - acc: 0.995 - ETA: 1:05 - loss: 0.0154 - acc: 0.995 - ETA: 1:05 - loss: 0.0153 - acc: 0.995 - ETA: 1:04 - loss: 0.0153 - acc: 0.995 - ETA: 1:04 - loss: 0.0153 - acc: 0.995 - ETA: 1:04 - loss: 0.0153 - acc: 0.995 - ETA: 1:03 - loss: 0.0153 - acc: 0.995 - ETA: 1:03 - loss: 0.0153 - acc: 0.995 - ETA: 1:03 - loss: 0.0153 - acc: 0.995 - ETA: 1:02 - loss: 0.0153 - acc: 0.995 - ETA: 1:02 - loss: 0.0153 - acc: 0.995 - ETA: 1:02 - loss: 0.0153 - acc: 0.995 - ETA: 1:01 - loss: 0.0153 - acc: 0.995 - ETA: 1:01 - loss: 0.0153 - acc: 0.995 - ETA: 1:01 - loss: 0.0153 - acc: 0.995 - ETA: 1:00 - loss: 0.0153 - acc: 0.995 - ETA: 1:00 - loss: 0.0153 - acc: 0.995 - ETA: 1:00 - loss: 0.0153 - acc: 0.995 - ETA: 59s - loss: 0.0152 - acc: 0.995 - ETA: 59s - loss: 0.0152 - acc: 0.99 - ETA: 59s - loss: 0.0152 - acc: 0.99 - ETA: 58s - loss: 0.0152 - acc: 0.99 - ETA: 58s - loss: 0.0152 - acc: 0.99 - ETA: 58s - loss: 0.0151 - acc: 0.99 - ETA: 57s - loss: 0.0151 - acc: 0.99 - ETA: 57s - loss: 0.0152 - acc: 0.99 - ETA: 57s - loss: 0.0152 - acc: 0.99 - ETA: 56s - loss: 0.0152 - acc: 0.99 - ETA: 56s - loss: 0.0151 - acc: 0.99 - ETA: 56s - loss: 0.0152 - acc: 0.99 - ETA: 55s - loss: 0.0151 - acc: 0.99 - ETA: 55s - loss: 0.0151 - acc: 0.99 - ETA: 55s - loss: 0.0151 - acc: 0.99 - ETA: 54s - loss: 0.0151 - acc: 0.99 - ETA: 54s - loss: 0.0151 - acc: 0.99 - ETA: 54s - loss: 0.0151 - acc: 0.99 - ETA: 53s - loss: 0.0151 - acc: 0.99 - ETA: 53s - loss: 0.0151 - acc: 0.99 - ETA: 53s - loss: 0.0151 - acc: 0.99 - ETA: 52s - loss: 0.0151 - acc: 0.99 - ETA: 52s - loss: 0.0151 - acc: 0.99 - ETA: 52s - loss: 0.0151 - acc: 0.99 - ETA: 51s - loss: 0.0151 - acc: 0.99 - ETA: 51s - loss: 0.0151 - acc: 0.99 - ETA: 51s - loss: 0.0151 - acc: 0.99 - ETA: 50s - loss: 0.0151 - acc: 0.99 - ETA: 50s - loss: 0.0151 - acc: 0.99 - ETA: 50s - loss: 0.0151 - acc: 0.99 - ETA: 49s - loss: 0.0151 - acc: 0.99 - ETA: 49s - loss: 0.0151 - acc: 0.99 - ETA: 49s - loss: 0.0150 - acc: 0.99 - ETA: 48s - loss: 0.0150 - acc: 0.99 - ETA: 48s - loss: 0.0150 - acc: 0.99 - ETA: 48s - loss: 0.0150 - acc: 0.99 - ETA: 47s - loss: 0.0150 - acc: 0.99 - ETA: 47s - loss: 0.0151 - acc: 0.99 - ETA: 47s - loss: 0.0150 - acc: 0.99 - ETA: 46s - loss: 0.0151 - acc: 0.99 - ETA: 46s - loss: 0.0151 - acc: 0.99 - ETA: 46s - loss: 0.0150 - acc: 0.99 - ETA: 45s - loss: 0.0150 - acc: 0.99 - ETA: 45s - loss: 0.0150 - acc: 0.99 - ETA: 45s - loss: 0.0150 - acc: 0.99 - ETA: 45s - loss: 0.0151 - acc: 0.99 - ETA: 44s - loss: 0.0150 - acc: 0.99 - ETA: 44s - loss: 0.0150 - acc: 0.99 - ETA: 44s - loss: 0.0150 - acc: 0.99 - ETA: 43s - loss: 0.0150 - acc: 0.99 - ETA: 43s - loss: 0.0150 - acc: 0.99 - ETA: 43s - loss: 0.0150 - acc: 0.99 - ETA: 42s - loss: 0.0150 - acc: 0.99 - ETA: 42s - loss: 0.0150 - acc: 0.99 - ETA: 42s - loss: 0.0150 - acc: 0.99 - ETA: 41s - loss: 0.0150 - acc: 0.99 - ETA: 41s - loss: 0.0150 - acc: 0.99 - ETA: 41s - loss: 0.0150 - acc: 0.99 - ETA: 40s - loss: 0.0150 - acc: 0.99 - ETA: 40s - loss: 0.0150 - acc: 0.99 - ETA: 40s - loss: 0.0149 - acc: 0.99 - ETA: 39s - loss: 0.0149 - acc: 0.99 - ETA: 39s - loss: 0.0149 - acc: 0.99 - ETA: 39s - loss: 0.0149 - acc: 0.99 - ETA: 38s - loss: 0.0149 - acc: 0.99 - ETA: 38s - loss: 0.0149 - acc: 0.99 - ETA: 38s - loss: 0.0149 - acc: 0.99 - ETA: 37s - loss: 0.0148 - acc: 0.99 - ETA: 37s - loss: 0.0149 - acc: 0.99 - ETA: 37s - loss: 0.0148 - acc: 0.99 - ETA: 36s - loss: 0.0148 - acc: 0.99 - ETA: 36s - loss: 0.0148 - acc: 0.99 - ETA: 36s - loss: 0.0148 - acc: 0.99 - ETA: 35s - loss: 0.0148 - acc: 0.99 - ETA: 35s - loss: 0.0148 - acc: 0.99 - ETA: 35s - loss: 0.0148 - acc: 0.99 - ETA: 34s - loss: 0.0148 - acc: 0.99 - ETA: 34s - loss: 0.0148 - acc: 0.99 - ETA: 34s - loss: 0.0148 - acc: 0.99 - ETA: 33s - loss: 0.0148 - acc: 0.99 - ETA: 33s - loss: 0.0148 - acc: 0.99 - ETA: 33s - loss: 0.0148 - acc: 0.99 - ETA: 32s - loss: 0.0147 - acc: 0.99 - ETA: 32s - loss: 0.0147 - acc: 0.99 - ETA: 32s - loss: 0.0147 - acc: 0.99 - ETA: 31s - loss: 0.0147 - acc: 0.99 - ETA: 31s - loss: 0.0148 - acc: 0.99 - ETA: 31s - loss: 0.0147 - acc: 0.99 - ETA: 31s - loss: 0.0147 - acc: 0.99 - ETA: 30s - loss: 0.0148 - acc: 0.99 - ETA: 30s - loss: 0.0147 - acc: 0.99 - ETA: 30s - loss: 0.0147 - acc: 0.99 - ETA: 29s - loss: 0.0147 - acc: 0.99 - ETA: 29s - loss: 0.0147 - acc: 0.99 - ETA: 29s - loss: 0.0147 - acc: 0.99 - ETA: 28s - loss: 0.0147 - acc: 0.99 - ETA: 28s - loss: 0.0147 - acc: 0.99 - ETA: 28s - loss: 0.0147 - acc: 0.99 - ETA: 27s - loss: 0.0147 - acc: 0.99 - ETA: 27s - loss: 0.0147 - acc: 0.99 - ETA: 27s - loss: 0.0146 - acc: 0.99 - ETA: 26s - loss: 0.0147 - acc: 0.99 - ETA: 26s - loss: 0.0147 - acc: 0.99 - ETA: 26s - loss: 0.0147 - acc: 0.99 - ETA: 25s - loss: 0.0147 - acc: 0.99 - ETA: 25s - loss: 0.0147 - acc: 0.99 - ETA: 25s - loss: 0.0147 - acc: 0.99 - ETA: 24s - loss: 0.0147 - acc: 0.99 - ETA: 24s - loss: 0.0147 - acc: 0.99 - ETA: 24s - loss: 0.0147 - acc: 0.99 - ETA: 23s - loss: 0.0146 - acc: 0.99 - ETA: 23s - loss: 0.0146 - acc: 0.99 - ETA: 23s - loss: 0.0146 - acc: 0.99 - ETA: 22s - loss: 0.0146 - acc: 0.99 - ETA: 22s - loss: 0.0146 - acc: 0.99 - ETA: 22s - loss: 0.0146 - acc: 0.99 - ETA: 21s - loss: 0.0146 - acc: 0.99 - ETA: 21s - loss: 0.0146 - acc: 0.99 - ETA: 21s - loss: 0.0146 - acc: 0.99 - ETA: 20s - loss: 0.0146 - acc: 0.99 - ETA: 20s - loss: 0.0146 - acc: 0.99 - ETA: 20s - loss: 0.0146 - acc: 0.99 - ETA: 19s - loss: 0.0146 - acc: 0.99 - ETA: 19s - loss: 0.0146 - acc: 0.99 - ETA: 19s - loss: 0.0146 - acc: 0.99 - ETA: 19s - loss: 0.0146 - acc: 0.99 - ETA: 18s - loss: 0.0146 - acc: 0.99 - ETA: 18s - loss: 0.0146 - acc: 0.99 - ETA: 18s - loss: 0.0146 - acc: 0.99 - ETA: 17s - loss: 0.0146 - acc: 0.99 - ETA: 17s - loss: 0.0146 - acc: 0.99 - ETA: 17s - loss: 0.0145 - acc: 0.99 - ETA: 16s - loss: 0.0145 - acc: 0.99 - ETA: 16s - loss: 0.0145 - acc: 0.99 - ETA: 16s - loss: 0.0145 - acc: 0.99 - ETA: 15s - loss: 0.0145 - acc: 0.99 - ETA: 15s - loss: 0.0145 - acc: 0.99 - ETA: 15s - loss: 0.0145 - acc: 0.99 - ETA: 14s - loss: 0.0145 - acc: 0.99 - ETA: 14s - loss: 0.0145 - acc: 0.99 - ETA: 14s - loss: 0.0145 - acc: 0.99 - ETA: 13s - loss: 0.0145 - acc: 0.99 - ETA: 13s - loss: 0.0145 - acc: 0.99 - ETA: 13s - loss: 0.0145 - acc: 0.99 - ETA: 12s - loss: 0.0144 - acc: 0.99 - ETA: 12s - loss: 0.0145 - acc: 0.99 - ETA: 12s - loss: 0.0145 - acc: 0.99 - ETA: 11s - loss: 0.0145 - acc: 0.99 - ETA: 11s - loss: 0.0145 - acc: 0.99 - ETA: 11s - loss: 0.0145 - acc: 0.99 - ETA: 10s - loss: 0.0145 - acc: 0.99 - ETA: 10s - loss: 0.0145 - acc: 0.99 - ETA: 10s - loss: 0.0144 - acc: 0.99 - ETA: 9s - loss: 0.0144 - acc: 0.9956 - ETA: 9s - loss: 0.0144 - acc: 0.995 - ETA: 9s - loss: 0.0144 - acc: 0.995 - ETA: 8s - loss: 0.0145 - acc: 0.995 - ETA: 8s - loss: 0.0145 - acc: 0.995 - ETA: 8s - loss: 0.0145 - acc: 0.995 - ETA: 7s - loss: 0.0145 - acc: 0.995 - ETA: 7s - loss: 0.0145 - acc: 0.995 - ETA: 7s - loss: 0.0145 - acc: 0.995 - ETA: 7s - loss: 0.0144 - acc: 0.995 - ETA: 6s - loss: 0.0144 - acc: 0.995 - ETA: 6s - loss: 0.0144 - acc: 0.995 - ETA: 6s - loss: 0.0144 - acc: 0.995 - ETA: 5s - loss: 0.0144 - acc: 0.995 - ETA: 5s - loss: 0.0144 - acc: 0.995 - ETA: 5s - loss: 0.0143 - acc: 0.995 - ETA: 4s - loss: 0.0144 - acc: 0.995 - ETA: 4s - loss: 0.0144 - acc: 0.995 - ETA: 4s - loss: 0.0144 - acc: 0.995 - ETA: 3s - loss: 0.0144 - acc: 0.995 - ETA: 3s - loss: 0.0144 - acc: 0.995 - ETA: 3s - loss: 0.0144 - acc: 0.9956"
     ]
    },
    {
     "name": "stdout",
     "output_type": "stream",
     "text": [
      "13654/13654 [==============================] - ETA: 2s - loss: 0.0144 - acc: 0.995 - ETA: 2s - loss: 0.0144 - acc: 0.995 - ETA: 2s - loss: 0.0144 - acc: 0.995 - ETA: 1s - loss: 0.0144 - acc: 0.995 - ETA: 1s - loss: 0.0144 - acc: 0.995 - ETA: 1s - loss: 0.0144 - acc: 0.995 - ETA: 0s - loss: 0.0144 - acc: 0.995 - ETA: 0s - loss: 0.0144 - acc: 0.995 - ETA: 0s - loss: 0.0144 - acc: 0.995 - 141s 10ms/step - loss: 0.0144 - acc: 0.9956 - val_loss: 0.0123 - val_acc: 0.9963\n",
      "Epoch 3/5\n"
     ]
    },
    {
     "name": "stdout",
     "output_type": "stream",
     "text": [
      " 6528/13654 [=============>................] - ETA: 2:13 - loss: 0.0153 - acc: 0.996 - ETA: 2:16 - loss: 0.0126 - acc: 0.996 - ETA: 2:16 - loss: 0.0104 - acc: 0.997 - ETA: 2:17 - loss: 0.0117 - acc: 0.996 - ETA: 2:15 - loss: 0.0114 - acc: 0.996 - ETA: 2:15 - loss: 0.0117 - acc: 0.996 - ETA: 2:14 - loss: 0.0114 - acc: 0.996 - ETA: 2:14 - loss: 0.0108 - acc: 0.996 - ETA: 2:13 - loss: 0.0100 - acc: 0.997 - ETA: 2:13 - loss: 0.0100 - acc: 0.997 - ETA: 2:12 - loss: 0.0101 - acc: 0.996 - ETA: 2:12 - loss: 0.0099 - acc: 0.996 - ETA: 2:11 - loss: 0.0096 - acc: 0.997 - ETA: 2:11 - loss: 0.0096 - acc: 0.997 - ETA: 2:11 - loss: 0.0097 - acc: 0.996 - ETA: 2:10 - loss: 0.0096 - acc: 0.997 - ETA: 2:10 - loss: 0.0097 - acc: 0.996 - ETA: 2:10 - loss: 0.0101 - acc: 0.996 - ETA: 2:10 - loss: 0.0098 - acc: 0.996 - ETA: 2:09 - loss: 0.0102 - acc: 0.996 - ETA: 2:09 - loss: 0.0104 - acc: 0.996 - ETA: 2:09 - loss: 0.0104 - acc: 0.996 - ETA: 2:08 - loss: 0.0108 - acc: 0.996 - ETA: 2:08 - loss: 0.0108 - acc: 0.996 - ETA: 2:08 - loss: 0.0107 - acc: 0.996 - ETA: 2:07 - loss: 0.0106 - acc: 0.996 - ETA: 2:07 - loss: 0.0106 - acc: 0.996 - ETA: 2:07 - loss: 0.0106 - acc: 0.996 - ETA: 2:06 - loss: 0.0106 - acc: 0.996 - ETA: 2:06 - loss: 0.0104 - acc: 0.996 - ETA: 2:06 - loss: 0.0103 - acc: 0.996 - ETA: 2:05 - loss: 0.0103 - acc: 0.996 - ETA: 2:05 - loss: 0.0102 - acc: 0.996 - ETA: 2:05 - loss: 0.0100 - acc: 0.997 - ETA: 2:04 - loss: 0.0099 - acc: 0.997 - ETA: 2:04 - loss: 0.0100 - acc: 0.997 - ETA: 2:04 - loss: 0.0099 - acc: 0.997 - ETA: 2:03 - loss: 0.0098 - acc: 0.997 - ETA: 2:03 - loss: 0.0097 - acc: 0.997 - ETA: 2:03 - loss: 0.0098 - acc: 0.997 - ETA: 2:02 - loss: 0.0098 - acc: 0.997 - ETA: 2:02 - loss: 0.0101 - acc: 0.997 - ETA: 2:02 - loss: 0.0101 - acc: 0.997 - ETA: 2:01 - loss: 0.0099 - acc: 0.997 - ETA: 2:01 - loss: 0.0099 - acc: 0.997 - ETA: 2:01 - loss: 0.0099 - acc: 0.997 - ETA: 2:01 - loss: 0.0099 - acc: 0.997 - ETA: 2:00 - loss: 0.0100 - acc: 0.997 - ETA: 2:00 - loss: 0.0099 - acc: 0.997 - ETA: 2:00 - loss: 0.0100 - acc: 0.997 - ETA: 1:59 - loss: 0.0099 - acc: 0.997 - ETA: 1:59 - loss: 0.0101 - acc: 0.997 - ETA: 1:59 - loss: 0.0101 - acc: 0.997 - ETA: 1:58 - loss: 0.0101 - acc: 0.997 - ETA: 1:58 - loss: 0.0102 - acc: 0.996 - ETA: 1:58 - loss: 0.0101 - acc: 0.996 - ETA: 1:58 - loss: 0.0101 - acc: 0.997 - ETA: 1:57 - loss: 0.0101 - acc: 0.997 - ETA: 1:57 - loss: 0.0101 - acc: 0.996 - ETA: 1:57 - loss: 0.0101 - acc: 0.996 - ETA: 1:56 - loss: 0.0100 - acc: 0.996 - ETA: 1:56 - loss: 0.0100 - acc: 0.997 - ETA: 1:56 - loss: 0.0100 - acc: 0.997 - ETA: 1:55 - loss: 0.0099 - acc: 0.997 - ETA: 1:55 - loss: 0.0099 - acc: 0.997 - ETA: 1:55 - loss: 0.0100 - acc: 0.996 - ETA: 1:54 - loss: 0.0100 - acc: 0.996 - ETA: 1:54 - loss: 0.0100 - acc: 0.997 - ETA: 1:54 - loss: 0.0099 - acc: 0.997 - ETA: 1:54 - loss: 0.0099 - acc: 0.997 - ETA: 1:53 - loss: 0.0100 - acc: 0.997 - ETA: 1:53 - loss: 0.0101 - acc: 0.996 - ETA: 1:53 - loss: 0.0101 - acc: 0.996 - ETA: 1:53 - loss: 0.0100 - acc: 0.996 - ETA: 1:52 - loss: 0.0100 - acc: 0.996 - ETA: 1:52 - loss: 0.0100 - acc: 0.996 - ETA: 1:52 - loss: 0.0100 - acc: 0.996 - ETA: 1:51 - loss: 0.0101 - acc: 0.996 - ETA: 1:51 - loss: 0.0101 - acc: 0.996 - ETA: 1:51 - loss: 0.0100 - acc: 0.996 - ETA: 1:50 - loss: 0.0100 - acc: 0.996 - ETA: 1:50 - loss: 0.0101 - acc: 0.996 - ETA: 1:50 - loss: 0.0101 - acc: 0.996 - ETA: 1:49 - loss: 0.0101 - acc: 0.996 - ETA: 1:49 - loss: 0.0101 - acc: 0.996 - ETA: 1:49 - loss: 0.0102 - acc: 0.996 - ETA: 1:49 - loss: 0.0102 - acc: 0.996 - ETA: 1:48 - loss: 0.0103 - acc: 0.996 - ETA: 1:48 - loss: 0.0103 - acc: 0.996 - ETA: 1:48 - loss: 0.0105 - acc: 0.996 - ETA: 1:47 - loss: 0.0105 - acc: 0.996 - ETA: 1:47 - loss: 0.0105 - acc: 0.996 - ETA: 1:47 - loss: 0.0104 - acc: 0.996 - ETA: 1:46 - loss: 0.0103 - acc: 0.996 - ETA: 1:46 - loss: 0.0103 - acc: 0.996 - ETA: 1:46 - loss: 0.0104 - acc: 0.996 - ETA: 1:45 - loss: 0.0104 - acc: 0.996 - ETA: 1:45 - loss: 0.0104 - acc: 0.996 - ETA: 1:45 - loss: 0.0105 - acc: 0.996 - ETA: 1:44 - loss: 0.0105 - acc: 0.996 - ETA: 1:44 - loss: 0.0104 - acc: 0.996 - ETA: 1:44 - loss: 0.0104 - acc: 0.996 - ETA: 1:43 - loss: 0.0104 - acc: 0.996 - ETA: 1:43 - loss: 0.0104 - acc: 0.996 - ETA: 1:43 - loss: 0.0106 - acc: 0.996 - ETA: 1:43 - loss: 0.0105 - acc: 0.996 - ETA: 1:42 - loss: 0.0105 - acc: 0.996 - ETA: 1:42 - loss: 0.0106 - acc: 0.996 - ETA: 1:42 - loss: 0.0106 - acc: 0.996 - ETA: 1:42 - loss: 0.0105 - acc: 0.996 - ETA: 1:41 - loss: 0.0106 - acc: 0.996 - ETA: 1:41 - loss: 0.0106 - acc: 0.996 - ETA: 1:41 - loss: 0.0105 - acc: 0.996 - ETA: 1:40 - loss: 0.0105 - acc: 0.996 - ETA: 1:40 - loss: 0.0105 - acc: 0.996 - ETA: 1:40 - loss: 0.0105 - acc: 0.996 - ETA: 1:39 - loss: 0.0106 - acc: 0.996 - ETA: 1:39 - loss: 0.0105 - acc: 0.996 - ETA: 1:39 - loss: 0.0105 - acc: 0.996 - ETA: 1:38 - loss: 0.0104 - acc: 0.996 - ETA: 1:38 - loss: 0.0105 - acc: 0.996 - ETA: 1:38 - loss: 0.0106 - acc: 0.996 - ETA: 1:37 - loss: 0.0106 - acc: 0.996 - ETA: 1:37 - loss: 0.0105 - acc: 0.996 - ETA: 1:37 - loss: 0.0105 - acc: 0.996 - ETA: 1:36 - loss: 0.0106 - acc: 0.996 - ETA: 1:36 - loss: 0.0107 - acc: 0.996 - ETA: 1:36 - loss: 0.0106 - acc: 0.996 - ETA: 1:35 - loss: 0.0106 - acc: 0.996 - ETA: 1:35 - loss: 0.0106 - acc: 0.996 - ETA: 1:35 - loss: 0.0105 - acc: 0.996 - ETA: 1:35 - loss: 0.0105 - acc: 0.996 - ETA: 1:34 - loss: 0.0105 - acc: 0.996 - ETA: 1:34 - loss: 0.0104 - acc: 0.996 - ETA: 1:34 - loss: 0.0104 - acc: 0.996 - ETA: 1:33 - loss: 0.0104 - acc: 0.996 - ETA: 1:33 - loss: 0.0104 - acc: 0.996 - ETA: 1:33 - loss: 0.0103 - acc: 0.996 - ETA: 1:32 - loss: 0.0103 - acc: 0.996 - ETA: 1:32 - loss: 0.0103 - acc: 0.996 - ETA: 1:32 - loss: 0.0103 - acc: 0.996 - ETA: 1:31 - loss: 0.0104 - acc: 0.996 - ETA: 1:31 - loss: 0.0103 - acc: 0.996 - ETA: 1:31 - loss: 0.0103 - acc: 0.996 - ETA: 1:30 - loss: 0.0103 - acc: 0.996 - ETA: 1:30 - loss: 0.0103 - acc: 0.996 - ETA: 1:30 - loss: 0.0103 - acc: 0.996 - ETA: 1:29 - loss: 0.0103 - acc: 0.996 - ETA: 1:29 - loss: 0.0103 - acc: 0.996 - ETA: 1:29 - loss: 0.0102 - acc: 0.996 - ETA: 1:28 - loss: 0.0102 - acc: 0.996 - ETA: 1:28 - loss: 0.0102 - acc: 0.996 - ETA: 1:28 - loss: 0.0102 - acc: 0.996 - ETA: 1:27 - loss: 0.0102 - acc: 0.996 - ETA: 1:27 - loss: 0.0102 - acc: 0.996 - ETA: 1:27 - loss: 0.0101 - acc: 0.996 - ETA: 1:26 - loss: 0.0102 - acc: 0.996 - ETA: 1:26 - loss: 0.0102 - acc: 0.996 - ETA: 1:26 - loss: 0.0102 - acc: 0.996 - ETA: 1:26 - loss: 0.0102 - acc: 0.996 - ETA: 1:25 - loss: 0.0101 - acc: 0.996 - ETA: 1:25 - loss: 0.0101 - acc: 0.996 - ETA: 1:25 - loss: 0.0101 - acc: 0.996 - ETA: 1:24 - loss: 0.0101 - acc: 0.996 - ETA: 1:24 - loss: 0.0101 - acc: 0.996 - ETA: 1:24 - loss: 0.0102 - acc: 0.996 - ETA: 1:23 - loss: 0.0101 - acc: 0.996 - ETA: 1:23 - loss: 0.0102 - acc: 0.996 - ETA: 1:23 - loss: 0.0102 - acc: 0.996 - ETA: 1:22 - loss: 0.0102 - acc: 0.996 - ETA: 1:22 - loss: 0.0102 - acc: 0.996 - ETA: 1:22 - loss: 0.0102 - acc: 0.996 - ETA: 1:21 - loss: 0.0102 - acc: 0.996 - ETA: 1:21 - loss: 0.0101 - acc: 0.996 - ETA: 1:21 - loss: 0.0101 - acc: 0.996 - ETA: 1:20 - loss: 0.0101 - acc: 0.996 - ETA: 1:20 - loss: 0.0101 - acc: 0.996 - ETA: 1:20 - loss: 0.0102 - acc: 0.996 - ETA: 1:19 - loss: 0.0102 - acc: 0.996 - ETA: 1:19 - loss: 0.0102 - acc: 0.996 - ETA: 1:19 - loss: 0.0102 - acc: 0.996 - ETA: 1:18 - loss: 0.0102 - acc: 0.996 - ETA: 1:18 - loss: 0.0102 - acc: 0.996 - ETA: 1:18 - loss: 0.0102 - acc: 0.996 - ETA: 1:17 - loss: 0.0102 - acc: 0.996 - ETA: 1:17 - loss: 0.0102 - acc: 0.996 - ETA: 1:17 - loss: 0.0102 - acc: 0.996 - ETA: 1:16 - loss: 0.0102 - acc: 0.996 - ETA: 1:16 - loss: 0.0102 - acc: 0.996 - ETA: 1:16 - loss: 0.0101 - acc: 0.996 - ETA: 1:15 - loss: 0.0101 - acc: 0.996 - ETA: 1:15 - loss: 0.0101 - acc: 0.996 - ETA: 1:15 - loss: 0.0101 - acc: 0.996 - ETA: 1:14 - loss: 0.0101 - acc: 0.996 - ETA: 1:14 - loss: 0.0101 - acc: 0.996 - ETA: 1:14 - loss: 0.0100 - acc: 0.996 - ETA: 1:13 - loss: 0.0101 - acc: 0.996 - ETA: 1:13 - loss: 0.0100 - acc: 0.996 - ETA: 1:13 - loss: 0.0100 - acc: 0.996 - ETA: 1:12 - loss: 0.0101 - acc: 0.996 - ETA: 1:12 - loss: 0.0101 - acc: 0.996 - ETA: 1:12 - loss: 0.0101 - acc: 0.996 - ETA: 1:12 - loss: 0.0100 - acc: 0.996 - ETA: 1:11 - loss: 0.0100 - acc: 0.9969"
     ]
    },
    {
     "name": "stdout",
     "output_type": "stream",
     "text": [
      "13344/13654 [============================>.] - ETA: 1:11 - loss: 0.0100 - acc: 0.996 - ETA: 1:11 - loss: 0.0100 - acc: 0.997 - ETA: 1:10 - loss: 0.0100 - acc: 0.996 - ETA: 1:10 - loss: 0.0100 - acc: 0.997 - ETA: 1:10 - loss: 0.0100 - acc: 0.997 - ETA: 1:09 - loss: 0.0100 - acc: 0.997 - ETA: 1:09 - loss: 0.0100 - acc: 0.997 - ETA: 1:09 - loss: 0.0099 - acc: 0.997 - ETA: 1:08 - loss: 0.0100 - acc: 0.997 - ETA: 1:08 - loss: 0.0099 - acc: 0.997 - ETA: 1:08 - loss: 0.0099 - acc: 0.997 - ETA: 1:07 - loss: 0.0099 - acc: 0.997 - ETA: 1:07 - loss: 0.0100 - acc: 0.997 - ETA: 1:07 - loss: 0.0099 - acc: 0.997 - ETA: 1:06 - loss: 0.0100 - acc: 0.996 - ETA: 1:06 - loss: 0.0099 - acc: 0.997 - ETA: 1:06 - loss: 0.0099 - acc: 0.997 - ETA: 1:05 - loss: 0.0099 - acc: 0.997 - ETA: 1:05 - loss: 0.0099 - acc: 0.997 - ETA: 1:05 - loss: 0.0099 - acc: 0.997 - ETA: 1:04 - loss: 0.0099 - acc: 0.997 - ETA: 1:04 - loss: 0.0099 - acc: 0.997 - ETA: 1:04 - loss: 0.0100 - acc: 0.996 - ETA: 1:03 - loss: 0.0100 - acc: 0.996 - ETA: 1:03 - loss: 0.0100 - acc: 0.996 - ETA: 1:03 - loss: 0.0100 - acc: 0.996 - ETA: 1:02 - loss: 0.0100 - acc: 0.996 - ETA: 1:02 - loss: 0.0100 - acc: 0.996 - ETA: 1:02 - loss: 0.0100 - acc: 0.996 - ETA: 1:01 - loss: 0.0100 - acc: 0.996 - ETA: 1:01 - loss: 0.0100 - acc: 0.996 - ETA: 1:01 - loss: 0.0100 - acc: 0.996 - ETA: 1:00 - loss: 0.0100 - acc: 0.996 - ETA: 1:00 - loss: 0.0100 - acc: 0.996 - ETA: 1:00 - loss: 0.0100 - acc: 0.996 - ETA: 1:00 - loss: 0.0100 - acc: 0.996 - ETA: 59s - loss: 0.0100 - acc: 0.996 - ETA: 59s - loss: 0.0100 - acc: 0.99 - ETA: 59s - loss: 0.0100 - acc: 0.99 - ETA: 58s - loss: 0.0100 - acc: 0.99 - ETA: 58s - loss: 0.0100 - acc: 0.99 - ETA: 58s - loss: 0.0100 - acc: 0.99 - ETA: 57s - loss: 0.0100 - acc: 0.99 - ETA: 57s - loss: 0.0100 - acc: 0.99 - ETA: 57s - loss: 0.0100 - acc: 0.99 - ETA: 56s - loss: 0.0100 - acc: 0.99 - ETA: 56s - loss: 0.0100 - acc: 0.99 - ETA: 56s - loss: 0.0100 - acc: 0.99 - ETA: 55s - loss: 0.0100 - acc: 0.99 - ETA: 55s - loss: 0.0100 - acc: 0.99 - ETA: 55s - loss: 0.0100 - acc: 0.99 - ETA: 54s - loss: 0.0100 - acc: 0.99 - ETA: 54s - loss: 0.0100 - acc: 0.99 - ETA: 54s - loss: 0.0099 - acc: 0.99 - ETA: 53s - loss: 0.0099 - acc: 0.99 - ETA: 53s - loss: 0.0099 - acc: 0.99 - ETA: 53s - loss: 0.0099 - acc: 0.99 - ETA: 52s - loss: 0.0099 - acc: 0.99 - ETA: 52s - loss: 0.0099 - acc: 0.99 - ETA: 52s - loss: 0.0099 - acc: 0.99 - ETA: 51s - loss: 0.0099 - acc: 0.99 - ETA: 51s - loss: 0.0099 - acc: 0.99 - ETA: 51s - loss: 0.0099 - acc: 0.99 - ETA: 51s - loss: 0.0099 - acc: 0.99 - ETA: 50s - loss: 0.0099 - acc: 0.99 - ETA: 50s - loss: 0.0099 - acc: 0.99 - ETA: 50s - loss: 0.0099 - acc: 0.99 - ETA: 49s - loss: 0.0099 - acc: 0.99 - ETA: 49s - loss: 0.0099 - acc: 0.99 - ETA: 49s - loss: 0.0099 - acc: 0.99 - ETA: 48s - loss: 0.0099 - acc: 0.99 - ETA: 48s - loss: 0.0098 - acc: 0.99 - ETA: 48s - loss: 0.0098 - acc: 0.99 - ETA: 47s - loss: 0.0098 - acc: 0.99 - ETA: 47s - loss: 0.0098 - acc: 0.99 - ETA: 47s - loss: 0.0098 - acc: 0.99 - ETA: 46s - loss: 0.0098 - acc: 0.99 - ETA: 46s - loss: 0.0098 - acc: 0.99 - ETA: 46s - loss: 0.0098 - acc: 0.99 - ETA: 45s - loss: 0.0098 - acc: 0.99 - ETA: 45s - loss: 0.0098 - acc: 0.99 - ETA: 45s - loss: 0.0098 - acc: 0.99 - ETA: 44s - loss: 0.0098 - acc: 0.99 - ETA: 44s - loss: 0.0098 - acc: 0.99 - ETA: 44s - loss: 0.0098 - acc: 0.99 - ETA: 43s - loss: 0.0097 - acc: 0.99 - ETA: 43s - loss: 0.0098 - acc: 0.99 - ETA: 43s - loss: 0.0097 - acc: 0.99 - ETA: 43s - loss: 0.0097 - acc: 0.99 - ETA: 42s - loss: 0.0097 - acc: 0.99 - ETA: 42s - loss: 0.0097 - acc: 0.99 - ETA: 42s - loss: 0.0097 - acc: 0.99 - ETA: 41s - loss: 0.0097 - acc: 0.99 - ETA: 41s - loss: 0.0097 - acc: 0.99 - ETA: 41s - loss: 0.0097 - acc: 0.99 - ETA: 40s - loss: 0.0097 - acc: 0.99 - ETA: 40s - loss: 0.0096 - acc: 0.99 - ETA: 40s - loss: 0.0096 - acc: 0.99 - ETA: 39s - loss: 0.0096 - acc: 0.99 - ETA: 39s - loss: 0.0096 - acc: 0.99 - ETA: 39s - loss: 0.0096 - acc: 0.99 - ETA: 38s - loss: 0.0096 - acc: 0.99 - ETA: 38s - loss: 0.0096 - acc: 0.99 - ETA: 38s - loss: 0.0096 - acc: 0.99 - ETA: 37s - loss: 0.0096 - acc: 0.99 - ETA: 37s - loss: 0.0096 - acc: 0.99 - ETA: 37s - loss: 0.0096 - acc: 0.99 - ETA: 36s - loss: 0.0096 - acc: 0.99 - ETA: 36s - loss: 0.0096 - acc: 0.99 - ETA: 36s - loss: 0.0096 - acc: 0.99 - ETA: 35s - loss: 0.0096 - acc: 0.99 - ETA: 35s - loss: 0.0096 - acc: 0.99 - ETA: 35s - loss: 0.0096 - acc: 0.99 - ETA: 35s - loss: 0.0096 - acc: 0.99 - ETA: 34s - loss: 0.0096 - acc: 0.99 - ETA: 34s - loss: 0.0096 - acc: 0.99 - ETA: 34s - loss: 0.0096 - acc: 0.99 - ETA: 33s - loss: 0.0096 - acc: 0.99 - ETA: 33s - loss: 0.0096 - acc: 0.99 - ETA: 33s - loss: 0.0096 - acc: 0.99 - ETA: 32s - loss: 0.0096 - acc: 0.99 - ETA: 32s - loss: 0.0095 - acc: 0.99 - ETA: 32s - loss: 0.0095 - acc: 0.99 - ETA: 31s - loss: 0.0095 - acc: 0.99 - ETA: 31s - loss: 0.0095 - acc: 0.99 - ETA: 31s - loss: 0.0095 - acc: 0.99 - ETA: 30s - loss: 0.0095 - acc: 0.99 - ETA: 30s - loss: 0.0095 - acc: 0.99 - ETA: 30s - loss: 0.0095 - acc: 0.99 - ETA: 29s - loss: 0.0095 - acc: 0.99 - ETA: 29s - loss: 0.0095 - acc: 0.99 - ETA: 29s - loss: 0.0095 - acc: 0.99 - ETA: 28s - loss: 0.0094 - acc: 0.99 - ETA: 28s - loss: 0.0094 - acc: 0.99 - ETA: 28s - loss: 0.0094 - acc: 0.99 - ETA: 27s - loss: 0.0094 - acc: 0.99 - ETA: 27s - loss: 0.0094 - acc: 0.99 - ETA: 27s - loss: 0.0094 - acc: 0.99 - ETA: 26s - loss: 0.0094 - acc: 0.99 - ETA: 26s - loss: 0.0094 - acc: 0.99 - ETA: 26s - loss: 0.0094 - acc: 0.99 - ETA: 25s - loss: 0.0094 - acc: 0.99 - ETA: 25s - loss: 0.0094 - acc: 0.99 - ETA: 25s - loss: 0.0094 - acc: 0.99 - ETA: 25s - loss: 0.0094 - acc: 0.99 - ETA: 24s - loss: 0.0094 - acc: 0.99 - ETA: 24s - loss: 0.0094 - acc: 0.99 - ETA: 24s - loss: 0.0094 - acc: 0.99 - ETA: 23s - loss: 0.0094 - acc: 0.99 - ETA: 23s - loss: 0.0094 - acc: 0.99 - ETA: 23s - loss: 0.0094 - acc: 0.99 - ETA: 22s - loss: 0.0094 - acc: 0.99 - ETA: 22s - loss: 0.0094 - acc: 0.99 - ETA: 22s - loss: 0.0094 - acc: 0.99 - ETA: 21s - loss: 0.0094 - acc: 0.99 - ETA: 21s - loss: 0.0094 - acc: 0.99 - ETA: 21s - loss: 0.0094 - acc: 0.99 - ETA: 20s - loss: 0.0094 - acc: 0.99 - ETA: 20s - loss: 0.0094 - acc: 0.99 - ETA: 20s - loss: 0.0094 - acc: 0.99 - ETA: 19s - loss: 0.0094 - acc: 0.99 - ETA: 19s - loss: 0.0094 - acc: 0.99 - ETA: 19s - loss: 0.0094 - acc: 0.99 - ETA: 18s - loss: 0.0094 - acc: 0.99 - ETA: 18s - loss: 0.0094 - acc: 0.99 - ETA: 18s - loss: 0.0094 - acc: 0.99 - ETA: 17s - loss: 0.0094 - acc: 0.99 - ETA: 17s - loss: 0.0095 - acc: 0.99 - ETA: 17s - loss: 0.0095 - acc: 0.99 - ETA: 16s - loss: 0.0095 - acc: 0.99 - ETA: 16s - loss: 0.0095 - acc: 0.99 - ETA: 16s - loss: 0.0095 - acc: 0.99 - ETA: 15s - loss: 0.0094 - acc: 0.99 - ETA: 15s - loss: 0.0094 - acc: 0.99 - ETA: 15s - loss: 0.0094 - acc: 0.99 - ETA: 15s - loss: 0.0094 - acc: 0.99 - ETA: 14s - loss: 0.0094 - acc: 0.99 - ETA: 14s - loss: 0.0094 - acc: 0.99 - ETA: 14s - loss: 0.0094 - acc: 0.99 - ETA: 13s - loss: 0.0094 - acc: 0.99 - ETA: 13s - loss: 0.0094 - acc: 0.99 - ETA: 13s - loss: 0.0094 - acc: 0.99 - ETA: 12s - loss: 0.0094 - acc: 0.99 - ETA: 12s - loss: 0.0094 - acc: 0.99 - ETA: 12s - loss: 0.0094 - acc: 0.99 - ETA: 11s - loss: 0.0094 - acc: 0.99 - ETA: 11s - loss: 0.0094 - acc: 0.99 - ETA: 11s - loss: 0.0094 - acc: 0.99 - ETA: 10s - loss: 0.0094 - acc: 0.99 - ETA: 10s - loss: 0.0094 - acc: 0.99 - ETA: 10s - loss: 0.0094 - acc: 0.99 - ETA: 9s - loss: 0.0094 - acc: 0.9971 - ETA: 9s - loss: 0.0094 - acc: 0.997 - ETA: 9s - loss: 0.0094 - acc: 0.997 - ETA: 8s - loss: 0.0094 - acc: 0.997 - ETA: 8s - loss: 0.0094 - acc: 0.997 - ETA: 8s - loss: 0.0094 - acc: 0.997 - ETA: 7s - loss: 0.0094 - acc: 0.997 - ETA: 7s - loss: 0.0094 - acc: 0.997 - ETA: 7s - loss: 0.0094 - acc: 0.997 - ETA: 6s - loss: 0.0094 - acc: 0.997 - ETA: 6s - loss: 0.0094 - acc: 0.997 - ETA: 6s - loss: 0.0094 - acc: 0.997 - ETA: 6s - loss: 0.0094 - acc: 0.997 - ETA: 5s - loss: 0.0094 - acc: 0.997 - ETA: 5s - loss: 0.0094 - acc: 0.997 - ETA: 5s - loss: 0.0094 - acc: 0.997 - ETA: 4s - loss: 0.0094 - acc: 0.997 - ETA: 4s - loss: 0.0094 - acc: 0.997 - ETA: 4s - loss: 0.0094 - acc: 0.997 - ETA: 3s - loss: 0.0094 - acc: 0.997 - ETA: 3s - loss: 0.0094 - acc: 0.997 - ETA: 3s - loss: 0.0094 - acc: 0.9971"
     ]
    },
    {
     "name": "stdout",
     "output_type": "stream",
     "text": [
      "13654/13654 [==============================] - ETA: 2s - loss: 0.0094 - acc: 0.997 - ETA: 2s - loss: 0.0094 - acc: 0.997 - ETA: 2s - loss: 0.0094 - acc: 0.997 - ETA: 1s - loss: 0.0093 - acc: 0.997 - ETA: 1s - loss: 0.0093 - acc: 0.997 - ETA: 1s - loss: 0.0093 - acc: 0.997 - ETA: 0s - loss: 0.0093 - acc: 0.997 - ETA: 0s - loss: 0.0093 - acc: 0.997 - ETA: 0s - loss: 0.0093 - acc: 0.997 - 141s 10ms/step - loss: 0.0093 - acc: 0.9971 - val_loss: 0.0095 - val_acc: 0.9971\n",
      "Epoch 4/5\n"
     ]
    },
    {
     "name": "stdout",
     "output_type": "stream",
     "text": [
      " 6528/13654 [=============>................] - ETA: 2:13 - loss: 0.0059 - acc: 0.998 - ETA: 2:12 - loss: 0.0066 - acc: 0.997 - ETA: 2:12 - loss: 0.0060 - acc: 0.998 - ETA: 2:12 - loss: 0.0059 - acc: 0.998 - ETA: 2:13 - loss: 0.0057 - acc: 0.998 - ETA: 2:12 - loss: 0.0058 - acc: 0.998 - ETA: 2:13 - loss: 0.0060 - acc: 0.997 - ETA: 2:12 - loss: 0.0056 - acc: 0.998 - ETA: 2:12 - loss: 0.0058 - acc: 0.998 - ETA: 2:12 - loss: 0.0064 - acc: 0.997 - ETA: 2:12 - loss: 0.0065 - acc: 0.997 - ETA: 2:11 - loss: 0.0063 - acc: 0.998 - ETA: 2:11 - loss: 0.0059 - acc: 0.998 - ETA: 2:11 - loss: 0.0059 - acc: 0.998 - ETA: 2:11 - loss: 0.0064 - acc: 0.998 - ETA: 2:11 - loss: 0.0065 - acc: 0.997 - ETA: 2:11 - loss: 0.0063 - acc: 0.998 - ETA: 2:10 - loss: 0.0064 - acc: 0.998 - ETA: 2:10 - loss: 0.0065 - acc: 0.998 - ETA: 2:09 - loss: 0.0067 - acc: 0.998 - ETA: 2:09 - loss: 0.0066 - acc: 0.998 - ETA: 2:09 - loss: 0.0064 - acc: 0.998 - ETA: 2:08 - loss: 0.0064 - acc: 0.998 - ETA: 2:08 - loss: 0.0065 - acc: 0.998 - ETA: 2:08 - loss: 0.0067 - acc: 0.998 - ETA: 2:07 - loss: 0.0067 - acc: 0.997 - ETA: 2:07 - loss: 0.0069 - acc: 0.997 - ETA: 2:07 - loss: 0.0070 - acc: 0.997 - ETA: 2:06 - loss: 0.0069 - acc: 0.997 - ETA: 2:06 - loss: 0.0068 - acc: 0.998 - ETA: 2:06 - loss: 0.0071 - acc: 0.998 - ETA: 2:06 - loss: 0.0070 - acc: 0.997 - ETA: 2:05 - loss: 0.0071 - acc: 0.998 - ETA: 2:05 - loss: 0.0070 - acc: 0.998 - ETA: 2:05 - loss: 0.0070 - acc: 0.998 - ETA: 2:04 - loss: 0.0071 - acc: 0.997 - ETA: 2:04 - loss: 0.0070 - acc: 0.997 - ETA: 2:04 - loss: 0.0069 - acc: 0.998 - ETA: 2:03 - loss: 0.0070 - acc: 0.997 - ETA: 2:03 - loss: 0.0070 - acc: 0.997 - ETA: 2:03 - loss: 0.0070 - acc: 0.997 - ETA: 2:02 - loss: 0.0070 - acc: 0.997 - ETA: 2:02 - loss: 0.0069 - acc: 0.997 - ETA: 2:02 - loss: 0.0068 - acc: 0.998 - ETA: 2:02 - loss: 0.0068 - acc: 0.998 - ETA: 2:02 - loss: 0.0068 - acc: 0.998 - ETA: 2:01 - loss: 0.0068 - acc: 0.998 - ETA: 2:01 - loss: 0.0068 - acc: 0.998 - ETA: 2:01 - loss: 0.0068 - acc: 0.998 - ETA: 2:00 - loss: 0.0068 - acc: 0.998 - ETA: 2:00 - loss: 0.0071 - acc: 0.997 - ETA: 2:00 - loss: 0.0070 - acc: 0.997 - ETA: 1:59 - loss: 0.0070 - acc: 0.997 - ETA: 1:59 - loss: 0.0070 - acc: 0.997 - ETA: 1:59 - loss: 0.0069 - acc: 0.997 - ETA: 1:58 - loss: 0.0069 - acc: 0.997 - ETA: 1:58 - loss: 0.0070 - acc: 0.997 - ETA: 1:58 - loss: 0.0070 - acc: 0.997 - ETA: 1:57 - loss: 0.0070 - acc: 0.997 - ETA: 1:57 - loss: 0.0070 - acc: 0.997 - ETA: 1:57 - loss: 0.0069 - acc: 0.997 - ETA: 1:57 - loss: 0.0069 - acc: 0.997 - ETA: 1:56 - loss: 0.0069 - acc: 0.998 - ETA: 1:56 - loss: 0.0068 - acc: 0.998 - ETA: 1:56 - loss: 0.0069 - acc: 0.997 - ETA: 1:56 - loss: 0.0071 - acc: 0.997 - ETA: 1:55 - loss: 0.0071 - acc: 0.997 - ETA: 1:55 - loss: 0.0071 - acc: 0.997 - ETA: 1:55 - loss: 0.0070 - acc: 0.997 - ETA: 1:55 - loss: 0.0070 - acc: 0.997 - ETA: 1:54 - loss: 0.0071 - acc: 0.997 - ETA: 1:54 - loss: 0.0073 - acc: 0.997 - ETA: 1:54 - loss: 0.0073 - acc: 0.997 - ETA: 1:53 - loss: 0.0073 - acc: 0.997 - ETA: 1:53 - loss: 0.0073 - acc: 0.997 - ETA: 1:53 - loss: 0.0073 - acc: 0.997 - ETA: 1:52 - loss: 0.0073 - acc: 0.997 - ETA: 1:52 - loss: 0.0073 - acc: 0.997 - ETA: 1:52 - loss: 0.0074 - acc: 0.997 - ETA: 1:52 - loss: 0.0074 - acc: 0.997 - ETA: 1:51 - loss: 0.0074 - acc: 0.997 - ETA: 1:51 - loss: 0.0074 - acc: 0.997 - ETA: 1:51 - loss: 0.0074 - acc: 0.997 - ETA: 1:50 - loss: 0.0075 - acc: 0.997 - ETA: 1:50 - loss: 0.0075 - acc: 0.997 - ETA: 1:50 - loss: 0.0075 - acc: 0.997 - ETA: 1:49 - loss: 0.0075 - acc: 0.997 - ETA: 1:49 - loss: 0.0075 - acc: 0.997 - ETA: 1:49 - loss: 0.0075 - acc: 0.997 - ETA: 1:48 - loss: 0.0075 - acc: 0.997 - ETA: 1:48 - loss: 0.0074 - acc: 0.997 - ETA: 1:48 - loss: 0.0073 - acc: 0.997 - ETA: 1:47 - loss: 0.0073 - acc: 0.997 - ETA: 1:47 - loss: 0.0073 - acc: 0.997 - ETA: 1:47 - loss: 0.0073 - acc: 0.997 - ETA: 1:46 - loss: 0.0074 - acc: 0.997 - ETA: 1:46 - loss: 0.0073 - acc: 0.997 - ETA: 1:46 - loss: 0.0073 - acc: 0.997 - ETA: 1:45 - loss: 0.0073 - acc: 0.997 - ETA: 1:45 - loss: 0.0073 - acc: 0.997 - ETA: 1:45 - loss: 0.0073 - acc: 0.997 - ETA: 1:44 - loss: 0.0072 - acc: 0.997 - ETA: 1:44 - loss: 0.0073 - acc: 0.997 - ETA: 1:44 - loss: 0.0073 - acc: 0.997 - ETA: 1:43 - loss: 0.0073 - acc: 0.997 - ETA: 1:43 - loss: 0.0074 - acc: 0.997 - ETA: 1:43 - loss: 0.0074 - acc: 0.997 - ETA: 1:42 - loss: 0.0074 - acc: 0.997 - ETA: 1:42 - loss: 0.0074 - acc: 0.997 - ETA: 1:42 - loss: 0.0074 - acc: 0.997 - ETA: 1:41 - loss: 0.0074 - acc: 0.997 - ETA: 1:41 - loss: 0.0074 - acc: 0.997 - ETA: 1:41 - loss: 0.0074 - acc: 0.997 - ETA: 1:40 - loss: 0.0074 - acc: 0.997 - ETA: 1:40 - loss: 0.0074 - acc: 0.997 - ETA: 1:40 - loss: 0.0074 - acc: 0.997 - ETA: 1:39 - loss: 0.0074 - acc: 0.997 - ETA: 1:39 - loss: 0.0074 - acc: 0.997 - ETA: 1:39 - loss: 0.0073 - acc: 0.997 - ETA: 1:38 - loss: 0.0073 - acc: 0.997 - ETA: 1:38 - loss: 0.0073 - acc: 0.997 - ETA: 1:38 - loss: 0.0073 - acc: 0.997 - ETA: 1:38 - loss: 0.0073 - acc: 0.997 - ETA: 1:37 - loss: 0.0073 - acc: 0.997 - ETA: 1:37 - loss: 0.0073 - acc: 0.997 - ETA: 1:37 - loss: 0.0072 - acc: 0.997 - ETA: 1:36 - loss: 0.0072 - acc: 0.997 - ETA: 1:36 - loss: 0.0073 - acc: 0.997 - ETA: 1:36 - loss: 0.0073 - acc: 0.997 - ETA: 1:35 - loss: 0.0072 - acc: 0.997 - ETA: 1:35 - loss: 0.0073 - acc: 0.997 - ETA: 1:35 - loss: 0.0073 - acc: 0.997 - ETA: 1:34 - loss: 0.0073 - acc: 0.997 - ETA: 1:34 - loss: 0.0073 - acc: 0.997 - ETA: 1:34 - loss: 0.0073 - acc: 0.997 - ETA: 1:33 - loss: 0.0074 - acc: 0.997 - ETA: 1:33 - loss: 0.0074 - acc: 0.997 - ETA: 1:33 - loss: 0.0074 - acc: 0.997 - ETA: 1:32 - loss: 0.0074 - acc: 0.997 - ETA: 1:32 - loss: 0.0074 - acc: 0.997 - ETA: 1:32 - loss: 0.0074 - acc: 0.997 - ETA: 1:31 - loss: 0.0074 - acc: 0.997 - ETA: 1:31 - loss: 0.0074 - acc: 0.997 - ETA: 1:31 - loss: 0.0074 - acc: 0.997 - ETA: 1:30 - loss: 0.0073 - acc: 0.997 - ETA: 1:30 - loss: 0.0073 - acc: 0.997 - ETA: 1:30 - loss: 0.0074 - acc: 0.997 - ETA: 1:30 - loss: 0.0073 - acc: 0.997 - ETA: 1:29 - loss: 0.0074 - acc: 0.997 - ETA: 1:29 - loss: 0.0073 - acc: 0.997 - ETA: 1:28 - loss: 0.0073 - acc: 0.997 - ETA: 1:28 - loss: 0.0073 - acc: 0.997 - ETA: 1:28 - loss: 0.0073 - acc: 0.997 - ETA: 1:28 - loss: 0.0073 - acc: 0.997 - ETA: 1:27 - loss: 0.0072 - acc: 0.997 - ETA: 1:27 - loss: 0.0072 - acc: 0.997 - ETA: 1:27 - loss: 0.0072 - acc: 0.997 - ETA: 1:26 - loss: 0.0072 - acc: 0.997 - ETA: 1:26 - loss: 0.0072 - acc: 0.997 - ETA: 1:26 - loss: 0.0072 - acc: 0.997 - ETA: 1:25 - loss: 0.0072 - acc: 0.997 - ETA: 1:25 - loss: 0.0072 - acc: 0.997 - ETA: 1:25 - loss: 0.0072 - acc: 0.997 - ETA: 1:24 - loss: 0.0072 - acc: 0.997 - ETA: 1:24 - loss: 0.0072 - acc: 0.997 - ETA: 1:24 - loss: 0.0072 - acc: 0.997 - ETA: 1:23 - loss: 0.0072 - acc: 0.997 - ETA: 1:23 - loss: 0.0071 - acc: 0.997 - ETA: 1:23 - loss: 0.0071 - acc: 0.997 - ETA: 1:22 - loss: 0.0071 - acc: 0.997 - ETA: 1:22 - loss: 0.0072 - acc: 0.997 - ETA: 1:22 - loss: 0.0072 - acc: 0.997 - ETA: 1:21 - loss: 0.0072 - acc: 0.997 - ETA: 1:21 - loss: 0.0073 - acc: 0.997 - ETA: 1:21 - loss: 0.0072 - acc: 0.997 - ETA: 1:20 - loss: 0.0073 - acc: 0.997 - ETA: 1:20 - loss: 0.0073 - acc: 0.997 - ETA: 1:20 - loss: 0.0073 - acc: 0.997 - ETA: 1:19 - loss: 0.0073 - acc: 0.997 - ETA: 1:19 - loss: 0.0073 - acc: 0.997 - ETA: 1:19 - loss: 0.0072 - acc: 0.997 - ETA: 1:18 - loss: 0.0072 - acc: 0.997 - ETA: 1:18 - loss: 0.0072 - acc: 0.997 - ETA: 1:18 - loss: 0.0072 - acc: 0.997 - ETA: 1:17 - loss: 0.0072 - acc: 0.997 - ETA: 1:17 - loss: 0.0072 - acc: 0.997 - ETA: 1:17 - loss: 0.0072 - acc: 0.997 - ETA: 1:17 - loss: 0.0072 - acc: 0.997 - ETA: 1:16 - loss: 0.0072 - acc: 0.997 - ETA: 1:16 - loss: 0.0072 - acc: 0.997 - ETA: 1:15 - loss: 0.0072 - acc: 0.997 - ETA: 1:15 - loss: 0.0072 - acc: 0.997 - ETA: 1:15 - loss: 0.0072 - acc: 0.997 - ETA: 1:15 - loss: 0.0072 - acc: 0.997 - ETA: 1:14 - loss: 0.0072 - acc: 0.997 - ETA: 1:14 - loss: 0.0072 - acc: 0.997 - ETA: 1:14 - loss: 0.0072 - acc: 0.997 - ETA: 1:13 - loss: 0.0072 - acc: 0.997 - ETA: 1:13 - loss: 0.0072 - acc: 0.997 - ETA: 1:13 - loss: 0.0072 - acc: 0.997 - ETA: 1:12 - loss: 0.0072 - acc: 0.997 - ETA: 1:12 - loss: 0.0072 - acc: 0.997 - ETA: 1:12 - loss: 0.0072 - acc: 0.997 - ETA: 1:11 - loss: 0.0072 - acc: 0.9979"
     ]
    },
    {
     "name": "stdout",
     "output_type": "stream",
     "text": [
      "13344/13654 [============================>.] - ETA: 1:11 - loss: 0.0072 - acc: 0.997 - ETA: 1:11 - loss: 0.0072 - acc: 0.997 - ETA: 1:10 - loss: 0.0072 - acc: 0.997 - ETA: 1:10 - loss: 0.0072 - acc: 0.997 - ETA: 1:10 - loss: 0.0071 - acc: 0.997 - ETA: 1:09 - loss: 0.0071 - acc: 0.997 - ETA: 1:09 - loss: 0.0071 - acc: 0.997 - ETA: 1:09 - loss: 0.0071 - acc: 0.997 - ETA: 1:08 - loss: 0.0071 - acc: 0.997 - ETA: 1:08 - loss: 0.0071 - acc: 0.997 - ETA: 1:08 - loss: 0.0071 - acc: 0.998 - ETA: 1:07 - loss: 0.0071 - acc: 0.998 - ETA: 1:07 - loss: 0.0071 - acc: 0.998 - ETA: 1:07 - loss: 0.0071 - acc: 0.998 - ETA: 1:06 - loss: 0.0071 - acc: 0.997 - ETA: 1:06 - loss: 0.0071 - acc: 0.998 - ETA: 1:06 - loss: 0.0071 - acc: 0.998 - ETA: 1:05 - loss: 0.0070 - acc: 0.998 - ETA: 1:05 - loss: 0.0071 - acc: 0.998 - ETA: 1:05 - loss: 0.0071 - acc: 0.998 - ETA: 1:04 - loss: 0.0071 - acc: 0.998 - ETA: 1:04 - loss: 0.0071 - acc: 0.998 - ETA: 1:04 - loss: 0.0071 - acc: 0.997 - ETA: 1:03 - loss: 0.0071 - acc: 0.997 - ETA: 1:03 - loss: 0.0071 - acc: 0.997 - ETA: 1:03 - loss: 0.0071 - acc: 0.997 - ETA: 1:03 - loss: 0.0071 - acc: 0.997 - ETA: 1:02 - loss: 0.0071 - acc: 0.997 - ETA: 1:02 - loss: 0.0071 - acc: 0.997 - ETA: 1:02 - loss: 0.0070 - acc: 0.998 - ETA: 1:01 - loss: 0.0070 - acc: 0.998 - ETA: 1:01 - loss: 0.0070 - acc: 0.998 - ETA: 1:01 - loss: 0.0070 - acc: 0.998 - ETA: 1:00 - loss: 0.0070 - acc: 0.998 - ETA: 1:00 - loss: 0.0070 - acc: 0.998 - ETA: 1:00 - loss: 0.0070 - acc: 0.998 - ETA: 59s - loss: 0.0070 - acc: 0.998 - ETA: 59s - loss: 0.0070 - acc: 0.99 - ETA: 59s - loss: 0.0071 - acc: 0.99 - ETA: 58s - loss: 0.0071 - acc: 0.99 - ETA: 58s - loss: 0.0070 - acc: 0.99 - ETA: 58s - loss: 0.0070 - acc: 0.99 - ETA: 57s - loss: 0.0070 - acc: 0.99 - ETA: 57s - loss: 0.0071 - acc: 0.99 - ETA: 57s - loss: 0.0071 - acc: 0.99 - ETA: 57s - loss: 0.0071 - acc: 0.99 - ETA: 56s - loss: 0.0071 - acc: 0.99 - ETA: 56s - loss: 0.0071 - acc: 0.99 - ETA: 56s - loss: 0.0071 - acc: 0.99 - ETA: 55s - loss: 0.0071 - acc: 0.99 - ETA: 55s - loss: 0.0071 - acc: 0.99 - ETA: 55s - loss: 0.0071 - acc: 0.99 - ETA: 54s - loss: 0.0071 - acc: 0.99 - ETA: 54s - loss: 0.0071 - acc: 0.99 - ETA: 54s - loss: 0.0071 - acc: 0.99 - ETA: 53s - loss: 0.0070 - acc: 0.99 - ETA: 53s - loss: 0.0070 - acc: 0.99 - ETA: 53s - loss: 0.0070 - acc: 0.99 - ETA: 52s - loss: 0.0070 - acc: 0.99 - ETA: 52s - loss: 0.0071 - acc: 0.99 - ETA: 52s - loss: 0.0070 - acc: 0.99 - ETA: 51s - loss: 0.0070 - acc: 0.99 - ETA: 51s - loss: 0.0071 - acc: 0.99 - ETA: 51s - loss: 0.0070 - acc: 0.99 - ETA: 50s - loss: 0.0070 - acc: 0.99 - ETA: 50s - loss: 0.0070 - acc: 0.99 - ETA: 50s - loss: 0.0070 - acc: 0.99 - ETA: 49s - loss: 0.0070 - acc: 0.99 - ETA: 49s - loss: 0.0070 - acc: 0.99 - ETA: 49s - loss: 0.0070 - acc: 0.99 - ETA: 48s - loss: 0.0070 - acc: 0.99 - ETA: 48s - loss: 0.0070 - acc: 0.99 - ETA: 48s - loss: 0.0070 - acc: 0.99 - ETA: 47s - loss: 0.0070 - acc: 0.99 - ETA: 47s - loss: 0.0070 - acc: 0.99 - ETA: 47s - loss: 0.0070 - acc: 0.99 - ETA: 46s - loss: 0.0070 - acc: 0.99 - ETA: 46s - loss: 0.0070 - acc: 0.99 - ETA: 46s - loss: 0.0070 - acc: 0.99 - ETA: 46s - loss: 0.0069 - acc: 0.99 - ETA: 45s - loss: 0.0069 - acc: 0.99 - ETA: 45s - loss: 0.0069 - acc: 0.99 - ETA: 45s - loss: 0.0069 - acc: 0.99 - ETA: 44s - loss: 0.0069 - acc: 0.99 - ETA: 44s - loss: 0.0069 - acc: 0.99 - ETA: 44s - loss: 0.0069 - acc: 0.99 - ETA: 43s - loss: 0.0069 - acc: 0.99 - ETA: 43s - loss: 0.0069 - acc: 0.99 - ETA: 43s - loss: 0.0069 - acc: 0.99 - ETA: 42s - loss: 0.0069 - acc: 0.99 - ETA: 42s - loss: 0.0069 - acc: 0.99 - ETA: 42s - loss: 0.0069 - acc: 0.99 - ETA: 41s - loss: 0.0069 - acc: 0.99 - ETA: 41s - loss: 0.0069 - acc: 0.99 - ETA: 41s - loss: 0.0068 - acc: 0.99 - ETA: 40s - loss: 0.0068 - acc: 0.99 - ETA: 40s - loss: 0.0068 - acc: 0.99 - ETA: 40s - loss: 0.0068 - acc: 0.99 - ETA: 39s - loss: 0.0068 - acc: 0.99 - ETA: 39s - loss: 0.0068 - acc: 0.99 - ETA: 39s - loss: 0.0068 - acc: 0.99 - ETA: 38s - loss: 0.0068 - acc: 0.99 - ETA: 38s - loss: 0.0068 - acc: 0.99 - ETA: 38s - loss: 0.0068 - acc: 0.99 - ETA: 37s - loss: 0.0068 - acc: 0.99 - ETA: 37s - loss: 0.0068 - acc: 0.99 - ETA: 37s - loss: 0.0068 - acc: 0.99 - ETA: 36s - loss: 0.0068 - acc: 0.99 - ETA: 36s - loss: 0.0068 - acc: 0.99 - ETA: 36s - loss: 0.0068 - acc: 0.99 - ETA: 36s - loss: 0.0069 - acc: 0.99 - ETA: 35s - loss: 0.0068 - acc: 0.99 - ETA: 35s - loss: 0.0068 - acc: 0.99 - ETA: 35s - loss: 0.0068 - acc: 0.99 - ETA: 34s - loss: 0.0068 - acc: 0.99 - ETA: 34s - loss: 0.0068 - acc: 0.99 - ETA: 34s - loss: 0.0068 - acc: 0.99 - ETA: 33s - loss: 0.0068 - acc: 0.99 - ETA: 33s - loss: 0.0068 - acc: 0.99 - ETA: 33s - loss: 0.0068 - acc: 0.99 - ETA: 32s - loss: 0.0068 - acc: 0.99 - ETA: 32s - loss: 0.0068 - acc: 0.99 - ETA: 32s - loss: 0.0068 - acc: 0.99 - ETA: 31s - loss: 0.0068 - acc: 0.99 - ETA: 31s - loss: 0.0068 - acc: 0.99 - ETA: 31s - loss: 0.0068 - acc: 0.99 - ETA: 30s - loss: 0.0068 - acc: 0.99 - ETA: 30s - loss: 0.0067 - acc: 0.99 - ETA: 30s - loss: 0.0067 - acc: 0.99 - ETA: 29s - loss: 0.0067 - acc: 0.99 - ETA: 29s - loss: 0.0068 - acc: 0.99 - ETA: 29s - loss: 0.0068 - acc: 0.99 - ETA: 28s - loss: 0.0068 - acc: 0.99 - ETA: 28s - loss: 0.0068 - acc: 0.99 - ETA: 28s - loss: 0.0068 - acc: 0.99 - ETA: 27s - loss: 0.0068 - acc: 0.99 - ETA: 27s - loss: 0.0068 - acc: 0.99 - ETA: 27s - loss: 0.0068 - acc: 0.99 - ETA: 26s - loss: 0.0068 - acc: 0.99 - ETA: 26s - loss: 0.0068 - acc: 0.99 - ETA: 26s - loss: 0.0068 - acc: 0.99 - ETA: 26s - loss: 0.0068 - acc: 0.99 - ETA: 25s - loss: 0.0068 - acc: 0.99 - ETA: 25s - loss: 0.0068 - acc: 0.99 - ETA: 25s - loss: 0.0068 - acc: 0.99 - ETA: 24s - loss: 0.0068 - acc: 0.99 - ETA: 24s - loss: 0.0068 - acc: 0.99 - ETA: 24s - loss: 0.0068 - acc: 0.99 - ETA: 23s - loss: 0.0068 - acc: 0.99 - ETA: 23s - loss: 0.0068 - acc: 0.99 - ETA: 23s - loss: 0.0068 - acc: 0.99 - ETA: 22s - loss: 0.0068 - acc: 0.99 - ETA: 22s - loss: 0.0068 - acc: 0.99 - ETA: 22s - loss: 0.0068 - acc: 0.99 - ETA: 21s - loss: 0.0068 - acc: 0.99 - ETA: 21s - loss: 0.0067 - acc: 0.99 - ETA: 21s - loss: 0.0067 - acc: 0.99 - ETA: 20s - loss: 0.0067 - acc: 0.99 - ETA: 20s - loss: 0.0067 - acc: 0.99 - ETA: 20s - loss: 0.0067 - acc: 0.99 - ETA: 19s - loss: 0.0067 - acc: 0.99 - ETA: 19s - loss: 0.0067 - acc: 0.99 - ETA: 19s - loss: 0.0067 - acc: 0.99 - ETA: 18s - loss: 0.0067 - acc: 0.99 - ETA: 18s - loss: 0.0067 - acc: 0.99 - ETA: 18s - loss: 0.0067 - acc: 0.99 - ETA: 17s - loss: 0.0067 - acc: 0.99 - ETA: 17s - loss: 0.0067 - acc: 0.99 - ETA: 17s - loss: 0.0067 - acc: 0.99 - ETA: 16s - loss: 0.0067 - acc: 0.99 - ETA: 16s - loss: 0.0067 - acc: 0.99 - ETA: 16s - loss: 0.0067 - acc: 0.99 - ETA: 16s - loss: 0.0067 - acc: 0.99 - ETA: 15s - loss: 0.0067 - acc: 0.99 - ETA: 15s - loss: 0.0067 - acc: 0.99 - ETA: 15s - loss: 0.0067 - acc: 0.99 - ETA: 14s - loss: 0.0067 - acc: 0.99 - ETA: 14s - loss: 0.0067 - acc: 0.99 - ETA: 14s - loss: 0.0067 - acc: 0.99 - ETA: 13s - loss: 0.0067 - acc: 0.99 - ETA: 13s - loss: 0.0067 - acc: 0.99 - ETA: 13s - loss: 0.0067 - acc: 0.99 - ETA: 12s - loss: 0.0067 - acc: 0.99 - ETA: 12s - loss: 0.0067 - acc: 0.99 - ETA: 12s - loss: 0.0067 - acc: 0.99 - ETA: 11s - loss: 0.0067 - acc: 0.99 - ETA: 11s - loss: 0.0067 - acc: 0.99 - ETA: 11s - loss: 0.0067 - acc: 0.99 - ETA: 10s - loss: 0.0067 - acc: 0.99 - ETA: 10s - loss: 0.0067 - acc: 0.99 - ETA: 10s - loss: 0.0067 - acc: 0.99 - ETA: 9s - loss: 0.0067 - acc: 0.9980 - ETA: 9s - loss: 0.0067 - acc: 0.998 - ETA: 9s - loss: 0.0067 - acc: 0.998 - ETA: 8s - loss: 0.0067 - acc: 0.998 - ETA: 8s - loss: 0.0067 - acc: 0.998 - ETA: 8s - loss: 0.0067 - acc: 0.998 - ETA: 7s - loss: 0.0067 - acc: 0.998 - ETA: 7s - loss: 0.0067 - acc: 0.998 - ETA: 7s - loss: 0.0067 - acc: 0.998 - ETA: 6s - loss: 0.0067 - acc: 0.998 - ETA: 6s - loss: 0.0067 - acc: 0.998 - ETA: 6s - loss: 0.0067 - acc: 0.998 - ETA: 6s - loss: 0.0067 - acc: 0.998 - ETA: 5s - loss: 0.0067 - acc: 0.998 - ETA: 5s - loss: 0.0067 - acc: 0.998 - ETA: 5s - loss: 0.0067 - acc: 0.998 - ETA: 4s - loss: 0.0067 - acc: 0.998 - ETA: 4s - loss: 0.0067 - acc: 0.998 - ETA: 4s - loss: 0.0067 - acc: 0.998 - ETA: 3s - loss: 0.0067 - acc: 0.998 - ETA: 3s - loss: 0.0066 - acc: 0.998 - ETA: 3s - loss: 0.0066 - acc: 0.9980"
     ]
    },
    {
     "name": "stdout",
     "output_type": "stream",
     "text": [
      "13654/13654 [==============================] - ETA: 2s - loss: 0.0066 - acc: 0.998 - ETA: 2s - loss: 0.0067 - acc: 0.998 - ETA: 2s - loss: 0.0067 - acc: 0.998 - ETA: 1s - loss: 0.0067 - acc: 0.998 - ETA: 1s - loss: 0.0066 - acc: 0.998 - ETA: 1s - loss: 0.0066 - acc: 0.998 - ETA: 0s - loss: 0.0066 - acc: 0.998 - ETA: 0s - loss: 0.0066 - acc: 0.998 - ETA: 0s - loss: 0.0066 - acc: 0.998 - 141s 10ms/step - loss: 0.0066 - acc: 0.9980 - val_loss: 0.0093 - val_acc: 0.9972\n",
      "Epoch 5/5\n"
     ]
    },
    {
     "name": "stdout",
     "output_type": "stream",
     "text": [
      " 6528/13654 [=============>................] - ETA: 2:19 - loss: 0.0059 - acc: 0.998 - ETA: 2:16 - loss: 0.0066 - acc: 0.998 - ETA: 2:16 - loss: 0.0049 - acc: 0.998 - ETA: 2:15 - loss: 0.0056 - acc: 0.998 - ETA: 2:14 - loss: 0.0051 - acc: 0.998 - ETA: 2:13 - loss: 0.0056 - acc: 0.998 - ETA: 2:13 - loss: 0.0051 - acc: 0.998 - ETA: 2:13 - loss: 0.0051 - acc: 0.998 - ETA: 2:12 - loss: 0.0052 - acc: 0.998 - ETA: 2:12 - loss: 0.0053 - acc: 0.998 - ETA: 2:12 - loss: 0.0050 - acc: 0.998 - ETA: 2:12 - loss: 0.0051 - acc: 0.998 - ETA: 2:11 - loss: 0.0050 - acc: 0.998 - ETA: 2:11 - loss: 0.0047 - acc: 0.998 - ETA: 2:11 - loss: 0.0046 - acc: 0.998 - ETA: 2:10 - loss: 0.0045 - acc: 0.998 - ETA: 2:10 - loss: 0.0047 - acc: 0.998 - ETA: 2:10 - loss: 0.0047 - acc: 0.998 - ETA: 2:09 - loss: 0.0051 - acc: 0.998 - ETA: 2:09 - loss: 0.0052 - acc: 0.998 - ETA: 2:09 - loss: 0.0050 - acc: 0.998 - ETA: 2:09 - loss: 0.0052 - acc: 0.998 - ETA: 2:08 - loss: 0.0053 - acc: 0.998 - ETA: 2:08 - loss: 0.0052 - acc: 0.998 - ETA: 2:08 - loss: 0.0051 - acc: 0.998 - ETA: 2:07 - loss: 0.0054 - acc: 0.998 - ETA: 2:07 - loss: 0.0056 - acc: 0.998 - ETA: 2:06 - loss: 0.0054 - acc: 0.998 - ETA: 2:06 - loss: 0.0053 - acc: 0.998 - ETA: 2:06 - loss: 0.0052 - acc: 0.998 - ETA: 2:05 - loss: 0.0055 - acc: 0.998 - ETA: 2:05 - loss: 0.0056 - acc: 0.998 - ETA: 2:05 - loss: 0.0056 - acc: 0.998 - ETA: 2:04 - loss: 0.0055 - acc: 0.998 - ETA: 2:04 - loss: 0.0055 - acc: 0.998 - ETA: 2:04 - loss: 0.0054 - acc: 0.998 - ETA: 2:04 - loss: 0.0053 - acc: 0.998 - ETA: 2:03 - loss: 0.0052 - acc: 0.998 - ETA: 2:03 - loss: 0.0054 - acc: 0.998 - ETA: 2:03 - loss: 0.0054 - acc: 0.998 - ETA: 2:02 - loss: 0.0054 - acc: 0.998 - ETA: 2:02 - loss: 0.0053 - acc: 0.998 - ETA: 2:02 - loss: 0.0054 - acc: 0.998 - ETA: 2:02 - loss: 0.0053 - acc: 0.998 - ETA: 2:01 - loss: 0.0053 - acc: 0.998 - ETA: 2:01 - loss: 0.0053 - acc: 0.998 - ETA: 2:01 - loss: 0.0052 - acc: 0.998 - ETA: 2:00 - loss: 0.0052 - acc: 0.998 - ETA: 2:00 - loss: 0.0052 - acc: 0.998 - ETA: 2:00 - loss: 0.0051 - acc: 0.998 - ETA: 1:59 - loss: 0.0051 - acc: 0.998 - ETA: 1:59 - loss: 0.0051 - acc: 0.998 - ETA: 1:59 - loss: 0.0051 - acc: 0.998 - ETA: 1:58 - loss: 0.0051 - acc: 0.998 - ETA: 1:58 - loss: 0.0051 - acc: 0.998 - ETA: 1:58 - loss: 0.0051 - acc: 0.998 - ETA: 1:58 - loss: 0.0050 - acc: 0.998 - ETA: 1:57 - loss: 0.0050 - acc: 0.998 - ETA: 1:57 - loss: 0.0051 - acc: 0.998 - ETA: 1:57 - loss: 0.0051 - acc: 0.998 - ETA: 1:56 - loss: 0.0050 - acc: 0.998 - ETA: 1:56 - loss: 0.0051 - acc: 0.998 - ETA: 1:56 - loss: 0.0051 - acc: 0.998 - ETA: 1:55 - loss: 0.0052 - acc: 0.998 - ETA: 1:55 - loss: 0.0052 - acc: 0.998 - ETA: 1:55 - loss: 0.0051 - acc: 0.998 - ETA: 1:55 - loss: 0.0051 - acc: 0.998 - ETA: 1:54 - loss: 0.0051 - acc: 0.998 - ETA: 1:54 - loss: 0.0051 - acc: 0.998 - ETA: 1:54 - loss: 0.0051 - acc: 0.998 - ETA: 1:53 - loss: 0.0051 - acc: 0.998 - ETA: 1:53 - loss: 0.0051 - acc: 0.998 - ETA: 1:53 - loss: 0.0051 - acc: 0.998 - ETA: 1:52 - loss: 0.0051 - acc: 0.998 - ETA: 1:52 - loss: 0.0051 - acc: 0.998 - ETA: 1:52 - loss: 0.0051 - acc: 0.998 - ETA: 1:51 - loss: 0.0051 - acc: 0.998 - ETA: 1:51 - loss: 0.0051 - acc: 0.998 - ETA: 1:51 - loss: 0.0051 - acc: 0.998 - ETA: 1:51 - loss: 0.0051 - acc: 0.998 - ETA: 1:50 - loss: 0.0050 - acc: 0.998 - ETA: 1:50 - loss: 0.0052 - acc: 0.998 - ETA: 1:50 - loss: 0.0051 - acc: 0.998 - ETA: 1:49 - loss: 0.0051 - acc: 0.998 - ETA: 1:49 - loss: 0.0052 - acc: 0.998 - ETA: 1:49 - loss: 0.0052 - acc: 0.998 - ETA: 1:48 - loss: 0.0053 - acc: 0.998 - ETA: 1:48 - loss: 0.0052 - acc: 0.998 - ETA: 1:48 - loss: 0.0052 - acc: 0.998 - ETA: 1:47 - loss: 0.0052 - acc: 0.998 - ETA: 1:47 - loss: 0.0052 - acc: 0.998 - ETA: 1:47 - loss: 0.0052 - acc: 0.998 - ETA: 1:47 - loss: 0.0052 - acc: 0.998 - ETA: 1:46 - loss: 0.0051 - acc: 0.998 - ETA: 1:46 - loss: 0.0051 - acc: 0.998 - ETA: 1:46 - loss: 0.0051 - acc: 0.998 - ETA: 1:45 - loss: 0.0051 - acc: 0.998 - ETA: 1:45 - loss: 0.0051 - acc: 0.998 - ETA: 1:45 - loss: 0.0051 - acc: 0.998 - ETA: 1:44 - loss: 0.0051 - acc: 0.998 - ETA: 1:44 - loss: 0.0051 - acc: 0.998 - ETA: 1:44 - loss: 0.0051 - acc: 0.998 - ETA: 1:43 - loss: 0.0051 - acc: 0.998 - ETA: 1:43 - loss: 0.0051 - acc: 0.998 - ETA: 1:43 - loss: 0.0050 - acc: 0.998 - ETA: 1:42 - loss: 0.0050 - acc: 0.998 - ETA: 1:42 - loss: 0.0051 - acc: 0.998 - ETA: 1:42 - loss: 0.0051 - acc: 0.998 - ETA: 1:42 - loss: 0.0051 - acc: 0.998 - ETA: 1:41 - loss: 0.0051 - acc: 0.998 - ETA: 1:41 - loss: 0.0051 - acc: 0.998 - ETA: 1:41 - loss: 0.0051 - acc: 0.998 - ETA: 1:40 - loss: 0.0051 - acc: 0.998 - ETA: 1:40 - loss: 0.0050 - acc: 0.998 - ETA: 1:40 - loss: 0.0050 - acc: 0.998 - ETA: 1:40 - loss: 0.0050 - acc: 0.998 - ETA: 1:39 - loss: 0.0050 - acc: 0.998 - ETA: 1:39 - loss: 0.0050 - acc: 0.998 - ETA: 1:39 - loss: 0.0050 - acc: 0.998 - ETA: 1:38 - loss: 0.0050 - acc: 0.998 - ETA: 1:38 - loss: 0.0050 - acc: 0.998 - ETA: 1:38 - loss: 0.0050 - acc: 0.998 - ETA: 1:37 - loss: 0.0049 - acc: 0.998 - ETA: 1:37 - loss: 0.0049 - acc: 0.998 - ETA: 1:37 - loss: 0.0049 - acc: 0.998 - ETA: 1:36 - loss: 0.0049 - acc: 0.998 - ETA: 1:36 - loss: 0.0049 - acc: 0.998 - ETA: 1:36 - loss: 0.0049 - acc: 0.998 - ETA: 1:35 - loss: 0.0049 - acc: 0.998 - ETA: 1:35 - loss: 0.0049 - acc: 0.998 - ETA: 1:35 - loss: 0.0049 - acc: 0.998 - ETA: 1:34 - loss: 0.0049 - acc: 0.998 - ETA: 1:34 - loss: 0.0048 - acc: 0.998 - ETA: 1:34 - loss: 0.0048 - acc: 0.998 - ETA: 1:33 - loss: 0.0048 - acc: 0.998 - ETA: 1:33 - loss: 0.0048 - acc: 0.998 - ETA: 1:33 - loss: 0.0049 - acc: 0.998 - ETA: 1:32 - loss: 0.0049 - acc: 0.998 - ETA: 1:32 - loss: 0.0050 - acc: 0.998 - ETA: 1:32 - loss: 0.0050 - acc: 0.998 - ETA: 1:32 - loss: 0.0050 - acc: 0.998 - ETA: 1:31 - loss: 0.0050 - acc: 0.998 - ETA: 1:31 - loss: 0.0050 - acc: 0.998 - ETA: 1:31 - loss: 0.0050 - acc: 0.998 - ETA: 1:30 - loss: 0.0050 - acc: 0.998 - ETA: 1:30 - loss: 0.0051 - acc: 0.998 - ETA: 1:30 - loss: 0.0051 - acc: 0.998 - ETA: 1:29 - loss: 0.0051 - acc: 0.998 - ETA: 1:29 - loss: 0.0051 - acc: 0.998 - ETA: 1:29 - loss: 0.0051 - acc: 0.998 - ETA: 1:28 - loss: 0.0051 - acc: 0.998 - ETA: 1:28 - loss: 0.0051 - acc: 0.998 - ETA: 1:28 - loss: 0.0051 - acc: 0.998 - ETA: 1:27 - loss: 0.0051 - acc: 0.998 - ETA: 1:27 - loss: 0.0051 - acc: 0.998 - ETA: 1:27 - loss: 0.0051 - acc: 0.998 - ETA: 1:26 - loss: 0.0051 - acc: 0.998 - ETA: 1:26 - loss: 0.0051 - acc: 0.998 - ETA: 1:26 - loss: 0.0051 - acc: 0.998 - ETA: 1:25 - loss: 0.0051 - acc: 0.998 - ETA: 1:25 - loss: 0.0051 - acc: 0.998 - ETA: 1:25 - loss: 0.0051 - acc: 0.998 - ETA: 1:25 - loss: 0.0051 - acc: 0.998 - ETA: 1:24 - loss: 0.0051 - acc: 0.998 - ETA: 1:24 - loss: 0.0051 - acc: 0.998 - ETA: 1:24 - loss: 0.0050 - acc: 0.998 - ETA: 1:23 - loss: 0.0050 - acc: 0.998 - ETA: 1:23 - loss: 0.0050 - acc: 0.998 - ETA: 1:23 - loss: 0.0050 - acc: 0.998 - ETA: 1:22 - loss: 0.0050 - acc: 0.998 - ETA: 1:22 - loss: 0.0050 - acc: 0.998 - ETA: 1:22 - loss: 0.0050 - acc: 0.998 - ETA: 1:21 - loss: 0.0050 - acc: 0.998 - ETA: 1:21 - loss: 0.0050 - acc: 0.998 - ETA: 1:21 - loss: 0.0050 - acc: 0.998 - ETA: 1:20 - loss: 0.0050 - acc: 0.998 - ETA: 1:20 - loss: 0.0050 - acc: 0.998 - ETA: 1:20 - loss: 0.0050 - acc: 0.998 - ETA: 1:19 - loss: 0.0050 - acc: 0.998 - ETA: 1:19 - loss: 0.0051 - acc: 0.998 - ETA: 1:19 - loss: 0.0051 - acc: 0.998 - ETA: 1:18 - loss: 0.0051 - acc: 0.998 - ETA: 1:18 - loss: 0.0051 - acc: 0.998 - ETA: 1:18 - loss: 0.0051 - acc: 0.998 - ETA: 1:18 - loss: 0.0051 - acc: 0.998 - ETA: 1:17 - loss: 0.0051 - acc: 0.998 - ETA: 1:17 - loss: 0.0051 - acc: 0.998 - ETA: 1:17 - loss: 0.0051 - acc: 0.998 - ETA: 1:16 - loss: 0.0051 - acc: 0.998 - ETA: 1:16 - loss: 0.0051 - acc: 0.998 - ETA: 1:16 - loss: 0.0051 - acc: 0.998 - ETA: 1:15 - loss: 0.0051 - acc: 0.998 - ETA: 1:15 - loss: 0.0051 - acc: 0.998 - ETA: 1:15 - loss: 0.0051 - acc: 0.998 - ETA: 1:14 - loss: 0.0052 - acc: 0.998 - ETA: 1:14 - loss: 0.0052 - acc: 0.998 - ETA: 1:14 - loss: 0.0052 - acc: 0.998 - ETA: 1:13 - loss: 0.0052 - acc: 0.998 - ETA: 1:13 - loss: 0.0052 - acc: 0.998 - ETA: 1:13 - loss: 0.0053 - acc: 0.998 - ETA: 1:12 - loss: 0.0053 - acc: 0.998 - ETA: 1:12 - loss: 0.0052 - acc: 0.998 - ETA: 1:12 - loss: 0.0052 - acc: 0.998 - ETA: 1:11 - loss: 0.0053 - acc: 0.9985"
     ]
    },
    {
     "name": "stdout",
     "output_type": "stream",
     "text": [
      "13344/13654 [============================>.] - ETA: 1:11 - loss: 0.0053 - acc: 0.998 - ETA: 1:11 - loss: 0.0053 - acc: 0.998 - ETA: 1:10 - loss: 0.0053 - acc: 0.998 - ETA: 1:10 - loss: 0.0052 - acc: 0.998 - ETA: 1:10 - loss: 0.0052 - acc: 0.998 - ETA: 1:09 - loss: 0.0052 - acc: 0.998 - ETA: 1:09 - loss: 0.0052 - acc: 0.998 - ETA: 1:09 - loss: 0.0052 - acc: 0.998 - ETA: 1:08 - loss: 0.0052 - acc: 0.998 - ETA: 1:08 - loss: 0.0052 - acc: 0.998 - ETA: 1:08 - loss: 0.0052 - acc: 0.998 - ETA: 1:07 - loss: 0.0052 - acc: 0.998 - ETA: 1:07 - loss: 0.0052 - acc: 0.998 - ETA: 1:07 - loss: 0.0053 - acc: 0.998 - ETA: 1:06 - loss: 0.0053 - acc: 0.998 - ETA: 1:06 - loss: 0.0053 - acc: 0.998 - ETA: 1:06 - loss: 0.0053 - acc: 0.998 - ETA: 1:06 - loss: 0.0053 - acc: 0.998 - ETA: 1:05 - loss: 0.0053 - acc: 0.998 - ETA: 1:05 - loss: 0.0053 - acc: 0.998 - ETA: 1:05 - loss: 0.0053 - acc: 0.998 - ETA: 1:04 - loss: 0.0053 - acc: 0.998 - ETA: 1:04 - loss: 0.0053 - acc: 0.998 - ETA: 1:04 - loss: 0.0053 - acc: 0.998 - ETA: 1:03 - loss: 0.0053 - acc: 0.998 - ETA: 1:03 - loss: 0.0053 - acc: 0.998 - ETA: 1:03 - loss: 0.0053 - acc: 0.998 - ETA: 1:02 - loss: 0.0053 - acc: 0.998 - ETA: 1:02 - loss: 0.0053 - acc: 0.998 - ETA: 1:02 - loss: 0.0053 - acc: 0.998 - ETA: 1:01 - loss: 0.0053 - acc: 0.998 - ETA: 1:01 - loss: 0.0053 - acc: 0.998 - ETA: 1:01 - loss: 0.0053 - acc: 0.998 - ETA: 1:00 - loss: 0.0053 - acc: 0.998 - ETA: 1:00 - loss: 0.0053 - acc: 0.998 - ETA: 1:00 - loss: 0.0053 - acc: 0.998 - ETA: 59s - loss: 0.0053 - acc: 0.998 - ETA: 59s - loss: 0.0053 - acc: 0.99 - ETA: 59s - loss: 0.0053 - acc: 0.99 - ETA: 58s - loss: 0.0053 - acc: 0.99 - ETA: 58s - loss: 0.0053 - acc: 0.99 - ETA: 58s - loss: 0.0053 - acc: 0.99 - ETA: 57s - loss: 0.0053 - acc: 0.99 - ETA: 57s - loss: 0.0053 - acc: 0.99 - ETA: 57s - loss: 0.0053 - acc: 0.99 - ETA: 56s - loss: 0.0053 - acc: 0.99 - ETA: 56s - loss: 0.0053 - acc: 0.99 - ETA: 56s - loss: 0.0053 - acc: 0.99 - ETA: 55s - loss: 0.0053 - acc: 0.99 - ETA: 55s - loss: 0.0053 - acc: 0.99 - ETA: 55s - loss: 0.0053 - acc: 0.99 - ETA: 55s - loss: 0.0053 - acc: 0.99 - ETA: 54s - loss: 0.0053 - acc: 0.99 - ETA: 54s - loss: 0.0053 - acc: 0.99 - ETA: 54s - loss: 0.0053 - acc: 0.99 - ETA: 53s - loss: 0.0053 - acc: 0.99 - ETA: 53s - loss: 0.0053 - acc: 0.99 - ETA: 53s - loss: 0.0053 - acc: 0.99 - ETA: 52s - loss: 0.0053 - acc: 0.99 - ETA: 52s - loss: 0.0053 - acc: 0.99 - ETA: 52s - loss: 0.0053 - acc: 0.99 - ETA: 51s - loss: 0.0053 - acc: 0.99 - ETA: 51s - loss: 0.0053 - acc: 0.99 - ETA: 51s - loss: 0.0053 - acc: 0.99 - ETA: 50s - loss: 0.0053 - acc: 0.99 - ETA: 50s - loss: 0.0053 - acc: 0.99 - ETA: 50s - loss: 0.0053 - acc: 0.99 - ETA: 49s - loss: 0.0053 - acc: 0.99 - ETA: 49s - loss: 0.0053 - acc: 0.99 - ETA: 49s - loss: 0.0053 - acc: 0.99 - ETA: 48s - loss: 0.0053 - acc: 0.99 - ETA: 48s - loss: 0.0053 - acc: 0.99 - ETA: 48s - loss: 0.0053 - acc: 0.99 - ETA: 47s - loss: 0.0053 - acc: 0.99 - ETA: 47s - loss: 0.0053 - acc: 0.99 - ETA: 47s - loss: 0.0053 - acc: 0.99 - ETA: 46s - loss: 0.0053 - acc: 0.99 - ETA: 46s - loss: 0.0053 - acc: 0.99 - ETA: 46s - loss: 0.0053 - acc: 0.99 - ETA: 46s - loss: 0.0053 - acc: 0.99 - ETA: 45s - loss: 0.0053 - acc: 0.99 - ETA: 45s - loss: 0.0053 - acc: 0.99 - ETA: 45s - loss: 0.0053 - acc: 0.99 - ETA: 44s - loss: 0.0053 - acc: 0.99 - ETA: 44s - loss: 0.0053 - acc: 0.99 - ETA: 44s - loss: 0.0053 - acc: 0.99 - ETA: 43s - loss: 0.0053 - acc: 0.99 - ETA: 43s - loss: 0.0053 - acc: 0.99 - ETA: 43s - loss: 0.0053 - acc: 0.99 - ETA: 42s - loss: 0.0053 - acc: 0.99 - ETA: 42s - loss: 0.0053 - acc: 0.99 - ETA: 42s - loss: 0.0053 - acc: 0.99 - ETA: 41s - loss: 0.0053 - acc: 0.99 - ETA: 41s - loss: 0.0053 - acc: 0.99 - ETA: 41s - loss: 0.0053 - acc: 0.99 - ETA: 40s - loss: 0.0053 - acc: 0.99 - ETA: 40s - loss: 0.0053 - acc: 0.99 - ETA: 40s - loss: 0.0053 - acc: 0.99 - ETA: 39s - loss: 0.0053 - acc: 0.99 - ETA: 39s - loss: 0.0053 - acc: 0.99 - ETA: 39s - loss: 0.0053 - acc: 0.99 - ETA: 38s - loss: 0.0053 - acc: 0.99 - ETA: 38s - loss: 0.0053 - acc: 0.99 - ETA: 38s - loss: 0.0053 - acc: 0.99 - ETA: 37s - loss: 0.0053 - acc: 0.99 - ETA: 37s - loss: 0.0053 - acc: 0.99 - ETA: 37s - loss: 0.0053 - acc: 0.99 - ETA: 37s - loss: 0.0053 - acc: 0.99 - ETA: 36s - loss: 0.0053 - acc: 0.99 - ETA: 36s - loss: 0.0053 - acc: 0.99 - ETA: 36s - loss: 0.0053 - acc: 0.99 - ETA: 35s - loss: 0.0053 - acc: 0.99 - ETA: 35s - loss: 0.0053 - acc: 0.99 - ETA: 35s - loss: 0.0053 - acc: 0.99 - ETA: 34s - loss: 0.0053 - acc: 0.99 - ETA: 34s - loss: 0.0053 - acc: 0.99 - ETA: 34s - loss: 0.0053 - acc: 0.99 - ETA: 33s - loss: 0.0053 - acc: 0.99 - ETA: 33s - loss: 0.0053 - acc: 0.99 - ETA: 33s - loss: 0.0053 - acc: 0.99 - ETA: 32s - loss: 0.0053 - acc: 0.99 - ETA: 32s - loss: 0.0053 - acc: 0.99 - ETA: 32s - loss: 0.0053 - acc: 0.99 - ETA: 31s - loss: 0.0053 - acc: 0.99 - ETA: 31s - loss: 0.0053 - acc: 0.99 - ETA: 31s - loss: 0.0053 - acc: 0.99 - ETA: 30s - loss: 0.0053 - acc: 0.99 - ETA: 30s - loss: 0.0053 - acc: 0.99 - ETA: 30s - loss: 0.0053 - acc: 0.99 - ETA: 29s - loss: 0.0052 - acc: 0.99 - ETA: 29s - loss: 0.0053 - acc: 0.99 - ETA: 29s - loss: 0.0053 - acc: 0.99 - ETA: 28s - loss: 0.0053 - acc: 0.99 - ETA: 28s - loss: 0.0053 - acc: 0.99 - ETA: 28s - loss: 0.0053 - acc: 0.99 - ETA: 27s - loss: 0.0052 - acc: 0.99 - ETA: 27s - loss: 0.0052 - acc: 0.99 - ETA: 27s - loss: 0.0052 - acc: 0.99 - ETA: 27s - loss: 0.0052 - acc: 0.99 - ETA: 26s - loss: 0.0052 - acc: 0.99 - ETA: 26s - loss: 0.0053 - acc: 0.99 - ETA: 26s - loss: 0.0053 - acc: 0.99 - ETA: 25s - loss: 0.0052 - acc: 0.99 - ETA: 25s - loss: 0.0052 - acc: 0.99 - ETA: 25s - loss: 0.0052 - acc: 0.99 - ETA: 24s - loss: 0.0052 - acc: 0.99 - ETA: 24s - loss: 0.0052 - acc: 0.99 - ETA: 24s - loss: 0.0052 - acc: 0.99 - ETA: 23s - loss: 0.0052 - acc: 0.99 - ETA: 23s - loss: 0.0052 - acc: 0.99 - ETA: 23s - loss: 0.0052 - acc: 0.99 - ETA: 22s - loss: 0.0052 - acc: 0.99 - ETA: 22s - loss: 0.0052 - acc: 0.99 - ETA: 22s - loss: 0.0052 - acc: 0.99 - ETA: 21s - loss: 0.0052 - acc: 0.99 - ETA: 21s - loss: 0.0052 - acc: 0.99 - ETA: 21s - loss: 0.0052 - acc: 0.99 - ETA: 20s - loss: 0.0052 - acc: 0.99 - ETA: 20s - loss: 0.0052 - acc: 0.99 - ETA: 20s - loss: 0.0052 - acc: 0.99 - ETA: 19s - loss: 0.0052 - acc: 0.99 - ETA: 19s - loss: 0.0052 - acc: 0.99 - ETA: 19s - loss: 0.0052 - acc: 0.99 - ETA: 18s - loss: 0.0051 - acc: 0.99 - ETA: 18s - loss: 0.0052 - acc: 0.99 - ETA: 18s - loss: 0.0052 - acc: 0.99 - ETA: 17s - loss: 0.0052 - acc: 0.99 - ETA: 17s - loss: 0.0052 - acc: 0.99 - ETA: 17s - loss: 0.0052 - acc: 0.99 - ETA: 17s - loss: 0.0052 - acc: 0.99 - ETA: 16s - loss: 0.0052 - acc: 0.99 - ETA: 16s - loss: 0.0052 - acc: 0.99 - ETA: 16s - loss: 0.0052 - acc: 0.99 - ETA: 15s - loss: 0.0052 - acc: 0.99 - ETA: 15s - loss: 0.0052 - acc: 0.99 - ETA: 15s - loss: 0.0052 - acc: 0.99 - ETA: 14s - loss: 0.0052 - acc: 0.99 - ETA: 14s - loss: 0.0052 - acc: 0.99 - ETA: 14s - loss: 0.0052 - acc: 0.99 - ETA: 13s - loss: 0.0052 - acc: 0.99 - ETA: 13s - loss: 0.0052 - acc: 0.99 - ETA: 13s - loss: 0.0052 - acc: 0.99 - ETA: 12s - loss: 0.0052 - acc: 0.99 - ETA: 12s - loss: 0.0052 - acc: 0.99 - ETA: 12s - loss: 0.0052 - acc: 0.99 - ETA: 11s - loss: 0.0052 - acc: 0.99 - ETA: 11s - loss: 0.0052 - acc: 0.99 - ETA: 11s - loss: 0.0053 - acc: 0.99 - ETA: 10s - loss: 0.0052 - acc: 0.99 - ETA: 10s - loss: 0.0052 - acc: 0.99 - ETA: 10s - loss: 0.0052 - acc: 0.99 - ETA: 9s - loss: 0.0052 - acc: 0.9984 - ETA: 9s - loss: 0.0052 - acc: 0.998 - ETA: 9s - loss: 0.0052 - acc: 0.998 - ETA: 8s - loss: 0.0052 - acc: 0.998 - ETA: 8s - loss: 0.0052 - acc: 0.998 - ETA: 8s - loss: 0.0052 - acc: 0.998 - ETA: 7s - loss: 0.0052 - acc: 0.998 - ETA: 7s - loss: 0.0052 - acc: 0.998 - ETA: 7s - loss: 0.0052 - acc: 0.998 - ETA: 7s - loss: 0.0052 - acc: 0.998 - ETA: 6s - loss: 0.0052 - acc: 0.998 - ETA: 6s - loss: 0.0052 - acc: 0.998 - ETA: 6s - loss: 0.0052 - acc: 0.998 - ETA: 5s - loss: 0.0052 - acc: 0.998 - ETA: 5s - loss: 0.0052 - acc: 0.998 - ETA: 5s - loss: 0.0052 - acc: 0.998 - ETA: 4s - loss: 0.0052 - acc: 0.998 - ETA: 4s - loss: 0.0052 - acc: 0.998 - ETA: 4s - loss: 0.0052 - acc: 0.998 - ETA: 3s - loss: 0.0052 - acc: 0.998 - ETA: 3s - loss: 0.0052 - acc: 0.998 - ETA: 3s - loss: 0.0052 - acc: 0.9985"
     ]
    },
    {
     "name": "stdout",
     "output_type": "stream",
     "text": [
      "13654/13654 [==============================] - ETA: 2s - loss: 0.0052 - acc: 0.998 - ETA: 2s - loss: 0.0052 - acc: 0.998 - ETA: 2s - loss: 0.0052 - acc: 0.998 - ETA: 1s - loss: 0.0052 - acc: 0.998 - ETA: 1s - loss: 0.0052 - acc: 0.998 - ETA: 1s - loss: 0.0052 - acc: 0.998 - ETA: 0s - loss: 0.0052 - acc: 0.998 - ETA: 0s - loss: 0.0052 - acc: 0.998 - ETA: 0s - loss: 0.0052 - acc: 0.998 - 141s 10ms/step - loss: 0.0052 - acc: 0.9985 - val_loss: 0.0077 - val_acc: 0.9978\n"
     ]
    }
   ],
   "source": [
    "history = model.fit(X_tr, np.array(y_tr), batch_size=32, epochs=5, validation_split=0.1, verbose=1)"
   ]
  },
  {
   "cell_type": "code",
   "execution_count": 37,
   "metadata": {},
   "outputs": [
    {
     "data": {
      "image/png": "[encoded data removed]",
      "text/plain": [
       "<Figure size 864x864 with 1 Axes>"
      ]
     },
     "metadata": {},
     "output_type": "display_data"
    }
   ],
   "source": [
    "hist = pd.DataFrame(history.history)\n",
    "plt.figure(figsize=(12,12))\n",
    "plt.plot(hist[\"acc\"])\n",
    "plt.plot(hist[\"val_acc\"])\n",
    "plt.show()"
   ]
  },
  {
   "cell_type": "code",
   "execution_count": 43,
   "metadata": {},
   "outputs": [
    {
     "name": "stdout",
     "output_type": "stream",
     "text": [
      "Word            (True ): Pred\n",
      "Ở              : O\n",
      "cửa_biển       : O\n",
      "sông           : LOCATION\n",
      "Ông_Đốc        : LOCATION\n",
      ",              : O\n",
      "huyện          : LOCATION\n",
      "Trần           : LOCATION\n",
      "Văn            : LOCATION\n",
      "Thời           : LOCATION\n",
      ",              : O\n",
      "số             : O\n",
      "trẻ            : O\n",
      "thất_học       : O\n",
      "vẫn            : O\n",
      "không          : O\n",
      "được           : O\n",
      "thống_kê       : O\n",
      ".              : O\n",
      "ENDPAD         : O\n",
      "ENDPAD         : O\n",
      "ENDPAD         : O\n",
      "ENDPAD         : O\n",
      "ENDPAD         : O\n",
      "ENDPAD         : O\n",
      "ENDPAD         : O\n",
      "ENDPAD         : O\n",
      "ENDPAD         : O\n",
      "ENDPAD         : O\n",
      "ENDPAD         : O\n",
      "ENDPAD         : O\n",
      "ENDPAD         : O\n",
      "ENDPAD         : O\n",
      "ENDPAD         : O\n",
      "ENDPAD         : O\n",
      "ENDPAD         : O\n",
      "ENDPAD         : O\n",
      "ENDPAD         : O\n",
      "ENDPAD         : O\n",
      "ENDPAD         : O\n",
      "ENDPAD         : O\n",
      "ENDPAD         : O\n",
      "ENDPAD         : O\n",
      "ENDPAD         : O\n",
      "ENDPAD         : O\n",
      "ENDPAD         : O\n",
      "ENDPAD         : O\n",
      "ENDPAD         : O\n",
      "ENDPAD         : O\n",
      "ENDPAD         : O\n",
      "ENDPAD         : O\n",
      "ENDPAD         : O\n",
      "ENDPAD         : O\n",
      "ENDPAD         : O\n",
      "ENDPAD         : O\n",
      "ENDPAD         : O\n",
      "ENDPAD         : O\n",
      "ENDPAD         : O\n",
      "ENDPAD         : O\n",
      "ENDPAD         : O\n",
      "ENDPAD         : O\n",
      "ENDPAD         : O\n",
      "ENDPAD         : O\n",
      "ENDPAD         : O\n",
      "ENDPAD         : O\n",
      "ENDPAD         : O\n",
      "ENDPAD         : O\n",
      "ENDPAD         : O\n",
      "ENDPAD         : O\n",
      "ENDPAD         : O\n",
      "ENDPAD         : O\n",
      "ENDPAD         : O\n",
      "ENDPAD         : O\n",
      "ENDPAD         : O\n",
      "ENDPAD         : O\n",
      "ENDPAD         : O\n",
      "ENDPAD         : O\n",
      "ENDPAD         : O\n",
      "ENDPAD         : O\n",
      "ENDPAD         : O\n",
      "ENDPAD         : O\n",
      "ENDPAD         : O\n",
      "ENDPAD         : O\n",
      "ENDPAD         : O\n",
      "ENDPAD         : O\n",
      "ENDPAD         : O\n",
      "ENDPAD         : O\n",
      "ENDPAD         : O\n",
      "ENDPAD         : O\n",
      "ENDPAD         : O\n",
      "ENDPAD         : O\n",
      "ENDPAD         : O\n",
      "ENDPAD         : O\n",
      "ENDPAD         : O\n",
      "ENDPAD         : O\n",
      "ENDPAD         : O\n",
      "ENDPAD         : O\n",
      "ENDPAD         : O\n",
      "ENDPAD         : O\n",
      "ENDPAD         : O\n",
      "ENDPAD         : O\n",
      "ENDPAD         : O\n",
      "ENDPAD         : O\n",
      "ENDPAD         : O\n",
      "ENDPAD         : O\n",
      "ENDPAD         : O\n",
      "ENDPAD         : O\n",
      "ENDPAD         : O\n",
      "ENDPAD         : O\n",
      "ENDPAD         : O\n",
      "ENDPAD         : O\n",
      "ENDPAD         : O\n",
      "ENDPAD         : O\n",
      "ENDPAD         : O\n",
      "ENDPAD         : O\n",
      "ENDPAD         : O\n",
      "ENDPAD         : O\n",
      "ENDPAD         : O\n",
      "ENDPAD         : O\n",
      "ENDPAD         : O\n",
      "ENDPAD         : O\n"
     ]
    }
   ],
   "source": [
    "i = 169\n",
    "p = model.predict(np.array([X_te[i]]))\n",
    "p = np.argmax(p, axis=-1)\n",
    "print(\"{:15} ({:5}): {}\".format(\"Word\", \"True\", \"Pred\"))\n",
    "for w, pred in zip(X_te[i], p[0]):\n",
    "    print(\"{:15}: {}\".format(words[w], tags[pred]))"
   ]
  },
  {
   "cell_type": "code",
   "execution_count": null,
   "metadata": {
    "collapsed": true
   },
   "outputs": [],
   "source": []
  }
 ],
 "metadata": {
  "kernelspec": {
   "display_name": "Python 3",
   "language": "python",
   "name": "python3"
  },
  "language_info": {
   "codemirror_mode": {
    "name": "ipython",
    "version": 3
   },
   "file_extension": ".py",
   "mimetype": "text/x-python",
   "name": "python",
   "nbconvert_exporter": "python",
   "pygments_lexer": "ipython3",
   "version": "3.6.3"
  }
 },
 "nbformat": 4,
 "nbformat_minor": 2
}
