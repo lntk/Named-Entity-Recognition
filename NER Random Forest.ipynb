{
 "cells": [
  {
   "cell_type": "code",
   "execution_count": 21,
   "metadata": {},
   "outputs": [],
   "source": [
    "# ignore warning\n",
    "def warn(*args, **kwargs):\n",
    "    pass\n",
    "import warnings\n",
    "warnings.warn = warn"
   ]
  },
  {
   "cell_type": "code",
   "execution_count": 22,
   "metadata": {},
   "outputs": [],
   "source": [
    "import pandas as pd\n",
    "import numpy as np\n",
    "from sklearn.ensemble import RandomForestClassifier\n",
    "from sklearn.preprocessing import LabelEncoder\n",
    "from sklearn.base import BaseEstimator, TransformerMixin\n",
    "from sklearn.cross_validation import cross_val_predict\n",
    "from sklearn.metrics import classification_report\n",
    "from sklearn.pipeline import Pipeline"
   ]
  },
  {
   "cell_type": "code",
   "execution_count": 23,
   "metadata": {},
   "outputs": [],
   "source": [
    "# Ánh xạ word -> feature vector\n",
    "def feature_map(word):\n",
    "    '''Simple feature map.'''\n",
    "    return np.array([word.istitle(), word.islower(), word.isupper(), len(word),\n",
    "                     word.isdigit(),  word.isalpha()])"
   ]
  },
  {
   "cell_type": "code",
   "execution_count": 24,
   "metadata": {},
   "outputs": [],
   "source": [
    "class MemoryTagger(BaseEstimator, TransformerMixin):\n",
    "    \n",
    "    def fit(self, X, y):\n",
    "        '''\n",
    "        Expects a list of words as X and a list of tags as y.\n",
    "        '''\n",
    "        voc = {} # là một dictionary ánh xạ: word -> từ điển đếm của những tag cửa word đó\n",
    "        self.tags = []\n",
    "        for x, t in zip(X, y):\n",
    "            if t not in self.tags:\n",
    "                # nếu list tag không chứa tag, thêm tag vào list\n",
    "                self.tags.append(t)\n",
    "            if x in voc:\n",
    "                if t in voc[x]:\n",
    "                    voc[x][t] += 1\n",
    "                else:\n",
    "                    voc[x][t] = 1\n",
    "            else:\n",
    "                voc[x] = {t: 1}\n",
    "        self.memory = {}\n",
    "        for k, d in voc.items():\n",
    "            self.memory[k] = max(d, key=d.get) # memory của một word là tag phổ biến nhất của word đó\n",
    "    \n",
    "    def predict(self, X, y=None):\n",
    "        '''\n",
    "        Predict the the tag from memory. If word is unknown, predict 'O'.\n",
    "        '''\n",
    "        return [self.memory.get(x, 'O') for x in X]"
   ]
  },
  {
   "cell_type": "code",
   "execution_count": 25,
   "metadata": {},
   "outputs": [
    {
     "data": {
      "text/html": [
       "<div>\n",
       "<style scoped>\n",
       "    .dataframe tbody tr th:only-of-type {\n",
       "        vertical-align: middle;\n",
       "    }\n",
       "\n",
       "    .dataframe tbody tr th {\n",
       "        vertical-align: top;\n",
       "    }\n",
       "\n",
       "    .dataframe thead th {\n",
       "        text-align: right;\n",
       "    }\n",
       "</style>\n",
       "<table border=\"1\" class=\"dataframe\">\n",
       "  <thead>\n",
       "    <tr style=\"text-align: right;\">\n",
       "      <th></th>\n",
       "      <th>Sentence #</th>\n",
       "      <th>Word</th>\n",
       "      <th>Tag</th>\n",
       "    </tr>\n",
       "  </thead>\n",
       "  <tbody>\n",
       "    <tr>\n",
       "      <th>369382</th>\n",
       "      <td>Sentence: 16858</td>\n",
       "      <td>vùng</td>\n",
       "      <td>O</td>\n",
       "    </tr>\n",
       "    <tr>\n",
       "      <th>369383</th>\n",
       "      <td>Sentence: 16858</td>\n",
       "      <td>chôn_cất</td>\n",
       "      <td>O</td>\n",
       "    </tr>\n",
       "    <tr>\n",
       "      <th>369384</th>\n",
       "      <td>Sentence: 16858</td>\n",
       "      <td>người_thân</td>\n",
       "      <td>O</td>\n",
       "    </tr>\n",
       "    <tr>\n",
       "      <th>369385</th>\n",
       "      <td>Sentence: 16858</td>\n",
       "      <td>khi</td>\n",
       "      <td>O</td>\n",
       "    </tr>\n",
       "    <tr>\n",
       "      <th>369386</th>\n",
       "      <td>Sentence: 16858</td>\n",
       "      <td>qua_đời</td>\n",
       "      <td>O</td>\n",
       "    </tr>\n",
       "    <tr>\n",
       "      <th>369387</th>\n",
       "      <td>Sentence: 16858</td>\n",
       "      <td>,</td>\n",
       "      <td>O</td>\n",
       "    </tr>\n",
       "    <tr>\n",
       "      <th>369388</th>\n",
       "      <td>Sentence: 16858</td>\n",
       "      <td>gọi</td>\n",
       "      <td>O</td>\n",
       "    </tr>\n",
       "    <tr>\n",
       "      <th>369389</th>\n",
       "      <td>Sentence: 16858</td>\n",
       "      <td>là</td>\n",
       "      <td>O</td>\n",
       "    </tr>\n",
       "    <tr>\n",
       "      <th>369390</th>\n",
       "      <td>Sentence: 16858</td>\n",
       "      <td>nhị_tì</td>\n",
       "      <td>O</td>\n",
       "    </tr>\n",
       "    <tr>\n",
       "      <th>369391</th>\n",
       "      <td>Sentence: 16858</td>\n",
       "      <td>...</td>\n",
       "      <td>O</td>\n",
       "    </tr>\n",
       "  </tbody>\n",
       "</table>\n",
       "</div>"
      ],
      "text/plain": [
       "             Sentence #        Word Tag\n",
       "369382  Sentence: 16858        vùng   O\n",
       "369383  Sentence: 16858    chôn_cất   O\n",
       "369384  Sentence: 16858  người_thân   O\n",
       "369385  Sentence: 16858         khi   O\n",
       "369386  Sentence: 16858     qua_đời   O\n",
       "369387  Sentence: 16858           ,   O\n",
       "369388  Sentence: 16858         gọi   O\n",
       "369389  Sentence: 16858          là   O\n",
       "369390  Sentence: 16858      nhị_tì   O\n",
       "369391  Sentence: 16858         ...   O"
      ]
     },
     "execution_count": 25,
     "metadata": {},
     "output_type": "execute_result"
    }
   ],
   "source": [
    "data = pd.read_csv(\"data/ner_dataset.csv\", encoding=\"utf-8\")\n",
    "data = data.fillna(method=\"ffill\")\n",
    "data.tail(10)"
   ]
  },
  {
   "cell_type": "code",
   "execution_count": 26,
   "metadata": {},
   "outputs": [
    {
     "name": "stdout",
     "output_type": "stream",
     "text": [
      "              precision    recall  f1-score   support\n",
      "\n",
      "    LOCATION       0.71      0.49      0.58      9028\n",
      "        MISC       0.00      0.00      0.00       561\n",
      "           O       0.97      0.99      0.98    345533\n",
      "ORGANIZATION       0.19      0.00      0.01      3268\n",
      "      PERSON       0.57      0.45      0.50     11002\n",
      "\n",
      " avg / total       0.94      0.95      0.94    369392\n",
      "\n"
     ]
    }
   ],
   "source": [
    "words = [feature_map(w) for w in data[\"Word\"].values.tolist()]\n",
    "tags = data[\"Tag\"].values.tolist()\n",
    "pred = cross_val_predict(RandomForestClassifier(n_estimators=20), X=words, y=tags, cv=5)\n",
    "\n",
    "report = classification_report(y_pred=pred, y_true=tags)\n",
    "print(report)"
   ]
  },
  {
   "cell_type": "code",
   "execution_count": 27,
   "metadata": {},
   "outputs": [],
   "source": [
    "class FeatureTransformer(BaseEstimator, TransformerMixin):\n",
    "    \n",
    "    def __init__(self):\n",
    "        self.memory_tagger = MemoryTagger()\n",
    "        self.tag_encoder = LabelEncoder()\n",
    "        \n",
    "    def fit(self, X, y):\n",
    "        words = X[\"Word\"].values.tolist()\n",
    "        tags = X[\"Tag\"].values.tolist()\n",
    "        self.memory_tagger.fit(words, tags)\n",
    "        self.tag_encoder.fit(tags)\n",
    "        return self\n",
    "    \n",
    "    def transform(self, X, y=None):\n",
    "        words = X[\"Word\"].values.tolist()\n",
    "        out = []\n",
    "        for i in range(len(words)):\n",
    "            w = words[i]\n",
    "            if i < len(words) - 1:\n",
    "                wp = self.tag_encoder.transform(self.memory_tagger.predict([words[i+1]]))[0]\n",
    "            else:\n",
    "                wp = self.tag_encoder.transform(['O'])[0]\n",
    "            if i > 0:\n",
    "                if words[i-1] != \".\":\n",
    "                    wm = self.tag_encoder.transform(self.memory_tagger.predict([words[i-1]]))[0]\n",
    "                else:\n",
    "                    wm = self.tag_encoder.transform(['O'])[0]\n",
    "            else:\n",
    "                wm = self.tag_encoder.transform(['O'])[0]\n",
    "            out.append(np.array([w.istitle(), w.islower(), w.isupper(), len(w), w.isdigit(), w.isalpha(), wp, wm]))\n",
    "        return out"
   ]
  },
  {
   "cell_type": "code",
   "execution_count": 28,
   "metadata": {},
   "outputs": [
    {
     "name": "stdout",
     "output_type": "stream",
     "text": [
      "              precision    recall  f1-score   support\n",
      "\n",
      "    LOCATION       0.72      0.56      0.63      9028\n",
      "        MISC       0.86      0.13      0.22       561\n",
      "           O       0.97      1.00      0.98    345533\n",
      "ORGANIZATION       0.66      0.31      0.42      3268\n",
      "      PERSON       0.85      0.48      0.61     11002\n",
      "\n",
      " avg / total       0.96      0.96      0.96    369392\n",
      "\n"
     ]
    }
   ],
   "source": [
    "pred = cross_val_predict(Pipeline([(\"feature_map\", FeatureTransformer()), \n",
    "                                   (\"clf\", RandomForestClassifier(n_estimators=20, n_jobs=3))]),\n",
    "                         X=data, y=tags, cv=5)\n",
    "\n",
    "report = classification_report(y_pred=pred, y_true=tags)\n",
    "print(report)"
   ]
  },
  {
   "cell_type": "code",
   "execution_count": null,
   "metadata": {},
   "outputs": [],
   "source": []
  }
 ],
 "metadata": {
  "kernelspec": {
   "display_name": "Python 3",
   "language": "python",
   "name": "python3"
  },
  "language_info": {
   "codemirror_mode": {
    "name": "ipython",
    "version": 3
   },
   "file_extension": ".py",
   "mimetype": "text/x-python",
   "name": "python",
   "nbconvert_exporter": "python",
   "pygments_lexer": "ipython3",
   "version": "3.5.4"
  }
 },
 "nbformat": 4,
 "nbformat_minor": 2
}
